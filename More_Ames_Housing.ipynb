{
  "nbformat": 4,
  "nbformat_minor": 0,
  "metadata": {
    "colab": {
      "name": "More_Ames_Housing.ipynb",
      "version": "0.3.2",
      "provenance": [],
      "collapsed_sections": [],
      "include_colab_link": true
    },
    "kernelspec": {
      "display_name": "Python 3",
      "language": "python",
      "name": "python3"
    }
  },
  "cells": [
    {
      "cell_type": "markdown",
      "metadata": {
        "id": "view-in-github",
        "colab_type": "text"
      },
      "source": [
        "<a href=\"https://colab.research.google.com/github/rmorlowski/Regression-Analysis-and-Multivariate-Methods/blob/master/More_Ames_Housing.ipynb\" target=\"_parent\"><img src=\"https://colab.research.google.com/assets/colab-badge.svg\" alt=\"Open In Colab\"/></a>"
      ]
    },
    {
      "metadata": {
        "id": "rjAUU00AkE3P",
        "colab_type": "text"
      },
      "cell_type": "markdown",
      "source": [
        "##  More Ames Housing Data"
      ]
    },
    {
      "metadata": {
        "id": "Xg4PfCM2kPiQ",
        "colab_type": "text"
      },
      "cell_type": "markdown",
      "source": [
        "The deliverable is to analyze housing data from the Ames train dataset to predict the sale price (in dollars) of the Ames test dataset. This will be accomplished by generating multiple regression models using different variable selection techniques including, but not limited to, Forward, Stepwise and chi-square feature selection. From these techniques, the best model will be selected. The best model will then be further analyzed to determine if it is an adequate model to predict or if further analysis or data transformation is necessary."
      ]
    },
    {
      "metadata": {
        "id": "o8Z7C2t9kQTA",
        "colab_type": "text"
      },
      "cell_type": "markdown",
      "source": [
        "See link to kaggle competition:\n",
        "[Kaggle Competition](https://www.kaggle.com/c/ames-housing-data-summer-2018)\n",
        "\n",
        "**Note: ** Winning model for the class #1 on leaderboard"
      ]
    },
    {
      "metadata": {
        "id": "Jz0cR_LikC3n",
        "colab_type": "code",
        "colab": {
          "base_uri": "https://localhost:8080/",
          "height": 71
        },
        "outputId": "d27759fe-edfb-4be0-d325-51a574e43680"
      },
      "cell_type": "code",
      "source": [
        "#import some packages you will be using\n",
        "import pandas as pd\n",
        "import pandas_profiling\n",
        "import numpy as np\n",
        "import statsmodels.api as sm\n",
        "import statsmodels.formula.api as smf  \n",
        "import matplotlib.pyplot as plt \n",
        "import scipy as scipy\n",
        "from scipy import stats\n",
        "from sklearn import linear_model, metrics\n",
        "from sklearn.model_selection import cross_val_score, train_test_split\n",
        "from sklearn.metrics import mean_squared_error, make_scorer\n",
        "from sklearn.linear_model import LinearRegression, RidgeCV\n",
        " \n",
        "get_ipython().magic(u'matplotlib inline')\n",
        "import matplotlib.pyplot as plt\n",
        "import seaborn as sns"
      ],
      "execution_count": 1,
      "outputs": [
        {
          "output_type": "stream",
          "text": [
            "/usr/local/lib/python3.6/dist-packages/statsmodels/compat/pandas.py:56: FutureWarning: The pandas.core.datetools module is deprecated and will be removed in a future version. Please use the pandas.tseries module instead.\n",
            "  from pandas.core import datetools\n"
          ],
          "name": "stderr"
        }
      ]
    },
    {
      "metadata": {
        "id": "3HGAL0CekC3r",
        "colab_type": "code",
        "colab": {}
      },
      "cell_type": "code",
      "source": [
        "#set some options for the output\n",
        "pd.set_option('display.notebook_repr_html', False) \n",
        "pd.set_option('display.max_columns', 40) \n",
        "pd.set_option('display.max_rows', 10) \n",
        "pd.set_option('display.width', 120)"
      ],
      "execution_count": 0,
      "outputs": []
    },
    {
      "metadata": {
        "id": "Dx3SXRK6kWfx",
        "colab_type": "code",
        "colab": {
          "resources": {
            "http://localhost:8080/nbextensions/google.colab/files.js": {
              "data": "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",
              "ok": true,
              "headers": [
                [
                  "content-type",
                  "application/javascript"
                ]
              ],
              "status": 200,
              "status_text": ""
            }
          },
          "base_uri": "https://localhost:8080/",
          "height": 71
        },
        "outputId": "72094f1b-99f2-4b4d-c7de-cd3ad7aeb6e5"
      },
      "cell_type": "code",
      "source": [
        "# Import file to google colaboratory\n",
        "from google.colab import files\n",
        "# upload the train dataset\n",
        "uploaded = files.upload()"
      ],
      "execution_count": 3,
      "outputs": [
        {
          "output_type": "display_data",
          "data": {
            "text/html": [
              "\n",
              "     <input type=\"file\" id=\"files-25c166d3-9d5e-480b-8ef9-63ace6790f24\" name=\"files[]\" multiple disabled />\n",
              "     <output id=\"result-25c166d3-9d5e-480b-8ef9-63ace6790f24\">\n",
              "      Upload widget is only available when the cell has been executed in the\n",
              "      current browser session. Please rerun this cell to enable.\n",
              "      </output>\n",
              "      <script src=\"/nbextensions/google.colab/files.js\"></script> "
            ],
            "text/plain": [
              "<IPython.core.display.HTML object>"
            ]
          },
          "metadata": {
            "tags": []
          }
        },
        {
          "output_type": "stream",
          "text": [
            "Saving AMES_TRAIN.csv to AMES_TRAIN (1).csv\n"
          ],
          "name": "stdout"
        }
      ]
    },
    {
      "metadata": {
        "id": "ColQzS7AkWox",
        "colab_type": "code",
        "colab": {}
      },
      "cell_type": "code",
      "source": [
        "import io\n",
        "#read in the datasets\n",
        "train = pd.read_csv('AMES_TRAIN.csv')"
      ],
      "execution_count": 0,
      "outputs": []
    },
    {
      "metadata": {
        "id": "62PRhovKkWtS",
        "colab_type": "code",
        "colab": {
          "resources": {
            "http://localhost:8080/nbextensions/google.colab/files.js": {
              "data": "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",
              "ok": true,
              "headers": [
                [
                  "content-type",
                  "application/javascript"
                ]
              ],
              "status": 200,
              "status_text": ""
            }
          },
          "base_uri": "https://localhost:8080/",
          "height": 71
        },
        "outputId": "ea9bad5b-ce8f-45a5-ba1a-908babc82b0b"
      },
      "cell_type": "code",
      "source": [
        "# Import file to google colaboratory\n",
        "# upload the test dataset\n",
        "uploaded = files.upload()"
      ],
      "execution_count": 5,
      "outputs": [
        {
          "output_type": "display_data",
          "data": {
            "text/html": [
              "\n",
              "     <input type=\"file\" id=\"files-c59690ce-bede-41e3-a076-026ab69d2cae\" name=\"files[]\" multiple disabled />\n",
              "     <output id=\"result-c59690ce-bede-41e3-a076-026ab69d2cae\">\n",
              "      Upload widget is only available when the cell has been executed in the\n",
              "      current browser session. Please rerun this cell to enable.\n",
              "      </output>\n",
              "      <script src=\"/nbextensions/google.colab/files.js\"></script> "
            ],
            "text/plain": [
              "<IPython.core.display.HTML object>"
            ]
          },
          "metadata": {
            "tags": []
          }
        },
        {
          "output_type": "stream",
          "text": [
            "Saving AMES_TEST_SFAM.csv to AMES_TEST_SFAM (1).csv\n"
          ],
          "name": "stdout"
        }
      ]
    },
    {
      "metadata": {
        "id": "wJLJd8cbkC3u",
        "colab_type": "code",
        "colab": {}
      },
      "cell_type": "code",
      "source": [
        "#read in the datasets\n",
        "test = pd.read_csv('AMES_TEST_SFAM.csv')\n"
      ],
      "execution_count": 0,
      "outputs": []
    },
    {
      "metadata": {
        "id": "6LVr4f2okC3x",
        "colab_type": "code",
        "colab": {}
      },
      "cell_type": "code",
      "source": [
        "#A good step to take is to convert all variable names to lower case\n",
        "train.columns = [s.lower() for s in train.columns]\n",
        "test.columns = [s.lower() for s in test.columns]"
      ],
      "execution_count": 0,
      "outputs": []
    },
    {
      "metadata": {
        "scrolled": false,
        "id": "I-m4RZ2hkC3z",
        "colab_type": "code",
        "colab": {
          "base_uri": "https://localhost:8080/",
          "height": 68
        },
        "outputId": "86f81f62-25ab-47b6-c7b0-01ac2fa26c41"
      },
      "cell_type": "code",
      "source": [
        "print('')\n",
        "print('----- Data Preprocessing -----')\n",
        "print('')"
      ],
      "execution_count": 10,
      "outputs": [
        {
          "output_type": "stream",
          "text": [
            "\n",
            "----- Data Preprocessing -----\n",
            "\n"
          ],
          "name": "stdout"
        }
      ]
    },
    {
      "metadata": {
        "id": "FwIXMWACk9B7",
        "colab_type": "code",
        "colab": {
          "base_uri": "https://localhost:8080/",
          "height": 34
        },
        "outputId": "a9d4f906-0006-427b-814e-9258a2269bd5"
      },
      "cell_type": "code",
      "source": [
        "#Do we have missing values? \n",
        "datasetHasNan = False\n",
        "if train.count().min() == train.shape[0] and test.count().min() == test.shape[0] :\n",
        "    print('We do not need to worry about missing values.') \n",
        "else:\n",
        "    datasetHasNan = True\n",
        "    print('oops we have nan')"
      ],
      "execution_count": 11,
      "outputs": [
        {
          "output_type": "stream",
          "text": [
            "oops we have nan\n"
          ],
          "name": "stdout"
        }
      ]
    },
    {
      "metadata": {
        "id": "iCWbpAtgk9PE",
        "colab_type": "code",
        "colab": {
          "base_uri": "https://localhost:8080/",
          "height": 102
        },
        "outputId": "b693ff85-3444-4b63-fec5-444c03a8d541"
      },
      "cell_type": "code",
      "source": [
        "print('----train dataset column types information-------')\n",
        "dtype_df = train.dtypes.reset_index()\n",
        "dtype_df.columns = [\"Count\", \"Column Type\"]\n",
        "dtype_df.groupby(\"Column Type\").aggregate('count').reset_index()"
      ],
      "execution_count": 12,
      "outputs": [
        {
          "output_type": "stream",
          "text": [
            "----train dataset column types information-------\n"
          ],
          "name": "stdout"
        },
        {
          "output_type": "execute_result",
          "data": {
            "text/plain": [
              "  Column Type  Count\n",
              "0       int64     29\n",
              "1     float64      9\n",
              "2      object     43"
            ]
          },
          "metadata": {
            "tags": []
          },
          "execution_count": 12
        }
      ]
    },
    {
      "metadata": {
        "id": "_HbfSEFgkC34",
        "colab_type": "code",
        "colab": {
          "base_uri": "https://localhost:8080/",
          "height": 272
        },
        "outputId": "d6bfb4f2-0888-4184-a7ba-20ad5626e981"
      },
      "cell_type": "code",
      "source": [
        "#Check for missing data & list them \n",
        "if datasetHasNan == True:\n",
        "    nas = pd.concat([train.isnull().sum(), test.isnull().sum()], axis=1, keys=['Train Dataset', 'Test Dataset']) \n",
        "    print('Nan in the data sets')\n",
        "    print(nas[nas.sum(axis=1) > 0])"
      ],
      "execution_count": 13,
      "outputs": [
        {
          "output_type": "stream",
          "text": [
            "Nan in the data sets\n",
            "              Train Dataset  Test Dataset\n",
            "alley                1893.0           690\n",
            "bsmtcond               54.0            12\n",
            "bsmtexposure           56.0            13\n",
            "bsmtfinsf1              1.0             0\n",
            "bsmtfinsf2              1.0             0\n",
            "...                     ...           ...\n",
            "miscfeature          1963.0           698\n",
            "p_saleprice             NaN           726\n",
            "poolqc               2028.0           724\n",
            "saleprice               0.0           726\n",
            "totalbsmtsf             1.0             0\n",
            "\n",
            "[29 rows x 2 columns]\n"
          ],
          "name": "stdout"
        }
      ]
    },
    {
      "metadata": {
        "id": "HK2ZzHFBkC38",
        "colab_type": "code",
        "colab": {
          "base_uri": "https://localhost:8080/",
          "height": 238
        },
        "outputId": "d22f451a-acc0-45b2-d74f-50ada086a61c"
      },
      "cell_type": "code",
      "source": [
        "#watch your record count and fix records with missing NaN data\n",
        "print (train.shape)\n",
        "train.isnull().sum()\n",
        "train[train == 0].count()"
      ],
      "execution_count": 14,
      "outputs": [
        {
          "output_type": "stream",
          "text": [
            "(2039, 81)\n"
          ],
          "name": "stdout"
        },
        {
          "output_type": "execute_result",
          "data": {
            "text/plain": [
              "subclass         0\n",
              "zoning           0\n",
              "lotfrontage      0\n",
              "lotarea          0\n",
              "street           0\n",
              "                ..\n",
              "yrsold           0\n",
              "saletype         0\n",
              "salecondition    0\n",
              "saleprice        0\n",
              "index            0\n",
              "Length: 81, dtype: int64"
            ]
          },
          "metadata": {
            "tags": []
          },
          "execution_count": 14
        }
      ]
    },
    {
      "metadata": {
        "id": "wW_GIqEikC3_",
        "colab_type": "code",
        "colab": {}
      },
      "cell_type": "code",
      "source": [
        "#Fill missing values with NA per data dictionary\n",
        "train.loc[:, \"alley\"] = train.loc[:, \"alley\"].fillna(\"NA\")\n",
        "train.loc[:, \"bsmtcond\"] = train.loc[:, \"bsmtcond\"].fillna(\"NA\")\n",
        "train.loc[:, \"bsmtexposure\"] = train.loc[:, \"bsmtexposure\"].fillna(\"NA\")\n",
        "train.loc[:, \"bsmtfintype1\"] = train.loc[:, \"bsmtfintype1\"].fillna(\"NA\")\n",
        "train.loc[:, \"bsmtfintype2\"] = train.loc[:, \"bsmtfintype2\"].fillna(\"NA\")\n",
        "train.loc[:, \"bsmtqual\"] = train.loc[:, \"bsmtqual\"].fillna(\"NA\")\n",
        "train.loc[:, \"fence\"] = train.loc[:, \"fence\"].fillna(\"NA\")\n",
        "train.loc[:, \"fireplacequ\"] = train.loc[:, \"fireplacequ\"].fillna(\"NA\")\n",
        "train.loc[:, \"garagecond\"] = train.loc[:, \"garagecond\"].fillna(\"NA\")\n",
        "train.loc[:, \"garagefinish\"] = train.loc[:, \"garagefinish\"].fillna(\"NA\")\n",
        "train.loc[:, \"garagequal\"] = train.loc[:, \"garagequal\"].fillna(\"NA\")\n",
        "train.loc[:, \"garagetype\"] = train.loc[:, \"garagetype\"].fillna(\"NA\")\n",
        "train.loc[:, \"miscfeature\"] = train.loc[:, \"miscfeature\"].fillna(\"NA\")\n",
        "train.loc[:, \"poolqc\"] = train.loc[:, \"poolqc\"].fillna(\"NA\")\n",
        "\n",
        "#most common value\n",
        "train.loc[:, \"electrical\"] = train.loc[:, \"electrical\"].fillna(\"SBrkr\")\n",
        "train.loc[:, \"masvnrtype\"] = train.loc[:, \"masvnrtype\"].fillna(\"None\")\n",
        "\n",
        "# handle missing values for features where median/mean or most common value doesn't make sense\n",
        "train.loc[:, \"bsmtfullbath\"] = train.loc[:, \"bsmtfullbath\"].fillna(0)\n",
        "train.loc[:, \"bsmthalfbath\"] = train.loc[:, \"bsmthalfbath\"].fillna(0)\n",
        "train.loc[:, \"bsmtunfsf\"] = train.loc[:, \"bsmtunfsf\"].fillna(0)\n",
        "train.loc[:, \"bsmtfinsf1\"] = train.loc[:, \"bsmtfinsf1\"].fillna(0)\n",
        "train.loc[:, \"bsmtfinsf2\"] = train.loc[:, \"bsmtfinsf2\"].fillna(0)\n",
        "train.loc[:, \"masvnrarea\"] = train.loc[:, \"masvnrarea\"].fillna(0)\n"
      ],
      "execution_count": 0,
      "outputs": []
    },
    {
      "metadata": {
        "id": "dv2tqEhGkC4B",
        "colab_type": "code",
        "colab": {}
      },
      "cell_type": "code",
      "source": [
        "#Replace NaN values with medians in train data\n",
        "\n",
        "# LotFrontage is \"Linear feet of street connected to property\", used the median LotFrontage of that street.\n",
        "train.lotfrontage = train.groupby('neighborhood')['lotfrontage'].transform(lambda x: x.fillna(x.median()))\n",
        "train=train.replace({'lotfrontage': {np.NaN : 50}})\n",
        "\n",
        "train=train.replace({'garageyrblt': {np.NaN : 1972}})\n",
        "train=train.replace({'totalbsmtsf': {np.NaN : 975}})"
      ],
      "execution_count": 0,
      "outputs": []
    },
    {
      "metadata": {
        "id": "mkUkd8QVkC4D",
        "colab_type": "code",
        "colab": {}
      },
      "cell_type": "code",
      "source": [
        "#Replace 0 values with medians in train data\n",
        "m = np.median(train.grlivarea[train.grlivarea>0])\n",
        "train = train.replace({'grlivarea': {0: m}})"
      ],
      "execution_count": 0,
      "outputs": []
    },
    {
      "metadata": {
        "id": "w5GN8W5GkC4G",
        "colab_type": "code",
        "colab": {}
      },
      "cell_type": "code",
      "source": [
        "#Convert ordinal variables to numbers per data dictionary\n",
        "train = train.replace({\"bsmtcond\" : {\"NA\" : 0, \"Po\" : 1, \"Fa\" : 2, \"TA\" : 3, \"Gd\" : 4, \"Ex\" : 5},\n",
        "                       \"bsmtqual\" : {\"NA\" : 0, \"Po\" : 1, \"Fa\" : 2, \"TA\": 3, \"Gd\" : 4, \"Ex\" : 5},\n",
        "                       \"bsmtexposure\" : {\"NA\" : 0,\"No\" : 1, \"Mn\" : 2, \"Av\": 3, \"Gd\" : 4},\n",
        "                       \"bsmtfintype1\" : {\"NA\" : 0, \"Unf\" : 1, \"LwQ\": 2, \"Rec\" : 3, \"BLQ\" : 4,\n",
        "                                         \"ALQ\" : 5, \"GLQ\" : 6},\n",
        "                       \"bsmtfintype2\" : {\"NA\" : 0, \"Unf\" : 1, \"LwQ\": 2, \"Rec\" : 3, \"BLQ\" : 4,\n",
        "                                         \"ALQ\" : 5, \"GLQ\" : 6},\n",
        "                       \"electrical\" : {\"Mix\" : 1, \"FuseP\" : 2, \"FuseF\": 3, \"FusA\": 4, \"SBrkr\" : 5},\n",
        "                       \"extercond\" : {\"Po\" : 1, \"Fa\" : 2, \"TA\": 3, \"Gd\": 4, \"Ex\" : 5},\n",
        "                       \"exterqual\" : {\"Po\" : 1, \"Fa\" : 2, \"TA\": 3, \"Gd\": 4, \"Ex\" : 5},\n",
        "                       \"fence\" : {\"NA\" : 0, \"MnWw\" : 1, \"GdWo\": 2, \"MnPrv\": 3, \"GdPrv\" : 4},\n",
        "                       \"fireplacequ\" : {\"NA\" : 0, \"Po\" : 1, \"Fa\" : 2, \"TA\" : 3, \"Gd\" : 4, \"Ex\" : 5},\n",
        "                       \"functional\" : {\"Sal\" : 1, \"Sev\" : 2, \"Maj\" : 3, \"Mod\": 4, \"Min\"  : 5, \"Typ\" : 6},\n",
        "                       \"garagefinish\" : {\"NA\" : 0, \"Unf\" : 1, \"RFn\" : 2, \"Fin\" : 3},\n",
        "                       \"garagecond\" : {\"NA\" : 0, \"Po\" : 1, \"Fa\" : 2, \"TA\" : 3, \"Gd\" : 4, \"Ex\" : 5},\n",
        "                       \"garagequal\" : {\"NA\" : 0, \"Po\" : 1, \"Fa\" : 2, \"TA\" : 3, \"Gd\" : 4, \"Ex\" : 5},\n",
        "                       \"heatingqc\" : {\"Po\" : 1, \"Fa\" : 2, \"TA\" : 3, \"Gd\" : 4, \"Ex\" : 5},\n",
        "                       \"kitchenqual\" : {\"Po\" : 1, \"Fa\" : 2, \"TA\" : 3, \"Gd\" : 4, \"Ex\" : 5},\n",
        "                       \"landslope\" : {\"Sev\" : 1, \"Mod\" : 2, \"Gtl\" : 3},\n",
        "                       \"lotshape\" : {\"IR3\" : 1, \"IR2\" : 2, \"IR1\" : 3, \"Reg\" : 4},\n",
        "                       \"paveddrive\" : {\"N\" : 0, \"P\" : 1, \"Y\" : 2},\n",
        "                       \"poolqc\" : {\"NA\" : 0, \"Fa\" : 1, \"TA\" : 2, \"Gd\" : 3, \"Ex\" : 4},\n",
        "                       \"utilities\" : {\"ELO\" : 1, \"NoSeWa\" : 2, \"NoSewr\" : 3, \"AllPub\" : 4}}\n",
        "                     )"
      ],
      "execution_count": 0,
      "outputs": []
    },
    {
      "metadata": {
        "id": "BR4wzkcokC4I",
        "colab_type": "code",
        "colab": {}
      },
      "cell_type": "code",
      "source": [
        "#CHECK CLEAN DATA\n",
        "#pandas_profiling.ProfileReport(train)"
      ],
      "execution_count": 0,
      "outputs": []
    },
    {
      "metadata": {
        "id": "igm-Ih1VkC4K",
        "colab_type": "code",
        "colab": {
          "base_uri": "https://localhost:8080/",
          "height": 1054
        },
        "outputId": "9e2f7697-61aa-4b38-a8bc-75e94752f066"
      },
      "cell_type": "code",
      "source": [
        "# show descriptive statistics\n",
        "print(train.describe())"
      ],
      "execution_count": 20,
      "outputs": [
        {
          "output_type": "stream",
          "text": [
            "          subclass  lotfrontage        lotarea     lotshape    utilities    landslope  overallqual  overallcond  \\\n",
            "count  2039.000000  2039.000000    2039.000000  2039.000000  2039.000000  2039.000000  2039.000000  2039.000000   \n",
            "mean     56.586562    68.989946   10062.990191     3.612555     3.998529     2.948014     6.077979     5.585091   \n",
            "std      41.876919    21.500919    8125.002560     0.555956     0.049510     0.243149     1.407362     1.107337   \n",
            "min      20.000000    21.000000    1477.000000     1.000000     2.000000     1.000000     1.000000     1.000000   \n",
            "25%      20.000000    60.000000    7365.000000     3.000000     4.000000     3.000000     5.000000     5.000000   \n",
            "50%      50.000000    70.000000    9320.000000     4.000000     4.000000     3.000000     6.000000     5.000000   \n",
            "75%      70.000000    80.000000   11424.500000     4.000000     4.000000     3.000000     7.000000     6.000000   \n",
            "max     190.000000   313.000000  215245.000000     4.000000     4.000000     3.000000    10.000000     9.000000   \n",
            "\n",
            "         yearbuilt  yearremodel   masvnrarea    exterqual    extercond     bsmtqual     bsmtcond  bsmtexposure  \\\n",
            "count  2039.000000  2039.000000  2039.000000  2039.000000  2039.000000  2039.000000  2039.000000   2039.000000   \n",
            "mean   1970.817558  1984.100539    99.806768     3.396763     3.087298     3.467876     2.923492      1.624816   \n",
            "std      30.456005    21.101772   178.931177     0.581873     0.362943     0.901325     0.564776      1.069697   \n",
            "min    1872.000000  1950.000000     0.000000     2.000000     2.000000     0.000000     0.000000      0.000000   \n",
            "25%    1952.500000  1965.000000     0.000000     3.000000     3.000000     3.000000     3.000000      1.000000   \n",
            "50%    1972.000000  1993.000000     0.000000     3.000000     3.000000     3.000000     3.000000      1.000000   \n",
            "75%    2000.000000  2004.000000   157.000000     4.000000     3.000000     4.000000     3.000000      2.000000   \n",
            "max    2010.000000  2010.000000  1378.000000     5.000000     5.000000     5.000000     5.000000      4.000000   \n",
            "\n",
            "       bsmtfintype1   bsmtfinsf1  bsmtfintype2   bsmtfinsf2     ...       garageyrblt  garagefinish   garagecars  \\\n",
            "count   2039.000000  2039.000000   2039.000000  2039.000000     ...       2039.000000   2039.000000  2039.000000   \n",
            "mean       3.542423   442.463953      1.291319    49.121138     ...       1977.547818      1.699853     1.748406   \n",
            "std        2.118668   457.698139      0.985906   166.648992     ...         25.181238      0.900962     0.764757   \n",
            "min        0.000000     0.000000      0.000000     0.000000     ...       1895.000000      0.000000     0.000000   \n",
            "25%        1.000000     0.000000      1.000000     0.000000     ...       1961.000000      1.000000     1.000000   \n",
            "50%        4.000000   370.000000      1.000000     0.000000     ...       1977.000000      2.000000     2.000000   \n",
            "75%        6.000000   733.500000      1.000000     0.000000     ...       2001.000000      2.000000     2.000000   \n",
            "max        6.000000  5644.000000      6.000000  1526.000000     ...       2207.000000      3.000000     5.000000   \n",
            "\n",
            "        garagearea   garagequal   garagecond   paveddrive   wooddecksf  openporchsf  enclosedporch  threessnporch  \\\n",
            "count  2039.000000  2039.000000  2039.000000  2039.000000  2039.000000  2039.000000    2039.000000    2039.000000   \n",
            "mean    468.216282     2.787151     2.797450     1.821972    92.926435    46.414419      22.353114       2.454635   \n",
            "std     217.054485     0.735882     0.733787     0.550838   124.988245    66.288152      61.723972      23.727244   \n",
            "min       0.000000     0.000000     0.000000     0.000000     0.000000     0.000000       0.000000       0.000000   \n",
            "25%     314.000000     3.000000     3.000000     2.000000     0.000000     0.000000       0.000000       0.000000   \n",
            "50%     477.000000     3.000000     3.000000     2.000000     0.000000    25.000000       0.000000       0.000000   \n",
            "75%     576.000000     3.000000     3.000000     2.000000   168.000000    68.000000       0.000000       0.000000   \n",
            "max    1488.000000     5.000000     5.000000     2.000000   870.000000   742.000000     584.000000     407.000000   \n",
            "\n",
            "       screenporch     poolarea       poolqc        fence       miscval       mosold       yrsold      saleprice  \\\n",
            "count  2039.000000  2039.000000  2039.000000  2039.000000   2039.000000  2039.000000  2039.000000    2039.000000   \n",
            "mean     15.097106     2.751349     0.016184     0.584110     43.998038     6.267288  2007.815596  179368.827857   \n",
            "std      53.478549    39.898811     0.230698     1.223206    408.502250     2.733262     1.315467   78982.943661   \n",
            "min       0.000000     0.000000     0.000000     0.000000      0.000000     1.000000  2006.000000   34900.000000   \n",
            "25%       0.000000     0.000000     0.000000     0.000000      0.000000     4.000000  2007.000000  128500.000000   \n",
            "50%       0.000000     0.000000     0.000000     0.000000      0.000000     6.000000  2008.000000  160000.000000   \n",
            "75%       0.000000     0.000000     0.000000     0.000000      0.000000     8.000000  2009.000000  210125.000000   \n",
            "max     576.000000   800.000000     4.000000     4.000000  12500.000000    12.000000  2010.000000  745000.000000   \n",
            "\n",
            "             index  \n",
            "count  2039.000000  \n",
            "mean   1486.918097  \n",
            "std     850.390251  \n",
            "min       2.000000  \n",
            "25%     746.500000  \n",
            "50%    1501.000000  \n",
            "75%    2235.500000  \n",
            "max    2930.000000  \n",
            "\n",
            "[8 rows x 58 columns]\n"
          ],
          "name": "stdout"
        }
      ]
    },
    {
      "metadata": {
        "id": "pZPTJSd6kC4P",
        "colab_type": "code",
        "colab": {}
      },
      "cell_type": "code",
      "source": [
        "#Remove outliers 'any houses with more than 4000 square feet' from the dataset\n",
        "train = train[train.grlivarea < 4000]"
      ],
      "execution_count": 0,
      "outputs": []
    },
    {
      "metadata": {
        "id": "ZTPJqhq5kC4R",
        "colab_type": "code",
        "colab": {}
      },
      "cell_type": "code",
      "source": [
        "#DROP CONDITION: 'any houses that are not single family 1Fam'\n",
        "train = train.loc[train['bldgtype'] == '1Fam']"
      ],
      "execution_count": 0,
      "outputs": []
    },
    {
      "metadata": {
        "id": "BbFrLLDzkC4U",
        "colab_type": "code",
        "colab": {
          "base_uri": "https://localhost:8080/",
          "height": 1054
        },
        "outputId": "8961d0c3-1291-48ce-f568-79e44f7991dd"
      },
      "cell_type": "code",
      "source": [
        "# Define these two variables for later use;\n",
        "train['qualityindex'] = (train.overallqual*train.overallcond)\n",
        "train['totalsqftcalc'] = (train.bsmtfinsf1+train.bsmtfinsf2+train.grlivarea)\n",
        "test['qualityindex'] = (test.overallqual*test.overallcond)\n",
        "test['totalsqftcalc'] = (test.bsmtfinsf1+test.bsmtfinsf2+test.grlivarea)\n",
        "print(train.describe())"
      ],
      "execution_count": 23,
      "outputs": [
        {
          "output_type": "stream",
          "text": [
            "          subclass  lotfrontage        lotarea     lotshape    utilities    landslope  overallqual  overallcond  \\\n",
            "count  1696.000000  1696.000000    1696.000000  1696.000000  1696.000000  1696.000000   1696.00000  1696.000000   \n",
            "mean     41.420991    72.774175   10790.663325     3.592571     3.998231     2.945165      6.06250     5.669222   \n",
            "std      22.401873    18.032951    7514.115056     0.561008     0.054284     0.249956      1.40823     1.141709   \n",
            "min      20.000000    30.000000    2500.000000     1.000000     2.000000     1.000000      1.00000     1.000000   \n",
            "25%      20.000000    60.000000    8120.750000     3.000000     4.000000     3.000000      5.00000     5.000000   \n",
            "50%      30.000000    70.000000    9714.500000     4.000000     4.000000     3.000000      6.00000     5.000000   \n",
            "75%      60.000000    80.000000   11850.250000     4.000000     4.000000     3.000000      7.00000     6.000000   \n",
            "max     190.000000   200.000000  215245.000000     4.000000     4.000000     3.000000     10.00000     9.000000   \n",
            "\n",
            "         yearbuilt  yearremodel   masvnrarea    exterqual    extercond     bsmtqual     bsmtcond  bsmtexposure  \\\n",
            "count  1696.000000  1696.000000  1696.000000  1696.000000  1696.000000  1696.000000  1696.000000   1696.000000   \n",
            "mean   1968.673349  1983.663915    96.530660     3.386792     3.100825     3.442217     2.935142      1.599646   \n",
            "std      31.047219    21.687026   176.591495     0.573898     0.376099     0.876550     0.537044      1.041657   \n",
            "min    1872.000000  1950.000000     0.000000     2.000000     2.000000     0.000000     0.000000      0.000000   \n",
            "25%    1949.000000  1961.000000     0.000000     3.000000     3.000000     3.000000     3.000000      1.000000   \n",
            "50%    1968.000000  1994.000000     0.000000     3.000000     3.000000     3.000000     3.000000      1.000000   \n",
            "75%    2000.000000  2004.000000   146.500000     4.000000     3.000000     4.000000     3.000000      2.000000   \n",
            "max    2010.000000  2010.000000  1378.000000     5.000000     5.000000     5.000000     5.000000      4.000000   \n",
            "\n",
            "       bsmtfintype1   bsmtfinsf1  bsmtfintype2   bsmtfinsf2      ...         garagecars   garagearea   garagequal  \\\n",
            "count   1696.000000  1696.000000   1696.000000  1696.000000      ...        1696.000000  1696.000000  1696.000000   \n",
            "mean       3.429835   431.441627      1.301887    50.682783      ...           1.764741   476.468160     2.827241   \n",
            "std        2.079773   437.858689      0.977455   167.760655      ...           0.749880   215.877421     0.651018   \n",
            "min        0.000000     0.000000      0.000000     0.000000      ...           0.000000     0.000000     0.000000   \n",
            "25%        1.000000     0.000000      1.000000     0.000000      ...           1.000000   312.750000     3.000000   \n",
            "50%        4.000000   360.000000      1.000000     0.000000      ...           2.000000   478.000000     3.000000   \n",
            "75%        6.000000   716.250000      1.000000     0.000000      ...           2.000000   578.000000     3.000000   \n",
            "max        6.000000  2288.000000      6.000000  1526.000000      ...           5.000000  1488.000000     5.000000   \n",
            "\n",
            "        garagecond   paveddrive   wooddecksf  openporchsf  enclosedporch  threessnporch  screenporch     poolarea  \\\n",
            "count  1696.000000  1696.000000  1696.000000  1696.000000    1696.000000    1696.000000  1696.000000  1696.000000   \n",
            "mean      2.842571     1.816038    96.324292    47.436321      24.611439       2.671580    16.574882     2.697524   \n",
            "std       0.646737     0.556328   128.334729    65.591554      64.625615      25.154344    56.194503    39.977810   \n",
            "min       0.000000     0.000000     0.000000     0.000000       0.000000       0.000000     0.000000     0.000000   \n",
            "25%       3.000000     2.000000     0.000000     0.000000       0.000000       0.000000     0.000000     0.000000   \n",
            "50%       3.000000     2.000000     0.000000    26.000000       0.000000       0.000000     0.000000     0.000000   \n",
            "75%       3.000000     2.000000   172.000000    72.000000       0.000000       0.000000     0.000000     0.000000   \n",
            "max       5.000000     2.000000   870.000000   547.000000     584.000000     407.000000   576.000000   800.000000   \n",
            "\n",
            "            poolqc        fence       miscval       mosold       yrsold      saleprice        index  qualityindex  \\\n",
            "count  1696.000000  1696.000000   1696.000000  1696.000000  1696.000000    1696.000000  1696.000000   1696.000000   \n",
            "mean      0.015330     0.649764     44.893868     6.268278  2007.820755  182396.286557  1486.330778     34.173939   \n",
            "std       0.222086     1.267697    396.801802     2.722671     1.302484   80567.980185   852.106832      9.272272   \n",
            "min       0.000000     0.000000      0.000000     1.000000  2006.000000   34900.000000     2.000000      2.000000   \n",
            "25%       0.000000     0.000000      0.000000     4.000000  2007.000000  129000.000000   740.250000     30.000000   \n",
            "50%       0.000000     0.000000      0.000000     6.000000  2008.000000  163000.000000  1493.000000     35.000000   \n",
            "75%       0.000000     0.000000      0.000000     8.000000  2009.000000  216000.000000  2236.250000     40.000000   \n",
            "max       4.000000     4.000000  12500.000000    12.000000  2010.000000  625000.000000  2929.000000     90.000000   \n",
            "\n",
            "       totalsqftcalc  \n",
            "count    1696.000000  \n",
            "mean     1977.202241  \n",
            "std       731.961029  \n",
            "min       407.000000  \n",
            "25%      1485.750000  \n",
            "50%      1835.500000  \n",
            "75%      2375.250000  \n",
            "max      5185.000000  \n",
            "\n",
            "[8 rows x 60 columns]\n"
          ],
          "name": "stdout"
        }
      ]
    },
    {
      "metadata": {
        "id": "4Dl0gHgOkC4Y",
        "colab_type": "code",
        "colab": {}
      },
      "cell_type": "code",
      "source": [
        "# ADD NEW VARIABLES FOR ANALYSIS\n",
        "\n",
        "# Total number of bathrooms (train)\n",
        "train[\"totalbath\"] = train[\"bsmtfullbath\"] + (0.5 * train[\"bsmthalfbath\"]) + \\\n",
        "train[\"fullbath\"] + (0.5 * train[\"halfbath\"])\n",
        "# Total number of bathrooms (test)\n",
        "test[\"totalbath\"] = test[\"bsmtfullbath\"] + (0.5 * test[\"bsmthalfbath\"]) + \\\n",
        "test[\"fullbath\"] + (0.5 * test[\"halfbath\"])"
      ],
      "execution_count": 0,
      "outputs": []
    },
    {
      "metadata": {
        "id": "kHq0-zuTkC4b",
        "colab_type": "code",
        "colab": {}
      },
      "cell_type": "code",
      "source": [
        "# log of totalsqftcalc\n",
        "train[\"logtotalsqft\"] = train['totalsqftcalc'].apply(np.log)\n",
        "test[\"logtotalsqft\"] = test['totalsqftcalc'].apply(np.log)"
      ],
      "execution_count": 0,
      "outputs": []
    },
    {
      "metadata": {
        "id": "p7jq5_QPkC4f",
        "colab_type": "code",
        "colab": {
          "base_uri": "https://localhost:8080/",
          "height": 68
        },
        "outputId": "43a5ee1f-c0e2-4dcc-e1f9-20f344fd4439"
      },
      "cell_type": "code",
      "source": [
        "print('')\n",
        "print('----- Section 1: Modeling & More -----')\n",
        "print('')"
      ],
      "execution_count": 26,
      "outputs": [
        {
          "output_type": "stream",
          "text": [
            "\n",
            "----- Section 1: Modeling & More -----\n",
            "\n"
          ],
          "name": "stdout"
        }
      ]
    },
    {
      "metadata": {
        "id": "4s85f3wHkC4k",
        "colab_type": "code",
        "colab": {
          "base_uri": "https://localhost:8080/",
          "height": 238
        },
        "outputId": "4db6c9a5-26ac-449c-bd31-19894ffa4825"
      },
      "cell_type": "code",
      "source": [
        "# Find most important features relative to target\n",
        "print(\"Find most important features relative to target\")\n",
        "corr = train.corr()\n",
        "corr.sort_values([\"saleprice\"], ascending = False, inplace = True)\n",
        "print(corr.saleprice)"
      ],
      "execution_count": 27,
      "outputs": [
        {
          "output_type": "stream",
          "text": [
            "Find most important features relative to target\n",
            "saleprice        1.000000\n",
            "overallqual      0.818896\n",
            "totalsqftcalc    0.786163\n",
            "grlivarea        0.755019\n",
            "logtotalsqft     0.736562\n",
            "                   ...   \n",
            "bsmthalfbath    -0.064486\n",
            "overallcond     -0.137990\n",
            "enclosedporch   -0.147634\n",
            "fence           -0.181485\n",
            "lotshape        -0.268014\n",
            "Name: saleprice, Length: 62, dtype: float64\n"
          ],
          "name": "stdout"
        }
      ]
    },
    {
      "metadata": {
        "id": "rflD7H8ykC4n",
        "colab_type": "code",
        "colab": {
          "base_uri": "https://localhost:8080/",
          "height": 136
        },
        "outputId": "7c0f4d1c-7602-43d7-f612-3cceef7c41ea"
      },
      "cell_type": "code",
      "source": [
        "#take a look at some correlations with the saleprice\n",
        "X = train[['saleprice','qualityindex','totalsqftcalc','yearbuilt','lotarea','lotfrontage']].copy()\n",
        "X1 = train[['qualityindex','totalsqftcalc','yearbuilt','lotarea','lotfrontage']].copy()\n",
        "corr = X[X.columns].corr()\n",
        "print(corr)"
      ],
      "execution_count": 28,
      "outputs": [
        {
          "output_type": "stream",
          "text": [
            "               saleprice  qualityindex  totalsqftcalc  yearbuilt   lotarea  lotfrontage\n",
            "saleprice       1.000000      0.549609       0.786163   0.593424  0.291300     0.408800\n",
            "qualityindex    0.549609      1.000000       0.380946   0.178637  0.052322     0.130191\n",
            "totalsqftcalc   0.786163      0.380946       1.000000   0.390637  0.304759     0.398752\n",
            "yearbuilt       0.593424      0.178637       0.390637   1.000000  0.096440     0.293945\n",
            "lotarea         0.291300      0.052322       0.304759   0.096440  1.000000     0.297979\n",
            "lotfrontage     0.408800      0.130191       0.398752   0.293945  0.297979     1.000000\n"
          ],
          "name": "stdout"
        }
      ]
    },
    {
      "metadata": {
        "id": "5BiTVapskC4q",
        "colab_type": "code",
        "colab": {
          "base_uri": "https://localhost:8080/",
          "height": 102
        },
        "outputId": "0ff1299d-3a85-41df-df6b-dd67e99d4772"
      },
      "cell_type": "code",
      "source": [
        "#Also, look at the KBest features... \n",
        "#Note: More automated feature selection methods later in workbook\n",
        "#you will have to do some data cleaning before this\n",
        "Y = train[['saleprice']].copy()\n",
        "Y.head\n",
        "from sklearn.feature_selection import SelectKBest\n",
        "from sklearn.feature_selection import chi2\n",
        "select_top_3 = SelectKBest(score_func=chi2, k = 3)\n",
        "fit = select_top_3.fit(X1,Y)\n",
        "features = fit.transform(X1)\n",
        "features[0:5] "
      ],
      "execution_count": 29,
      "outputs": [
        {
          "output_type": "execute_result",
          "data": {
            "text/plain": [
              "array([[ 1788., 11838.,    70.],\n",
              "       [ 1837.,  8304.,    70.],\n",
              "       [ 1048.,  6380.,    58.],\n",
              "       [ 2409., 14803.,    80.],\n",
              "       [ 2035., 11375.,    91.]])"
            ]
          },
          "metadata": {
            "tags": []
          },
          "execution_count": 29
        }
      ]
    },
    {
      "metadata": {
        "id": "TGlWSjYgkC4t",
        "colab_type": "code",
        "colab": {
          "base_uri": "https://localhost:8080/",
          "height": 609
        },
        "outputId": "05e6e5fa-f181-4669-c663-f74ef1b06533"
      },
      "cell_type": "code",
      "source": [
        "#Create a heatmap to check for correlated variables\n",
        "# Compute the correlation matrix\n",
        "corr = train.corr()\n",
        "\n",
        "# Generate a mask for the upper triangle\n",
        "mask = np.zeros_like(corr, dtype=np.bool)\n",
        "mask[np.triu_indices_from(mask)] = True\n",
        "\n",
        "# Set up the matplotlib figure\n",
        "f, ax = plt.subplots(figsize=(11, 9))\n",
        "\n",
        "# Generate a custom diverging colormap\n",
        "cmap = sns.diverging_palette(220, 10, as_cmap=True)\n",
        "\n",
        "# Draw the heatmap with the mask and correct aspect ratio\n",
        "sns.heatmap(corr, mask=mask, cmap=cmap, vmax=1, vmin=-1, center=0,\n",
        "        square=True, linewidths=1, xticklabels = True, yticklabels = True, cbar_kws={\"shrink\": .5})"
      ],
      "execution_count": 30,
      "outputs": [
        {
          "output_type": "execute_result",
          "data": {
            "text/plain": [
              "<matplotlib.axes._subplots.AxesSubplot at 0x7fa0879c4400>"
            ]
          },
          "metadata": {
            "tags": []
          },
          "execution_count": 30
        },
        {
          "output_type": "display_data",
          "data": {
            "image/png": "[encoded data removed]",
            "text/plain": [
              "<Figure size 792x648 with 2 Axes>"
            ]
          },
          "metadata": {
            "tags": []
          }
        }
      ]
    },
    {
      "metadata": {
        "id": "k0yALsYIkC4v",
        "colab_type": "code",
        "colab": {
          "base_uri": "https://localhost:8080/",
          "height": 660
        },
        "outputId": "e448ae09-29bc-4d20-c762-908a0d380c67"
      },
      "cell_type": "code",
      "source": [
        "# Feature sorted by correlation to SalePrice, from positive to negative\n",
        "corr = corr.sort_values('saleprice', ascending=False)\n",
        "plt.figure(figsize=(8,10))\n",
        "sns.barplot( corr.saleprice[1:], corr.index[1:], orient='h')\n",
        "plt.show()"
      ],
      "execution_count": 31,
      "outputs": [
        {
          "output_type": "stream",
          "text": [
            "/usr/local/lib/python3.6/dist-packages/seaborn/categorical.py:1428: FutureWarning: remove_na is deprecated and is a private function. Do not use.\n",
            "  stat_data = remove_na(group_data)\n"
          ],
          "name": "stderr"
        },
        {
          "output_type": "display_data",
          "data": {
            "image/png": "[encoded data removed]",
            "text/plain": [
              "<Figure size 576x720 with 1 Axes>"
            ]
          },
          "metadata": {
            "tags": []
          }
        }
      ]
    },
    {
      "metadata": {
        "id": "8IXGIt8WkC4y",
        "colab_type": "code",
        "colab": {
          "base_uri": "https://localhost:8080/",
          "height": 636
        },
        "outputId": "0ffb739f-64a9-4e4c-d402-1608cda7f2f3"
      },
      "cell_type": "code",
      "source": [
        "#model submission from Assignment01\n",
        "model = smf.ols(formula='saleprice ~ overallqual + grlivarea + neighborhood + yearbuilt', data=train).fit()\n",
        "#calculate residuals\n",
        "#the next code is using my model in the shell code\n",
        "train_predictions = model.fittedvalues\n",
        "train_predictions.head()\n",
        "tr = {'p_saleprice': train_predictions}\n",
        "df1 = train[['index','saleprice','neighborhood','totalsqftcalc']]\n",
        "df2=pd.DataFrame(data=tr)\n",
        "n_file = pd.concat([df1,df2],axis = 1, join_axes=[df1.index])\n",
        "\n",
        "n_file['residual'] = (n_file.saleprice-n_file.p_saleprice)\n",
        "n_file['a_ppsf'] = (n_file.saleprice/n_file.totalsqftcalc)\n",
        "n_file['p_ppsf'] = (n_file.p_saleprice/n_file.totalsqftcalc)\n",
        "n_file\n",
        "\n",
        "ax = sns.boxplot(x=\"neighborhood\", y=\"residual\", data=n_file)\n",
        "ax.set_title(\"Boxplot of Residuals by Neighborhood\")\n",
        "ax.set_ylabel(\"Residual\")\n",
        "# Rotate x-axis labels\n",
        "plt.xticks(rotation=90)\n",
        "plt.show()\n",
        "\n",
        "g = n_file.groupby('neighborhood').mean() \n",
        "g"
      ],
      "execution_count": 32,
      "outputs": [
        {
          "output_type": "stream",
          "text": [
            "/usr/local/lib/python3.6/dist-packages/seaborn/categorical.py:454: FutureWarning: remove_na is deprecated and is a private function. Do not use.\n",
            "  box_data = remove_na(group_data)\n"
          ],
          "name": "stderr"
        },
        {
          "output_type": "display_data",
          "data": {
            "image/png": "[encoded data removed]",
            "text/plain": [
              "<Figure size 432x288 with 1 Axes>"
            ]
          },
          "metadata": {
            "tags": []
          }
        },
        {
          "output_type": "execute_result",
          "data": {
            "text/plain": [
              "                    index      saleprice  totalsqftcalc    p_saleprice      residual      a_ppsf      p_ppsf\n",
              "neighborhood                                                                                                \n",
              "Blmngtn       1988.333333  177689.000000    1259.333333  177689.000000 -1.260390e-07  141.147876  141.102163\n",
              "BrkSide       1468.246914  124530.246914    1447.259259  124530.246914 -1.205200e-07   88.653210   88.625648\n",
              "ClearCr       1440.964286  213101.142857    2510.500000  213101.142857  2.690441e-08   85.557711   86.411102\n",
              "CollgCr       1431.414773  203288.971591    2031.437500  203288.971591 -5.506974e-08  103.232639  104.466967\n",
              "Crawfor       1620.591549  202112.281690    2185.690141  202112.281690  2.378152e-08   95.725418   97.416622\n",
              "...                   ...            ...            ...            ...           ...         ...         ...\n",
              "SawyerW       1468.760563  186940.563380    2068.338028  186940.563380 -3.497379e-08   94.613572   96.272366\n",
              "Somerst       1553.910256  254550.115385    2161.910256  254550.115385 -3.535742e-09  123.757451  127.515232\n",
              "StoneBr       1515.562500  388798.625000    3123.125000  388798.625000  1.351873e-07  124.694044  127.721730\n",
              "Timber        1540.000000  246989.357143    2414.017857  246989.357143  1.877197e-09  107.034638  110.513288\n",
              "Veenker       1677.923077  241103.846154    2929.923077  241103.846154  6.040164e-08   84.524098   85.943348\n",
              "\n",
              "[21 rows x 7 columns]"
            ]
          },
          "metadata": {
            "tags": []
          },
          "execution_count": 32
        }
      ]
    },
    {
      "metadata": {
        "id": "eUKGeGjakC40",
        "colab_type": "code",
        "colab": {
          "base_uri": "https://localhost:8080/",
          "height": 238
        },
        "outputId": "1f55d09a-766e-4859-bf4f-f3243e656afa"
      },
      "cell_type": "code",
      "source": [
        "#Compute the actual mean price per square foot by neighborhood\n",
        "ppsf_by_neighborhood = n_file['a_ppsf'].groupby([n_file['neighborhood']]).mean()\n",
        "ppsf_by_neighborhood"
      ],
      "execution_count": 33,
      "outputs": [
        {
          "output_type": "execute_result",
          "data": {
            "text/plain": [
              "neighborhood\n",
              "Blmngtn    141.147876\n",
              "BrkSide     88.653210\n",
              "ClearCr     85.557711\n",
              "CollgCr    103.232639\n",
              "Crawfor     95.725418\n",
              "              ...    \n",
              "SawyerW     94.613572\n",
              "Somerst    123.757451\n",
              "StoneBr    124.694044\n",
              "Timber     107.034638\n",
              "Veenker     84.524098\n",
              "Name: a_ppsf, Length: 21, dtype: float64"
            ]
          },
          "metadata": {
            "tags": []
          },
          "execution_count": 33
        }
      ]
    },
    {
      "metadata": {
        "id": "5y1R_CcukC46",
        "colab_type": "code",
        "colab": {
          "base_uri": "https://localhost:8080/",
          "height": 34
        },
        "outputId": "8f75df14-0c6a-4e14-87d9-2ac9eb075c8c"
      },
      "cell_type": "code",
      "source": [
        "upper_quartile = ppsf_by_neighborhood.quantile(q=0.75)\n",
        "upper_quartile"
      ],
      "execution_count": 34,
      "outputs": [
        {
          "output_type": "execute_result",
          "data": {
            "text/plain": [
              "105.1287425583947"
            ]
          },
          "metadata": {
            "tags": []
          },
          "execution_count": 34
        }
      ]
    },
    {
      "metadata": {
        "id": "gAYGAYs3kC49",
        "colab_type": "code",
        "colab": {
          "base_uri": "https://localhost:8080/",
          "height": 34
        },
        "outputId": "620c42a3-a89d-4aa7-8d76-5c63bab777d4"
      },
      "cell_type": "code",
      "source": [
        "lower_quartile = ppsf_by_neighborhood.quantile(q=0.25)\n",
        "lower_quartile"
      ],
      "execution_count": 35,
      "outputs": [
        {
          "output_type": "execute_result",
          "data": {
            "text/plain": [
              "83.85768977408166"
            ]
          },
          "metadata": {
            "tags": []
          },
          "execution_count": 35
        }
      ]
    },
    {
      "metadata": {
        "id": "jajsRrD7kC5A",
        "colab_type": "code",
        "colab": {
          "base_uri": "https://localhost:8080/",
          "height": 153
        },
        "outputId": "81639ab6-2dbc-444d-fcbe-e0b2f5c53739"
      },
      "cell_type": "code",
      "source": [
        "big = ppsf_by_neighborhood[ppsf_by_neighborhood >= upper_quartile]\n",
        "big"
      ],
      "execution_count": 36,
      "outputs": [
        {
          "output_type": "execute_result",
          "data": {
            "text/plain": [
              "neighborhood\n",
              "Blmngtn    141.147876\n",
              "Gilbert    105.128743\n",
              "NridgHt    127.054716\n",
              "Somerst    123.757451\n",
              "StoneBr    124.694044\n",
              "Timber     107.034638\n",
              "Name: a_ppsf, dtype: float64"
            ]
          },
          "metadata": {
            "tags": []
          },
          "execution_count": 36
        }
      ]
    },
    {
      "metadata": {
        "id": "pSEwmgi4kC5D",
        "colab_type": "code",
        "colab": {
          "base_uri": "https://localhost:8080/",
          "height": 204
        },
        "outputId": "123a19ef-4ac9-44b9-ad38-c28a4031e308"
      },
      "cell_type": "code",
      "source": [
        "medium = ppsf_by_neighborhood[(ppsf_by_neighborhood > lower_quartile) & (ppsf_by_neighborhood < upper_quartile)]                                                                    \n",
        "medium"
      ],
      "execution_count": 37,
      "outputs": [
        {
          "output_type": "execute_result",
          "data": {
            "text/plain": [
              "neighborhood\n",
              "BrkSide     88.653210\n",
              "ClearCr     85.557711\n",
              "CollgCr    103.232639\n",
              "Crawfor     95.725418\n",
              "Mitchel     85.801194\n",
              "NoRidge     98.638210\n",
              "OldTown     85.893530\n",
              "SawyerW     94.613572\n",
              "Veenker     84.524098\n",
              "Name: a_ppsf, dtype: float64"
            ]
          },
          "metadata": {
            "tags": []
          },
          "execution_count": 37
        }
      ]
    },
    {
      "metadata": {
        "id": "gYQQuaqukC5G",
        "colab_type": "code",
        "colab": {
          "base_uri": "https://localhost:8080/",
          "height": 153
        },
        "outputId": "ede4ad22-c250-4b6b-eb57-2e5edaff3c9c"
      },
      "cell_type": "code",
      "source": [
        "small = ppsf_by_neighborhood[ppsf_by_neighborhood <= lower_quartile]\n",
        "small"
      ],
      "execution_count": 38,
      "outputs": [
        {
          "output_type": "execute_result",
          "data": {
            "text/plain": [
              "neighborhood\n",
              "Edwards    83.658217\n",
              "IDOTRR     79.658569\n",
              "NAmes      82.413392\n",
              "NWAmes     82.996141\n",
              "SWISU      77.707044\n",
              "Sawyer     83.857690\n",
              "Name: a_ppsf, dtype: float64"
            ]
          },
          "metadata": {
            "tags": []
          },
          "execution_count": 38
        }
      ]
    },
    {
      "metadata": {
        "id": "uBVTuYsLkC5I",
        "colab_type": "code",
        "colab": {}
      },
      "cell_type": "code",
      "source": [
        "#Create \"small\" = group1 indicator variable\n",
        "train[\"group1\"] = train['neighborhood'].isin(['Edwards','IDOTRR','NAmes','NWAmes','SWISU','Sawyer'])\n",
        "train.group1 = train.group1.astype(int)\n",
        "test[\"group1\"] = test['neighborhood'].isin(['Edwards','IDOTRR','NAmes','NWAmes','SWISU','Sawyer'])\n",
        "test.group1 = test.group1.astype(int)"
      ],
      "execution_count": 0,
      "outputs": []
    },
    {
      "metadata": {
        "id": "d_o0DKb_kC5K",
        "colab_type": "code",
        "colab": {}
      },
      "cell_type": "code",
      "source": [
        "#Create \"medium\" = group2 indicator variable\n",
        "train[\"group2\"] = train['neighborhood'].isin(['BrkSide','ClearCr','CollgCr','Crawfor','Mitchel','NoRidge','OldTown','SawyerW','Veenker'])\n",
        "train.group2 = train.group2.astype(int)\n",
        "test[\"group2\"] = test['neighborhood'].isin(['BrkSide','ClearCr','CollgCr','Crawfor','Mitchel','NoRidge','OldTown','SawyerW','Veenker'])\n",
        "test.group2 = test.group2.astype(int)"
      ],
      "execution_count": 0,
      "outputs": []
    },
    {
      "metadata": {
        "id": "mOpsY47okC5M",
        "colab_type": "code",
        "colab": {
          "base_uri": "https://localhost:8080/",
          "height": 510
        },
        "outputId": "e3c90467-7309-4986-b007-67b3593b6bb3"
      },
      "cell_type": "code",
      "source": [
        "train.head()"
      ],
      "execution_count": 41,
      "outputs": [
        {
          "output_type": "execute_result",
          "data": {
            "text/plain": [
              "   subclass zoning  lotfrontage  lotarea street alley  lotshape landcontour  utilities lotconfig  landslope  \\\n",
              "0        20     RL         70.0    11838   Pave    NA         4         Lvl          4    Inside          3   \n",
              "1        60     RL         70.0     8304   Pave    NA         3         Lvl          4    Inside          3   \n",
              "2        45     RM         58.0     6380   Pave    NA         4         Lvl          4    Inside          3   \n",
              "3        60     RL         80.0    14803   Pave    NA         3         Lvl          4   CulDSac          3   \n",
              "4        20     RL         91.0    11375   Pave    NA         4         Lvl          4    Inside          3   \n",
              "\n",
              "  neighborhood condition1 condition2 bldgtype housestyle  overallqual  overallcond  yearbuilt  yearremodel   ...    \\\n",
              "0      CollgCr       Norm       Norm     1Fam     1Story            8            5       2001         2001   ...     \n",
              "1      SawyerW       Norm       Norm     1Fam     2Story            6            5       1997         1998   ...     \n",
              "2      BrkSide       Norm       Norm     1Fam     1.5Unf            5            6       1922         1950   ...     \n",
              "3       NWAmes       Norm       Norm     1Fam     2Story            6            5       1971         1971   ...     \n",
              "4       Sawyer       Norm       Norm     1Fam     1Story            6            5       1954         1995   ...     \n",
              "\n",
              "  enclosedporch threessnporch screenporch poolarea poolqc  fence  miscfeature  miscval mosold  yrsold  saletype  \\\n",
              "0             0             0           0        0      0      0           NA        0      6    2009        WD   \n",
              "1             0             0           0        0      0      4           NA        0      7    2006        WD   \n",
              "2           116             0           0        0      0      0           NA        0      8    2006        WD   \n",
              "3             0             0           0        0      0      2           NA        0      6    2006        WD   \n",
              "4           280             0           0        0      0      0           NA        0     10    2007        WD   \n",
              "\n",
              "   salecondition  saleprice  index  qualityindex  totalsqftcalc  totalbath  logtotalsqft group1  group2  \n",
              "0         Normal     236500      2            40         1788.0        2.0      7.488853      0       1  \n",
              "1         Normal     187000      3            30         1837.0        2.5      7.515889      0       1  \n",
              "2         Normal     113000      5            30         1048.0        1.0      6.954639      0       1  \n",
              "3         Normal     190000      6            30         2409.0        2.5      7.786967      1       0  \n",
              "4         Normal     150000      8            30         2035.0        1.0      7.618251      1       0  \n",
              "\n",
              "[5 rows x 87 columns]"
            ]
          },
          "metadata": {
            "tags": []
          },
          "execution_count": 41
        }
      ]
    },
    {
      "metadata": {
        "id": "ut-89cSJkC5O",
        "colab_type": "code",
        "colab": {}
      },
      "cell_type": "code",
      "source": [
        "#Set variable list\n",
        "y = train['saleprice']"
      ],
      "execution_count": 0,
      "outputs": []
    },
    {
      "metadata": {
        "id": "dWOutKlUkC5Q",
        "colab_type": "code",
        "colab": {
          "base_uri": "https://localhost:8080/",
          "height": 859
        },
        "outputId": "8e6d989a-1750-4959-e431-29a13faabf03"
      },
      "cell_type": "code",
      "source": [
        "#  Benchmark model1: from HW02 Shell Code\n",
        "#Code for linear regression with categorical variables c()\n",
        "model1 = smf.ols(formula='y ~ qualityindex+totalsqftcalc+C(lotconfig)+C(housestyle)+yearbuilt+C(roofstyle)+C(heating)', data=train).fit()\n",
        "model1.summary()"
      ],
      "execution_count": 43,
      "outputs": [
        {
          "output_type": "execute_result",
          "data": {
            "text/html": [
              "<table class=\"simpletable\">\n",
              "<caption>OLS Regression Results</caption>\n",
              "<tr>\n",
              "  <th>Dep. Variable:</th>            <td>y</td>        <th>  R-squared:         </th> <td>   0.795</td> \n",
              "</tr>\n",
              "<tr>\n",
              "  <th>Model:</th>                   <td>OLS</td>       <th>  Adj. R-squared:    </th> <td>   0.792</td> \n",
              "</tr>\n",
              "<tr>\n",
              "  <th>Method:</th>             <td>Least Squares</td>  <th>  F-statistic:       </th> <td>   270.1</td> \n",
              "</tr>\n",
              "<tr>\n",
              "  <th>Date:</th>             <td>Fri, 22 Feb 2019</td> <th>  Prob (F-statistic):</th>  <td>  0.00</td>  \n",
              "</tr>\n",
              "<tr>\n",
              "  <th>Time:</th>                 <td>19:00:07</td>     <th>  Log-Likelihood:    </th> <td> -20221.</td> \n",
              "</tr>\n",
              "<tr>\n",
              "  <th>No. Observations:</th>      <td>  1696</td>      <th>  AIC:               </th> <td>4.049e+04</td>\n",
              "</tr>\n",
              "<tr>\n",
              "  <th>Df Residuals:</th>          <td>  1671</td>      <th>  BIC:               </th> <td>4.063e+04</td>\n",
              "</tr>\n",
              "<tr>\n",
              "  <th>Df Model:</th>              <td>    24</td>      <th>                     </th>     <td> </td>    \n",
              "</tr>\n",
              "<tr>\n",
              "  <th>Covariance Type:</th>      <td>nonrobust</td>    <th>                     </th>     <td> </td>    \n",
              "</tr>\n",
              "</table>\n",
              "<table class=\"simpletable\">\n",
              "<tr>\n",
              "             <td></td>                <th>coef</th>     <th>std err</th>      <th>t</th>      <th>P>|t|</th>  <th>[0.025</th>    <th>0.975]</th>  \n",
              "</tr>\n",
              "<tr>\n",
              "  <th>Intercept</th>               <td>-1.801e+06</td> <td> 7.97e+04</td> <td>  -22.599</td> <td> 0.000</td> <td>-1.96e+06</td> <td>-1.64e+06</td>\n",
              "</tr>\n",
              "<tr>\n",
              "  <th>C(lotconfig)[T.CulDSac]</th> <td> 3893.0533</td> <td> 4156.158</td> <td>    0.937</td> <td> 0.349</td> <td>-4258.772</td> <td>  1.2e+04</td>\n",
              "</tr>\n",
              "<tr>\n",
              "  <th>C(lotconfig)[T.FR2]</th>     <td> -382.9957</td> <td> 6697.635</td> <td>   -0.057</td> <td> 0.954</td> <td>-1.35e+04</td> <td> 1.28e+04</td>\n",
              "</tr>\n",
              "<tr>\n",
              "  <th>C(lotconfig)[T.FR3]</th>     <td>-2744.7871</td> <td> 1.32e+04</td> <td>   -0.208</td> <td> 0.835</td> <td>-2.86e+04</td> <td> 2.31e+04</td>\n",
              "</tr>\n",
              "<tr>\n",
              "  <th>C(lotconfig)[T.Inside]</th>  <td> 1295.7344</td> <td> 2343.936</td> <td>    0.553</td> <td> 0.580</td> <td>-3301.625</td> <td> 5893.094</td>\n",
              "</tr>\n",
              "<tr>\n",
              "  <th>C(housestyle)[T.1.5Unf]</th> <td> 1.187e+04</td> <td> 1.03e+04</td> <td>    1.156</td> <td> 0.248</td> <td>-8259.349</td> <td>  3.2e+04</td>\n",
              "</tr>\n",
              "<tr>\n",
              "  <th>C(housestyle)[T.1Story]</th> <td>-8668.1787</td> <td> 3195.979</td> <td>   -2.712</td> <td> 0.007</td> <td>-1.49e+04</td> <td>-2399.634</td>\n",
              "</tr>\n",
              "<tr>\n",
              "  <th>C(housestyle)[T.2.5Fin]</th> <td> 1.045e+04</td> <td> 1.68e+04</td> <td>    0.623</td> <td> 0.533</td> <td>-2.24e+04</td> <td> 4.33e+04</td>\n",
              "</tr>\n",
              "<tr>\n",
              "  <th>C(housestyle)[T.2.5Unf]</th> <td> 9004.8120</td> <td> 1.06e+04</td> <td>    0.851</td> <td> 0.395</td> <td>-1.17e+04</td> <td> 2.97e+04</td>\n",
              "</tr>\n",
              "<tr>\n",
              "  <th>C(housestyle)[T.2Story]</th> <td>-5853.3951</td> <td> 3470.506</td> <td>   -1.687</td> <td> 0.092</td> <td>-1.27e+04</td> <td>  953.603</td>\n",
              "</tr>\n",
              "<tr>\n",
              "  <th>C(housestyle)[T.SFoyer]</th> <td>    -3e+04</td> <td> 6729.527</td> <td>   -4.457</td> <td> 0.000</td> <td>-4.32e+04</td> <td>-1.68e+04</td>\n",
              "</tr>\n",
              "<tr>\n",
              "  <th>C(housestyle)[T.SLvl]</th>   <td>-2.947e+04</td> <td> 5094.513</td> <td>   -5.786</td> <td> 0.000</td> <td>-3.95e+04</td> <td>-1.95e+04</td>\n",
              "</tr>\n",
              "<tr>\n",
              "  <th>C(roofstyle)[T.Gable]</th>   <td>-1.428e+04</td> <td> 1.25e+04</td> <td>   -1.145</td> <td> 0.252</td> <td>-3.88e+04</td> <td> 1.02e+04</td>\n",
              "</tr>\n",
              "<tr>\n",
              "  <th>C(roofstyle)[T.Gambr]</th>   <td>-5353.8867</td> <td>  1.5e+04</td> <td>   -0.357</td> <td> 0.721</td> <td>-3.48e+04</td> <td> 2.41e+04</td>\n",
              "</tr>\n",
              "<tr>\n",
              "  <th>C(roofstyle)[T.Hip]</th>     <td> 2023.2516</td> <td> 1.26e+04</td> <td>    0.161</td> <td> 0.872</td> <td>-2.26e+04</td> <td> 2.67e+04</td>\n",
              "</tr>\n",
              "<tr>\n",
              "  <th>C(roofstyle)[T.Mansa]</th>   <td>-7248.4346</td> <td> 1.86e+04</td> <td>   -0.389</td> <td> 0.697</td> <td>-4.37e+04</td> <td> 2.93e+04</td>\n",
              "</tr>\n",
              "<tr>\n",
              "  <th>C(roofstyle)[T.Shed]</th>    <td>-2.668e+04</td> <td> 2.46e+04</td> <td>   -1.084</td> <td> 0.278</td> <td> -7.5e+04</td> <td> 2.16e+04</td>\n",
              "</tr>\n",
              "<tr>\n",
              "  <th>C(heating)[T.GasA]</th>      <td>-8904.5959</td> <td> 3.69e+04</td> <td>   -0.241</td> <td> 0.809</td> <td>-8.13e+04</td> <td> 6.35e+04</td>\n",
              "</tr>\n",
              "<tr>\n",
              "  <th>C(heating)[T.GasW]</th>      <td>-1807.1944</td> <td> 3.78e+04</td> <td>   -0.048</td> <td> 0.962</td> <td> -7.6e+04</td> <td> 7.24e+04</td>\n",
              "</tr>\n",
              "<tr>\n",
              "  <th>C(heating)[T.Grav]</th>      <td> 9073.6891</td> <td> 4.04e+04</td> <td>    0.225</td> <td> 0.822</td> <td>-7.02e+04</td> <td> 8.83e+04</td>\n",
              "</tr>\n",
              "<tr>\n",
              "  <th>C(heating)[T.OthW]</th>      <td>-2.973e+04</td> <td> 5.23e+04</td> <td>   -0.568</td> <td> 0.570</td> <td>-1.32e+05</td> <td> 7.29e+04</td>\n",
              "</tr>\n",
              "<tr>\n",
              "  <th>C(heating)[T.Wall]</th>      <td> 3467.9849</td> <td> 5.22e+04</td> <td>    0.066</td> <td> 0.947</td> <td>-9.88e+04</td> <td> 1.06e+05</td>\n",
              "</tr>\n",
              "<tr>\n",
              "  <th>qualityindex</th>            <td> 2416.4728</td> <td>  106.921</td> <td>   22.601</td> <td> 0.000</td> <td> 2206.760</td> <td> 2626.185</td>\n",
              "</tr>\n",
              "<tr>\n",
              "  <th>totalsqftcalc</th>           <td>   57.5507</td> <td>    1.512</td> <td>   38.071</td> <td> 0.000</td> <td>   54.586</td> <td>   60.516</td>\n",
              "</tr>\n",
              "<tr>\n",
              "  <th>yearbuilt</th>               <td>  920.8668</td> <td>   36.789</td> <td>   25.031</td> <td> 0.000</td> <td>  848.710</td> <td>  993.024</td>\n",
              "</tr>\n",
              "</table>\n",
              "<table class=\"simpletable\">\n",
              "<tr>\n",
              "  <th>Omnibus:</th>       <td>546.339</td> <th>  Durbin-Watson:     </th> <td>   2.040</td>\n",
              "</tr>\n",
              "<tr>\n",
              "  <th>Prob(Omnibus):</th> <td> 0.000</td>  <th>  Jarque-Bera (JB):  </th> <td>3233.818</td>\n",
              "</tr>\n",
              "<tr>\n",
              "  <th>Skew:</th>          <td> 1.378</td>  <th>  Prob(JB):          </th> <td>    0.00</td>\n",
              "</tr>\n",
              "<tr>\n",
              "  <th>Kurtosis:</th>      <td> 9.178</td>  <th>  Cond. No.          </th> <td>3.21e+05</td>\n",
              "</tr>\n",
              "</table>"
            ],
            "text/plain": [
              "<class 'statsmodels.iolib.summary.Summary'>\n",
              "\"\"\"\n",
              "                            OLS Regression Results                            \n",
              "==============================================================================\n",
              "Dep. Variable:                      y   R-squared:                       0.795\n",
              "Model:                            OLS   Adj. R-squared:                  0.792\n",
              "Method:                 Least Squares   F-statistic:                     270.1\n",
              "Date:                Fri, 22 Feb 2019   Prob (F-statistic):               0.00\n",
              "Time:                        19:00:07   Log-Likelihood:                -20221.\n",
              "No. Observations:                1696   AIC:                         4.049e+04\n",
              "Df Residuals:                    1671   BIC:                         4.063e+04\n",
              "Df Model:                          24                                         \n",
              "Covariance Type:            nonrobust                                         \n",
              "===========================================================================================\n",
              "                              coef    std err          t      P>|t|      [0.025      0.975]\n",
              "-------------------------------------------------------------------------------------------\n",
              "Intercept               -1.801e+06   7.97e+04    -22.599      0.000   -1.96e+06   -1.64e+06\n",
              "C(lotconfig)[T.CulDSac]  3893.0533   4156.158      0.937      0.349   -4258.772     1.2e+04\n",
              "C(lotconfig)[T.FR2]      -382.9957   6697.635     -0.057      0.954   -1.35e+04    1.28e+04\n",
              "C(lotconfig)[T.FR3]     -2744.7871   1.32e+04     -0.208      0.835   -2.86e+04    2.31e+04\n",
              "C(lotconfig)[T.Inside]   1295.7344   2343.936      0.553      0.580   -3301.625    5893.094\n",
              "C(housestyle)[T.1.5Unf]  1.187e+04   1.03e+04      1.156      0.248   -8259.349     3.2e+04\n",
              "C(housestyle)[T.1Story] -8668.1787   3195.979     -2.712      0.007   -1.49e+04   -2399.634\n",
              "C(housestyle)[T.2.5Fin]  1.045e+04   1.68e+04      0.623      0.533   -2.24e+04    4.33e+04\n",
              "C(housestyle)[T.2.5Unf]  9004.8120   1.06e+04      0.851      0.395   -1.17e+04    2.97e+04\n",
              "C(housestyle)[T.2Story] -5853.3951   3470.506     -1.687      0.092   -1.27e+04     953.603\n",
              "C(housestyle)[T.SFoyer]     -3e+04   6729.527     -4.457      0.000   -4.32e+04   -1.68e+04\n",
              "C(housestyle)[T.SLvl]   -2.947e+04   5094.513     -5.786      0.000   -3.95e+04   -1.95e+04\n",
              "C(roofstyle)[T.Gable]   -1.428e+04   1.25e+04     -1.145      0.252   -3.88e+04    1.02e+04\n",
              "C(roofstyle)[T.Gambr]   -5353.8867    1.5e+04     -0.357      0.721   -3.48e+04    2.41e+04\n",
              "C(roofstyle)[T.Hip]      2023.2516   1.26e+04      0.161      0.872   -2.26e+04    2.67e+04\n",
              "C(roofstyle)[T.Mansa]   -7248.4346   1.86e+04     -0.389      0.697   -4.37e+04    2.93e+04\n",
              "C(roofstyle)[T.Shed]    -2.668e+04   2.46e+04     -1.084      0.278    -7.5e+04    2.16e+04\n",
              "C(heating)[T.GasA]      -8904.5959   3.69e+04     -0.241      0.809   -8.13e+04    6.35e+04\n",
              "C(heating)[T.GasW]      -1807.1944   3.78e+04     -0.048      0.962    -7.6e+04    7.24e+04\n",
              "C(heating)[T.Grav]       9073.6891   4.04e+04      0.225      0.822   -7.02e+04    8.83e+04\n",
              "C(heating)[T.OthW]      -2.973e+04   5.23e+04     -0.568      0.570   -1.32e+05    7.29e+04\n",
              "C(heating)[T.Wall]       3467.9849   5.22e+04      0.066      0.947   -9.88e+04    1.06e+05\n",
              "qualityindex             2416.4728    106.921     22.601      0.000    2206.760    2626.185\n",
              "totalsqftcalc              57.5507      1.512     38.071      0.000      54.586      60.516\n",
              "yearbuilt                 920.8668     36.789     25.031      0.000     848.710     993.024\n",
              "==============================================================================\n",
              "Omnibus:                      546.339   Durbin-Watson:                   2.040\n",
              "Prob(Omnibus):                  0.000   Jarque-Bera (JB):             3233.818\n",
              "Skew:                           1.378   Prob(JB):                         0.00\n",
              "Kurtosis:                       9.178   Cond. No.                     3.21e+05\n",
              "==============================================================================\n",
              "\n",
              "Warnings:\n",
              "[1] Standard Errors assume that the covariance matrix of the errors is correctly specified.\n",
              "[2] The condition number is large, 3.21e+05. This might indicate that there are\n",
              "strong multicollinearity or other numerical problems.\n",
              "\"\"\""
            ]
          },
          "metadata": {
            "tags": []
          },
          "execution_count": 43
        }
      ]
    },
    {
      "metadata": {
        "id": "g_-t6wmrkC5S",
        "colab_type": "code",
        "colab": {
          "base_uri": "https://localhost:8080/",
          "height": 838
        },
        "outputId": "23844f20-dda3-4b27-ef09-f2198f5e03e5"
      },
      "cell_type": "code",
      "source": [
        "#  Benchmark model2: added neighborhood to HW02 Shell Code\n",
        "model2 = smf.ols(formula='y ~ qualityindex+totalsqftcalc+C(neighborhood)+yearbuilt', data=train).fit()\n",
        "model2.summary()"
      ],
      "execution_count": 44,
      "outputs": [
        {
          "output_type": "execute_result",
          "data": {
            "text/html": [
              "<table class=\"simpletable\">\n",
              "<caption>OLS Regression Results</caption>\n",
              "<tr>\n",
              "  <th>Dep. Variable:</th>            <td>y</td>        <th>  R-squared:         </th> <td>   0.865</td> \n",
              "</tr>\n",
              "<tr>\n",
              "  <th>Model:</th>                   <td>OLS</td>       <th>  Adj. R-squared:    </th> <td>   0.864</td> \n",
              "</tr>\n",
              "<tr>\n",
              "  <th>Method:</th>             <td>Least Squares</td>  <th>  F-statistic:       </th> <td>   467.7</td> \n",
              "</tr>\n",
              "<tr>\n",
              "  <th>Date:</th>             <td>Fri, 22 Feb 2019</td> <th>  Prob (F-statistic):</th>  <td>  0.00</td>  \n",
              "</tr>\n",
              "<tr>\n",
              "  <th>Time:</th>                 <td>19:00:08</td>     <th>  Log-Likelihood:    </th> <td> -19864.</td> \n",
              "</tr>\n",
              "<tr>\n",
              "  <th>No. Observations:</th>      <td>  1696</td>      <th>  AIC:               </th> <td>3.978e+04</td>\n",
              "</tr>\n",
              "<tr>\n",
              "  <th>Df Residuals:</th>          <td>  1672</td>      <th>  BIC:               </th> <td>3.991e+04</td>\n",
              "</tr>\n",
              "<tr>\n",
              "  <th>Df Model:</th>              <td>    23</td>      <th>                     </th>     <td> </td>    \n",
              "</tr>\n",
              "<tr>\n",
              "  <th>Covariance Type:</th>      <td>nonrobust</td>    <th>                     </th>     <td> </td>    \n",
              "</tr>\n",
              "</table>\n",
              "<table class=\"simpletable\">\n",
              "<tr>\n",
              "               <td></td>                 <th>coef</th>     <th>std err</th>      <th>t</th>      <th>P>|t|</th>  <th>[0.025</th>    <th>0.975]</th>  \n",
              "</tr>\n",
              "<tr>\n",
              "  <th>Intercept</th>                  <td> -1.11e+06</td> <td> 1.08e+05</td> <td>  -10.280</td> <td> 0.000</td> <td>-1.32e+06</td> <td>-8.98e+05</td>\n",
              "</tr>\n",
              "<tr>\n",
              "  <th>C(neighborhood)[T.BrkSide]</th> <td>-1.511e+04</td> <td>  1.8e+04</td> <td>   -0.842</td> <td> 0.400</td> <td>-5.03e+04</td> <td> 2.01e+04</td>\n",
              "</tr>\n",
              "<tr>\n",
              "  <th>C(neighborhood)[T.ClearCr]</th> <td>-1632.7555</td> <td> 1.83e+04</td> <td>   -0.089</td> <td> 0.929</td> <td>-3.75e+04</td> <td> 3.42e+04</td>\n",
              "</tr>\n",
              "<tr>\n",
              "  <th>C(neighborhood)[T.CollgCr]</th> <td>-8077.0972</td> <td> 1.74e+04</td> <td>   -0.465</td> <td> 0.642</td> <td>-4.21e+04</td> <td>  2.6e+04</td>\n",
              "</tr>\n",
              "<tr>\n",
              "  <th>C(neighborhood)[T.Crawfor]</th> <td> 4916.1283</td> <td> 1.79e+04</td> <td>    0.274</td> <td> 0.784</td> <td>-3.03e+04</td> <td> 4.01e+04</td>\n",
              "</tr>\n",
              "<tr>\n",
              "  <th>C(neighborhood)[T.Edwards]</th> <td>-2.091e+04</td> <td> 1.77e+04</td> <td>   -1.184</td> <td> 0.236</td> <td>-5.55e+04</td> <td> 1.37e+04</td>\n",
              "</tr>\n",
              "<tr>\n",
              "  <th>C(neighborhood)[T.Gilbert]</th> <td>-1.016e+04</td> <td> 1.74e+04</td> <td>   -0.583</td> <td> 0.560</td> <td>-4.44e+04</td> <td>  2.4e+04</td>\n",
              "</tr>\n",
              "<tr>\n",
              "  <th>C(neighborhood)[T.IDOTRR]</th>  <td>-1.613e+04</td> <td> 1.82e+04</td> <td>   -0.887</td> <td> 0.375</td> <td>-5.18e+04</td> <td> 1.95e+04</td>\n",
              "</tr>\n",
              "<tr>\n",
              "  <th>C(neighborhood)[T.Mitchel]</th> <td>-2.591e+04</td> <td> 1.77e+04</td> <td>   -1.465</td> <td> 0.143</td> <td>-6.06e+04</td> <td> 8769.610</td>\n",
              "</tr>\n",
              "<tr>\n",
              "  <th>C(neighborhood)[T.NAmes]</th>   <td>-2.809e+04</td> <td> 1.75e+04</td> <td>   -1.606</td> <td> 0.109</td> <td>-6.24e+04</td> <td> 6222.930</td>\n",
              "</tr>\n",
              "<tr>\n",
              "  <th>C(neighborhood)[T.NWAmes]</th>  <td>-3.162e+04</td> <td> 1.76e+04</td> <td>   -1.793</td> <td> 0.073</td> <td>-6.62e+04</td> <td> 2966.844</td>\n",
              "</tr>\n",
              "<tr>\n",
              "  <th>C(neighborhood)[T.NoRidge]</th> <td> 3.345e+04</td> <td> 1.79e+04</td> <td>    1.870</td> <td> 0.062</td> <td>-1629.388</td> <td> 6.85e+04</td>\n",
              "</tr>\n",
              "<tr>\n",
              "  <th>C(neighborhood)[T.NridgHt]</th> <td> 8.081e+04</td> <td> 1.76e+04</td> <td>    4.587</td> <td> 0.000</td> <td> 4.63e+04</td> <td> 1.15e+05</td>\n",
              "</tr>\n",
              "<tr>\n",
              "  <th>C(neighborhood)[T.OldTown]</th> <td>-1.859e+04</td> <td> 1.79e+04</td> <td>   -1.037</td> <td> 0.300</td> <td>-5.37e+04</td> <td> 1.66e+04</td>\n",
              "</tr>\n",
              "<tr>\n",
              "  <th>C(neighborhood)[T.SWISU]</th>   <td>-1.847e+04</td> <td> 1.88e+04</td> <td>   -0.983</td> <td> 0.326</td> <td>-5.53e+04</td> <td> 1.84e+04</td>\n",
              "</tr>\n",
              "<tr>\n",
              "  <th>C(neighborhood)[T.Sawyer]</th>  <td>-2.913e+04</td> <td> 1.76e+04</td> <td>   -1.651</td> <td> 0.099</td> <td>-6.37e+04</td> <td> 5484.612</td>\n",
              "</tr>\n",
              "<tr>\n",
              "  <th>C(neighborhood)[T.SawyerW]</th> <td> -2.22e+04</td> <td> 1.76e+04</td> <td>   -1.262</td> <td> 0.207</td> <td>-5.67e+04</td> <td> 1.23e+04</td>\n",
              "</tr>\n",
              "<tr>\n",
              "  <th>C(neighborhood)[T.Somerst]</th> <td> 2.522e+04</td> <td> 1.75e+04</td> <td>    1.438</td> <td> 0.151</td> <td>-9189.535</td> <td> 5.96e+04</td>\n",
              "</tr>\n",
              "<tr>\n",
              "  <th>C(neighborhood)[T.StoneBr]</th> <td> 1.015e+05</td> <td> 1.89e+04</td> <td>    5.382</td> <td> 0.000</td> <td> 6.45e+04</td> <td> 1.39e+05</td>\n",
              "</tr>\n",
              "<tr>\n",
              "  <th>C(neighborhood)[T.Timber]</th>  <td> 1.191e+04</td> <td> 1.77e+04</td> <td>    0.673</td> <td> 0.501</td> <td>-2.28e+04</td> <td> 4.66e+04</td>\n",
              "</tr>\n",
              "<tr>\n",
              "  <th>C(neighborhood)[T.Veenker]</th> <td>-1.367e+04</td> <td> 1.92e+04</td> <td>   -0.710</td> <td> 0.478</td> <td>-5.14e+04</td> <td> 2.41e+04</td>\n",
              "</tr>\n",
              "<tr>\n",
              "  <th>qualityindex</th>               <td> 1933.1840</td> <td>   89.132</td> <td>   21.689</td> <td> 0.000</td> <td> 1758.362</td> <td> 2108.006</td>\n",
              "</tr>\n",
              "<tr>\n",
              "  <th>totalsqftcalc</th>              <td>   51.0808</td> <td>    1.277</td> <td>   39.998</td> <td> 0.000</td> <td>   48.576</td> <td>   53.586</td>\n",
              "</tr>\n",
              "<tr>\n",
              "  <th>yearbuilt</th>                  <td>  575.7189</td> <td>   53.113</td> <td>   10.839</td> <td> 0.000</td> <td>  471.543</td> <td>  679.894</td>\n",
              "</tr>\n",
              "</table>\n",
              "<table class=\"simpletable\">\n",
              "<tr>\n",
              "  <th>Omnibus:</th>       <td>550.709</td> <th>  Durbin-Watson:     </th> <td>   2.051</td>\n",
              "</tr>\n",
              "<tr>\n",
              "  <th>Prob(Omnibus):</th> <td> 0.000</td>  <th>  Jarque-Bera (JB):  </th> <td>4115.098</td>\n",
              "</tr>\n",
              "<tr>\n",
              "  <th>Skew:</th>          <td> 1.315</td>  <th>  Prob(JB):          </th> <td>    0.00</td>\n",
              "</tr>\n",
              "<tr>\n",
              "  <th>Kurtosis:</th>      <td>10.164</td>  <th>  Cond. No.          </th> <td>4.40e+05</td>\n",
              "</tr>\n",
              "</table>"
            ],
            "text/plain": [
              "<class 'statsmodels.iolib.summary.Summary'>\n",
              "\"\"\"\n",
              "                            OLS Regression Results                            \n",
              "==============================================================================\n",
              "Dep. Variable:                      y   R-squared:                       0.865\n",
              "Model:                            OLS   Adj. R-squared:                  0.864\n",
              "Method:                 Least Squares   F-statistic:                     467.7\n",
              "Date:                Fri, 22 Feb 2019   Prob (F-statistic):               0.00\n",
              "Time:                        19:00:08   Log-Likelihood:                -19864.\n",
              "No. Observations:                1696   AIC:                         3.978e+04\n",
              "Df Residuals:                    1672   BIC:                         3.991e+04\n",
              "Df Model:                          23                                         \n",
              "Covariance Type:            nonrobust                                         \n",
              "==============================================================================================\n",
              "                                 coef    std err          t      P>|t|      [0.025      0.975]\n",
              "----------------------------------------------------------------------------------------------\n",
              "Intercept                   -1.11e+06   1.08e+05    -10.280      0.000   -1.32e+06   -8.98e+05\n",
              "C(neighborhood)[T.BrkSide] -1.511e+04    1.8e+04     -0.842      0.400   -5.03e+04    2.01e+04\n",
              "C(neighborhood)[T.ClearCr] -1632.7555   1.83e+04     -0.089      0.929   -3.75e+04    3.42e+04\n",
              "C(neighborhood)[T.CollgCr] -8077.0972   1.74e+04     -0.465      0.642   -4.21e+04     2.6e+04\n",
              "C(neighborhood)[T.Crawfor]  4916.1283   1.79e+04      0.274      0.784   -3.03e+04    4.01e+04\n",
              "C(neighborhood)[T.Edwards] -2.091e+04   1.77e+04     -1.184      0.236   -5.55e+04    1.37e+04\n",
              "C(neighborhood)[T.Gilbert] -1.016e+04   1.74e+04     -0.583      0.560   -4.44e+04     2.4e+04\n",
              "C(neighborhood)[T.IDOTRR]  -1.613e+04   1.82e+04     -0.887      0.375   -5.18e+04    1.95e+04\n",
              "C(neighborhood)[T.Mitchel] -2.591e+04   1.77e+04     -1.465      0.143   -6.06e+04    8769.610\n",
              "C(neighborhood)[T.NAmes]   -2.809e+04   1.75e+04     -1.606      0.109   -6.24e+04    6222.930\n",
              "C(neighborhood)[T.NWAmes]  -3.162e+04   1.76e+04     -1.793      0.073   -6.62e+04    2966.844\n",
              "C(neighborhood)[T.NoRidge]  3.345e+04   1.79e+04      1.870      0.062   -1629.388    6.85e+04\n",
              "C(neighborhood)[T.NridgHt]  8.081e+04   1.76e+04      4.587      0.000    4.63e+04    1.15e+05\n",
              "C(neighborhood)[T.OldTown] -1.859e+04   1.79e+04     -1.037      0.300   -5.37e+04    1.66e+04\n",
              "C(neighborhood)[T.SWISU]   -1.847e+04   1.88e+04     -0.983      0.326   -5.53e+04    1.84e+04\n",
              "C(neighborhood)[T.Sawyer]  -2.913e+04   1.76e+04     -1.651      0.099   -6.37e+04    5484.612\n",
              "C(neighborhood)[T.SawyerW]  -2.22e+04   1.76e+04     -1.262      0.207   -5.67e+04    1.23e+04\n",
              "C(neighborhood)[T.Somerst]  2.522e+04   1.75e+04      1.438      0.151   -9189.535    5.96e+04\n",
              "C(neighborhood)[T.StoneBr]  1.015e+05   1.89e+04      5.382      0.000    6.45e+04    1.39e+05\n",
              "C(neighborhood)[T.Timber]   1.191e+04   1.77e+04      0.673      0.501   -2.28e+04    4.66e+04\n",
              "C(neighborhood)[T.Veenker] -1.367e+04   1.92e+04     -0.710      0.478   -5.14e+04    2.41e+04\n",
              "qualityindex                1933.1840     89.132     21.689      0.000    1758.362    2108.006\n",
              "totalsqftcalc                 51.0808      1.277     39.998      0.000      48.576      53.586\n",
              "yearbuilt                    575.7189     53.113     10.839      0.000     471.543     679.894\n",
              "==============================================================================\n",
              "Omnibus:                      550.709   Durbin-Watson:                   2.051\n",
              "Prob(Omnibus):                  0.000   Jarque-Bera (JB):             4115.098\n",
              "Skew:                           1.315   Prob(JB):                         0.00\n",
              "Kurtosis:                      10.164   Cond. No.                     4.40e+05\n",
              "==============================================================================\n",
              "\n",
              "Warnings:\n",
              "[1] Standard Errors assume that the covariance matrix of the errors is correctly specified.\n",
              "[2] The condition number is large, 4.4e+05. This might indicate that there are\n",
              "strong multicollinearity or other numerical problems.\n",
              "\"\"\""
            ]
          },
          "metadata": {
            "tags": []
          },
          "execution_count": 44
        }
      ]
    },
    {
      "metadata": {
        "id": "WnGY3lI1kC5V",
        "colab_type": "code",
        "colab": {
          "base_uri": "https://localhost:8080/",
          "height": 859
        },
        "outputId": "a100e52d-4834-4f47-b42c-879d2a13a41c"
      },
      "cell_type": "code",
      "source": [
        "#  BEST MODEL:  SUBMISSTION FOR ASSIGNMENT02 *** DO NOT DELETE ***\n",
        "model3 = smf.ols(formula='y ~ overallqual + grlivarea + C(neighborhood) + yearbuilt + totalbath', data=train).fit()\n",
        "model3.summary()"
      ],
      "execution_count": 45,
      "outputs": [
        {
          "output_type": "execute_result",
          "data": {
            "text/html": [
              "<table class=\"simpletable\">\n",
              "<caption>OLS Regression Results</caption>\n",
              "<tr>\n",
              "  <th>Dep. Variable:</th>            <td>y</td>        <th>  R-squared:         </th> <td>   0.854</td> \n",
              "</tr>\n",
              "<tr>\n",
              "  <th>Model:</th>                   <td>OLS</td>       <th>  Adj. R-squared:    </th> <td>   0.851</td> \n",
              "</tr>\n",
              "<tr>\n",
              "  <th>Method:</th>             <td>Least Squares</td>  <th>  F-statistic:       </th> <td>   405.6</td> \n",
              "</tr>\n",
              "<tr>\n",
              "  <th>Date:</th>             <td>Fri, 22 Feb 2019</td> <th>  Prob (F-statistic):</th>  <td>  0.00</td>  \n",
              "</tr>\n",
              "<tr>\n",
              "  <th>Time:</th>                 <td>19:00:08</td>     <th>  Log-Likelihood:    </th> <td> -19937.</td> \n",
              "</tr>\n",
              "<tr>\n",
              "  <th>No. Observations:</th>      <td>  1696</td>      <th>  AIC:               </th> <td>3.992e+04</td>\n",
              "</tr>\n",
              "<tr>\n",
              "  <th>Df Residuals:</th>          <td>  1671</td>      <th>  BIC:               </th> <td>4.006e+04</td>\n",
              "</tr>\n",
              "<tr>\n",
              "  <th>Df Model:</th>              <td>    24</td>      <th>                     </th>     <td> </td>    \n",
              "</tr>\n",
              "<tr>\n",
              "  <th>Covariance Type:</th>      <td>nonrobust</td>    <th>                     </th>     <td> </td>    \n",
              "</tr>\n",
              "</table>\n",
              "<table class=\"simpletable\">\n",
              "<tr>\n",
              "               <td></td>                 <th>coef</th>     <th>std err</th>      <th>t</th>      <th>P>|t|</th>  <th>[0.025</th>    <th>0.975]</th>  \n",
              "</tr>\n",
              "<tr>\n",
              "  <th>Intercept</th>                  <td> -8.07e+05</td> <td> 1.16e+05</td> <td>   -6.929</td> <td> 0.000</td> <td>-1.04e+06</td> <td>-5.79e+05</td>\n",
              "</tr>\n",
              "<tr>\n",
              "  <th>C(neighborhood)[T.BrkSide]</th> <td> 1.747e+04</td> <td> 1.87e+04</td> <td>    0.932</td> <td> 0.352</td> <td>-1.93e+04</td> <td> 5.42e+04</td>\n",
              "</tr>\n",
              "<tr>\n",
              "  <th>C(neighborhood)[T.ClearCr]</th> <td> 3.329e+04</td> <td> 1.91e+04</td> <td>    1.746</td> <td> 0.081</td> <td>-4099.832</td> <td> 7.07e+04</td>\n",
              "</tr>\n",
              "<tr>\n",
              "  <th>C(neighborhood)[T.CollgCr]</th> <td> 1.451e+04</td> <td> 1.81e+04</td> <td>    0.801</td> <td> 0.423</td> <td> -2.1e+04</td> <td>    5e+04</td>\n",
              "</tr>\n",
              "<tr>\n",
              "  <th>C(neighborhood)[T.Crawfor]</th> <td> 3.969e+04</td> <td> 1.87e+04</td> <td>    2.122</td> <td> 0.034</td> <td> 3010.354</td> <td> 7.64e+04</td>\n",
              "</tr>\n",
              "<tr>\n",
              "  <th>C(neighborhood)[T.Edwards]</th> <td> 1.447e+04</td> <td> 1.84e+04</td> <td>    0.785</td> <td> 0.433</td> <td>-2.17e+04</td> <td> 5.06e+04</td>\n",
              "</tr>\n",
              "<tr>\n",
              "  <th>C(neighborhood)[T.Gilbert]</th> <td>-3799.3557</td> <td> 1.82e+04</td> <td>   -0.208</td> <td> 0.835</td> <td>-3.95e+04</td> <td> 3.19e+04</td>\n",
              "</tr>\n",
              "<tr>\n",
              "  <th>C(neighborhood)[T.IDOTRR]</th>  <td> 1.158e+04</td> <td>  1.9e+04</td> <td>    0.610</td> <td> 0.542</td> <td>-2.57e+04</td> <td> 4.88e+04</td>\n",
              "</tr>\n",
              "<tr>\n",
              "  <th>C(neighborhood)[T.Mitchel]</th> <td>  2.05e+04</td> <td> 1.85e+04</td> <td>    1.111</td> <td> 0.267</td> <td>-1.57e+04</td> <td> 5.67e+04</td>\n",
              "</tr>\n",
              "<tr>\n",
              "  <th>C(neighborhood)[T.NAmes]</th>   <td> 1.863e+04</td> <td> 1.83e+04</td> <td>    1.020</td> <td> 0.308</td> <td>-1.72e+04</td> <td> 5.44e+04</td>\n",
              "</tr>\n",
              "<tr>\n",
              "  <th>C(neighborhood)[T.NWAmes]</th>  <td> 3338.0871</td> <td> 1.84e+04</td> <td>    0.181</td> <td> 0.856</td> <td>-3.27e+04</td> <td> 3.94e+04</td>\n",
              "</tr>\n",
              "<tr>\n",
              "  <th>C(neighborhood)[T.NoRidge]</th> <td> 5.246e+04</td> <td> 1.86e+04</td> <td>    2.816</td> <td> 0.005</td> <td> 1.59e+04</td> <td>  8.9e+04</td>\n",
              "</tr>\n",
              "<tr>\n",
              "  <th>C(neighborhood)[T.NridgHt]</th> <td> 9.508e+04</td> <td> 1.84e+04</td> <td>    5.180</td> <td> 0.000</td> <td> 5.91e+04</td> <td> 1.31e+05</td>\n",
              "</tr>\n",
              "<tr>\n",
              "  <th>C(neighborhood)[T.OldTown]</th> <td> 1.199e+04</td> <td> 1.87e+04</td> <td>    0.641</td> <td> 0.522</td> <td>-2.47e+04</td> <td> 4.87e+04</td>\n",
              "</tr>\n",
              "<tr>\n",
              "  <th>C(neighborhood)[T.SWISU]</th>   <td> 2615.6166</td> <td> 1.96e+04</td> <td>    0.133</td> <td> 0.894</td> <td>-3.58e+04</td> <td> 4.11e+04</td>\n",
              "</tr>\n",
              "<tr>\n",
              "  <th>C(neighborhood)[T.Sawyer]</th>  <td> 2.099e+04</td> <td> 1.84e+04</td> <td>    1.139</td> <td> 0.255</td> <td>-1.52e+04</td> <td> 5.71e+04</td>\n",
              "</tr>\n",
              "<tr>\n",
              "  <th>C(neighborhood)[T.SawyerW]</th> <td>-1558.2356</td> <td> 1.84e+04</td> <td>   -0.085</td> <td> 0.932</td> <td>-3.76e+04</td> <td> 3.44e+04</td>\n",
              "</tr>\n",
              "<tr>\n",
              "  <th>C(neighborhood)[T.Somerst]</th> <td> 3.528e+04</td> <td> 1.83e+04</td> <td>    1.928</td> <td> 0.054</td> <td> -608.900</td> <td> 7.12e+04</td>\n",
              "</tr>\n",
              "<tr>\n",
              "  <th>C(neighborhood)[T.StoneBr]</th> <td> 1.188e+05</td> <td> 1.96e+04</td> <td>    6.046</td> <td> 0.000</td> <td> 8.02e+04</td> <td> 1.57e+05</td>\n",
              "</tr>\n",
              "<tr>\n",
              "  <th>C(neighborhood)[T.Timber]</th>  <td> 3.652e+04</td> <td> 1.84e+04</td> <td>    1.980</td> <td> 0.048</td> <td>  334.634</td> <td> 7.27e+04</td>\n",
              "</tr>\n",
              "<tr>\n",
              "  <th>C(neighborhood)[T.Veenker]</th> <td> 3.107e+04</td> <td>    2e+04</td> <td>    1.552</td> <td> 0.121</td> <td>-8185.934</td> <td> 7.03e+04</td>\n",
              "</tr>\n",
              "<tr>\n",
              "  <th>overallqual</th>                <td> 1.796e+04</td> <td>  923.677</td> <td>   19.444</td> <td> 0.000</td> <td> 1.61e+04</td> <td> 1.98e+04</td>\n",
              "</tr>\n",
              "<tr>\n",
              "  <th>grlivarea</th>                  <td>   50.8053</td> <td>    2.424</td> <td>   20.959</td> <td> 0.000</td> <td>   46.051</td> <td>   55.560</td>\n",
              "</tr>\n",
              "<tr>\n",
              "  <th>yearbuilt</th>                  <td>  381.4871</td> <td>   57.952</td> <td>    6.583</td> <td> 0.000</td> <td>  267.822</td> <td>  495.152</td>\n",
              "</tr>\n",
              "<tr>\n",
              "  <th>totalbath</th>                  <td> 1.466e+04</td> <td> 1477.867</td> <td>    9.919</td> <td> 0.000</td> <td> 1.18e+04</td> <td> 1.76e+04</td>\n",
              "</tr>\n",
              "</table>\n",
              "<table class=\"simpletable\">\n",
              "<tr>\n",
              "  <th>Omnibus:</th>       <td>523.683</td> <th>  Durbin-Watson:     </th> <td>   2.067</td>\n",
              "</tr>\n",
              "<tr>\n",
              "  <th>Prob(Omnibus):</th> <td> 0.000</td>  <th>  Jarque-Bera (JB):  </th> <td>5105.998</td>\n",
              "</tr>\n",
              "<tr>\n",
              "  <th>Skew:</th>          <td> 1.156</td>  <th>  Prob(JB):          </th> <td>    0.00</td>\n",
              "</tr>\n",
              "<tr>\n",
              "  <th>Kurtosis:</th>      <td>11.180</td>  <th>  Cond. No.          </th> <td>3.96e+05</td>\n",
              "</tr>\n",
              "</table>"
            ],
            "text/plain": [
              "<class 'statsmodels.iolib.summary.Summary'>\n",
              "\"\"\"\n",
              "                            OLS Regression Results                            \n",
              "==============================================================================\n",
              "Dep. Variable:                      y   R-squared:                       0.854\n",
              "Model:                            OLS   Adj. R-squared:                  0.851\n",
              "Method:                 Least Squares   F-statistic:                     405.6\n",
              "Date:                Fri, 22 Feb 2019   Prob (F-statistic):               0.00\n",
              "Time:                        19:00:08   Log-Likelihood:                -19937.\n",
              "No. Observations:                1696   AIC:                         3.992e+04\n",
              "Df Residuals:                    1671   BIC:                         4.006e+04\n",
              "Df Model:                          24                                         \n",
              "Covariance Type:            nonrobust                                         \n",
              "==============================================================================================\n",
              "                                 coef    std err          t      P>|t|      [0.025      0.975]\n",
              "----------------------------------------------------------------------------------------------\n",
              "Intercept                   -8.07e+05   1.16e+05     -6.929      0.000   -1.04e+06   -5.79e+05\n",
              "C(neighborhood)[T.BrkSide]  1.747e+04   1.87e+04      0.932      0.352   -1.93e+04    5.42e+04\n",
              "C(neighborhood)[T.ClearCr]  3.329e+04   1.91e+04      1.746      0.081   -4099.832    7.07e+04\n",
              "C(neighborhood)[T.CollgCr]  1.451e+04   1.81e+04      0.801      0.423    -2.1e+04       5e+04\n",
              "C(neighborhood)[T.Crawfor]  3.969e+04   1.87e+04      2.122      0.034    3010.354    7.64e+04\n",
              "C(neighborhood)[T.Edwards]  1.447e+04   1.84e+04      0.785      0.433   -2.17e+04    5.06e+04\n",
              "C(neighborhood)[T.Gilbert] -3799.3557   1.82e+04     -0.208      0.835   -3.95e+04    3.19e+04\n",
              "C(neighborhood)[T.IDOTRR]   1.158e+04    1.9e+04      0.610      0.542   -2.57e+04    4.88e+04\n",
              "C(neighborhood)[T.Mitchel]   2.05e+04   1.85e+04      1.111      0.267   -1.57e+04    5.67e+04\n",
              "C(neighborhood)[T.NAmes]    1.863e+04   1.83e+04      1.020      0.308   -1.72e+04    5.44e+04\n",
              "C(neighborhood)[T.NWAmes]   3338.0871   1.84e+04      0.181      0.856   -3.27e+04    3.94e+04\n",
              "C(neighborhood)[T.NoRidge]  5.246e+04   1.86e+04      2.816      0.005    1.59e+04     8.9e+04\n",
              "C(neighborhood)[T.NridgHt]  9.508e+04   1.84e+04      5.180      0.000    5.91e+04    1.31e+05\n",
              "C(neighborhood)[T.OldTown]  1.199e+04   1.87e+04      0.641      0.522   -2.47e+04    4.87e+04\n",
              "C(neighborhood)[T.SWISU]    2615.6166   1.96e+04      0.133      0.894   -3.58e+04    4.11e+04\n",
              "C(neighborhood)[T.Sawyer]   2.099e+04   1.84e+04      1.139      0.255   -1.52e+04    5.71e+04\n",
              "C(neighborhood)[T.SawyerW] -1558.2356   1.84e+04     -0.085      0.932   -3.76e+04    3.44e+04\n",
              "C(neighborhood)[T.Somerst]  3.528e+04   1.83e+04      1.928      0.054    -608.900    7.12e+04\n",
              "C(neighborhood)[T.StoneBr]  1.188e+05   1.96e+04      6.046      0.000    8.02e+04    1.57e+05\n",
              "C(neighborhood)[T.Timber]   3.652e+04   1.84e+04      1.980      0.048     334.634    7.27e+04\n",
              "C(neighborhood)[T.Veenker]  3.107e+04      2e+04      1.552      0.121   -8185.934    7.03e+04\n",
              "overallqual                 1.796e+04    923.677     19.444      0.000    1.61e+04    1.98e+04\n",
              "grlivarea                     50.8053      2.424     20.959      0.000      46.051      55.560\n",
              "yearbuilt                    381.4871     57.952      6.583      0.000     267.822     495.152\n",
              "totalbath                   1.466e+04   1477.867      9.919      0.000    1.18e+04    1.76e+04\n",
              "==============================================================================\n",
              "Omnibus:                      523.683   Durbin-Watson:                   2.067\n",
              "Prob(Omnibus):                  0.000   Jarque-Bera (JB):             5105.998\n",
              "Skew:                           1.156   Prob(JB):                         0.00\n",
              "Kurtosis:                      11.180   Cond. No.                     3.96e+05\n",
              "==============================================================================\n",
              "\n",
              "Warnings:\n",
              "[1] Standard Errors assume that the covariance matrix of the errors is correctly specified.\n",
              "[2] The condition number is large, 3.96e+05. This might indicate that there are\n",
              "strong multicollinearity or other numerical problems.\n",
              "\"\"\""
            ]
          },
          "metadata": {
            "tags": []
          },
          "execution_count": 45
        }
      ]
    },
    {
      "metadata": {
        "id": "kS0PEpBqkC5Z",
        "colab_type": "code",
        "colab": {
          "base_uri": "https://localhost:8080/",
          "height": 1027
        },
        "outputId": "bbf7f493-bde0-4269-b389-2082d419391b"
      },
      "cell_type": "code",
      "source": [
        "#Code for linear regression with categorical variables c()\n",
        "model4 = smf.ols(formula='y ~ overallqual + totalsqftcalc + C(neighborhood) + yearbuilt + totalbath + C(housestyle) + lotarea', data=train).fit()\n",
        "model4.summary()"
      ],
      "execution_count": 46,
      "outputs": [
        {
          "output_type": "execute_result",
          "data": {
            "text/html": [
              "<table class=\"simpletable\">\n",
              "<caption>OLS Regression Results</caption>\n",
              "<tr>\n",
              "  <th>Dep. Variable:</th>            <td>y</td>        <th>  R-squared:         </th> <td>   0.878</td> \n",
              "</tr>\n",
              "<tr>\n",
              "  <th>Model:</th>                   <td>OLS</td>       <th>  Adj. R-squared:    </th> <td>   0.875</td> \n",
              "</tr>\n",
              "<tr>\n",
              "  <th>Method:</th>             <td>Least Squares</td>  <th>  F-statistic:       </th> <td>   373.4</td> \n",
              "</tr>\n",
              "<tr>\n",
              "  <th>Date:</th>             <td>Fri, 22 Feb 2019</td> <th>  Prob (F-statistic):</th>  <td>  0.00</td>  \n",
              "</tr>\n",
              "<tr>\n",
              "  <th>Time:</th>                 <td>19:00:08</td>     <th>  Log-Likelihood:    </th> <td> -19783.</td> \n",
              "</tr>\n",
              "<tr>\n",
              "  <th>No. Observations:</th>      <td>  1696</td>      <th>  AIC:               </th> <td>3.963e+04</td>\n",
              "</tr>\n",
              "<tr>\n",
              "  <th>Df Residuals:</th>          <td>  1663</td>      <th>  BIC:               </th> <td>3.981e+04</td>\n",
              "</tr>\n",
              "<tr>\n",
              "  <th>Df Model:</th>              <td>    32</td>      <th>                     </th>     <td> </td>    \n",
              "</tr>\n",
              "<tr>\n",
              "  <th>Covariance Type:</th>      <td>nonrobust</td>    <th>                     </th>     <td> </td>    \n",
              "</tr>\n",
              "</table>\n",
              "<table class=\"simpletable\">\n",
              "<tr>\n",
              "               <td></td>                 <th>coef</th>     <th>std err</th>      <th>t</th>      <th>P>|t|</th>  <th>[0.025</th>    <th>0.975]</th>  \n",
              "</tr>\n",
              "<tr>\n",
              "  <th>Intercept</th>                  <td>-7.478e+05</td> <td>  1.1e+05</td> <td>   -6.799</td> <td> 0.000</td> <td>-9.64e+05</td> <td>-5.32e+05</td>\n",
              "</tr>\n",
              "<tr>\n",
              "  <th>C(neighborhood)[T.BrkSide]</th> <td> 2606.1352</td> <td> 1.72e+04</td> <td>    0.151</td> <td> 0.880</td> <td>-3.12e+04</td> <td> 3.64e+04</td>\n",
              "</tr>\n",
              "<tr>\n",
              "  <th>C(neighborhood)[T.ClearCr]</th> <td>  452.3393</td> <td> 1.76e+04</td> <td>    0.026</td> <td> 0.979</td> <td> -3.4e+04</td> <td> 3.49e+04</td>\n",
              "</tr>\n",
              "<tr>\n",
              "  <th>C(neighborhood)[T.CollgCr]</th> <td>-3916.2737</td> <td> 1.66e+04</td> <td>   -0.236</td> <td> 0.814</td> <td>-3.65e+04</td> <td> 2.87e+04</td>\n",
              "</tr>\n",
              "<tr>\n",
              "  <th>C(neighborhood)[T.Crawfor]</th> <td> 2.036e+04</td> <td> 1.72e+04</td> <td>    1.186</td> <td> 0.236</td> <td>-1.33e+04</td> <td>  5.4e+04</td>\n",
              "</tr>\n",
              "<tr>\n",
              "  <th>C(neighborhood)[T.Edwards]</th> <td>-4331.0691</td> <td> 1.69e+04</td> <td>   -0.256</td> <td> 0.798</td> <td>-3.75e+04</td> <td> 2.89e+04</td>\n",
              "</tr>\n",
              "<tr>\n",
              "  <th>C(neighborhood)[T.Gilbert]</th> <td>-4958.9089</td> <td> 1.67e+04</td> <td>   -0.296</td> <td> 0.767</td> <td>-3.78e+04</td> <td> 2.79e+04</td>\n",
              "</tr>\n",
              "<tr>\n",
              "  <th>C(neighborhood)[T.IDOTRR]</th>  <td>-2355.0872</td> <td> 1.74e+04</td> <td>   -0.135</td> <td> 0.892</td> <td>-3.65e+04</td> <td> 3.18e+04</td>\n",
              "</tr>\n",
              "<tr>\n",
              "  <th>C(neighborhood)[T.Mitchel]</th> <td>-9936.7976</td> <td>  1.7e+04</td> <td>   -0.585</td> <td> 0.558</td> <td>-4.32e+04</td> <td> 2.34e+04</td>\n",
              "</tr>\n",
              "<tr>\n",
              "  <th>C(neighborhood)[T.NAmes]</th>   <td>-1.034e+04</td> <td> 1.68e+04</td> <td>   -0.617</td> <td> 0.538</td> <td>-4.32e+04</td> <td> 2.25e+04</td>\n",
              "</tr>\n",
              "<tr>\n",
              "  <th>C(neighborhood)[T.NWAmes]</th>  <td>-1.745e+04</td> <td> 1.69e+04</td> <td>   -1.033</td> <td> 0.302</td> <td>-5.06e+04</td> <td> 1.57e+04</td>\n",
              "</tr>\n",
              "<tr>\n",
              "  <th>C(neighborhood)[T.NoRidge]</th> <td> 3.324e+04</td> <td> 1.71e+04</td> <td>    1.940</td> <td> 0.053</td> <td> -362.086</td> <td> 6.68e+04</td>\n",
              "</tr>\n",
              "<tr>\n",
              "  <th>C(neighborhood)[T.NridgHt]</th> <td> 6.932e+04</td> <td> 1.69e+04</td> <td>    4.112</td> <td> 0.000</td> <td> 3.63e+04</td> <td> 1.02e+05</td>\n",
              "</tr>\n",
              "<tr>\n",
              "  <th>C(neighborhood)[T.OldTown]</th> <td> -239.3917</td> <td> 1.72e+04</td> <td>   -0.014</td> <td> 0.989</td> <td>-3.39e+04</td> <td> 3.34e+04</td>\n",
              "</tr>\n",
              "<tr>\n",
              "  <th>C(neighborhood)[T.SWISU]</th>   <td>-9230.4028</td> <td>  1.8e+04</td> <td>   -0.512</td> <td> 0.608</td> <td>-4.46e+04</td> <td> 2.61e+04</td>\n",
              "</tr>\n",
              "<tr>\n",
              "  <th>C(neighborhood)[T.Sawyer]</th>  <td>-9345.5794</td> <td> 1.69e+04</td> <td>   -0.552</td> <td> 0.581</td> <td>-4.26e+04</td> <td> 2.39e+04</td>\n",
              "</tr>\n",
              "<tr>\n",
              "  <th>C(neighborhood)[T.SawyerW]</th> <td>-1.616e+04</td> <td> 1.68e+04</td> <td>   -0.959</td> <td> 0.338</td> <td>-4.92e+04</td> <td> 1.69e+04</td>\n",
              "</tr>\n",
              "<tr>\n",
              "  <th>C(neighborhood)[T.Somerst]</th> <td>   2.1e+04</td> <td> 1.68e+04</td> <td>    1.252</td> <td> 0.211</td> <td>-1.19e+04</td> <td> 5.39e+04</td>\n",
              "</tr>\n",
              "<tr>\n",
              "  <th>C(neighborhood)[T.StoneBr]</th> <td> 8.884e+04</td> <td>  1.8e+04</td> <td>    4.922</td> <td> 0.000</td> <td> 5.34e+04</td> <td> 1.24e+05</td>\n",
              "</tr>\n",
              "<tr>\n",
              "  <th>C(neighborhood)[T.Timber]</th>  <td> 8543.9443</td> <td>  1.7e+04</td> <td>    0.504</td> <td> 0.614</td> <td>-2.47e+04</td> <td> 4.18e+04</td>\n",
              "</tr>\n",
              "<tr>\n",
              "  <th>C(neighborhood)[T.Veenker]</th> <td>-8391.5183</td> <td> 1.84e+04</td> <td>   -0.455</td> <td> 0.649</td> <td>-4.46e+04</td> <td> 2.78e+04</td>\n",
              "</tr>\n",
              "<tr>\n",
              "  <th>C(housestyle)[T.1.5Unf]</th>    <td> 6116.9397</td> <td> 8004.410</td> <td>    0.764</td> <td> 0.445</td> <td>-9582.842</td> <td> 2.18e+04</td>\n",
              "</tr>\n",
              "<tr>\n",
              "  <th>C(housestyle)[T.1Story]</th>    <td> 3522.5708</td> <td> 2550.521</td> <td>    1.381</td> <td> 0.167</td> <td>-1480.000</td> <td> 8525.141</td>\n",
              "</tr>\n",
              "<tr>\n",
              "  <th>C(housestyle)[T.2.5Fin]</th>    <td> 2.291e+04</td> <td> 1.32e+04</td> <td>    1.741</td> <td> 0.082</td> <td>-2902.513</td> <td> 4.87e+04</td>\n",
              "</tr>\n",
              "<tr>\n",
              "  <th>C(housestyle)[T.2.5Unf]</th>    <td>-1.056e+04</td> <td> 8298.776</td> <td>   -1.272</td> <td> 0.204</td> <td>-2.68e+04</td> <td> 5721.556</td>\n",
              "</tr>\n",
              "<tr>\n",
              "  <th>C(housestyle)[T.2Story]</th>    <td> 1308.6971</td> <td> 2747.598</td> <td>    0.476</td> <td> 0.634</td> <td>-4080.418</td> <td> 6697.813</td>\n",
              "</tr>\n",
              "<tr>\n",
              "  <th>C(housestyle)[T.SFoyer]</th>    <td> 1110.3726</td> <td> 5386.459</td> <td>    0.206</td> <td> 0.837</td> <td>-9454.582</td> <td> 1.17e+04</td>\n",
              "</tr>\n",
              "<tr>\n",
              "  <th>C(housestyle)[T.SLvl]</th>      <td>-5425.5476</td> <td> 4051.883</td> <td>   -1.339</td> <td> 0.181</td> <td>-1.34e+04</td> <td> 2521.781</td>\n",
              "</tr>\n",
              "<tr>\n",
              "  <th>overallqual</th>                <td> 2.018e+04</td> <td>  823.945</td> <td>   24.495</td> <td> 0.000</td> <td> 1.86e+04</td> <td> 2.18e+04</td>\n",
              "</tr>\n",
              "<tr>\n",
              "  <th>totalsqftcalc</th>              <td>   42.9690</td> <td>    1.668</td> <td>   25.768</td> <td> 0.000</td> <td>   39.698</td> <td>   46.240</td>\n",
              "</tr>\n",
              "<tr>\n",
              "  <th>yearbuilt</th>                  <td>  358.8893</td> <td>   55.164</td> <td>    6.506</td> <td> 0.000</td> <td>  250.692</td> <td>  467.087</td>\n",
              "</tr>\n",
              "<tr>\n",
              "  <th>totalbath</th>                  <td> 1720.0879</td> <td> 1595.022</td> <td>    1.078</td> <td> 0.281</td> <td>-1408.374</td> <td> 4848.550</td>\n",
              "</tr>\n",
              "<tr>\n",
              "  <th>lotarea</th>                    <td>    0.8124</td> <td>    0.102</td> <td>    7.977</td> <td> 0.000</td> <td>    0.613</td> <td>    1.012</td>\n",
              "</tr>\n",
              "</table>\n",
              "<table class=\"simpletable\">\n",
              "<tr>\n",
              "  <th>Omnibus:</th>       <td>450.721</td> <th>  Durbin-Watson:     </th> <td>   2.053</td>\n",
              "</tr>\n",
              "<tr>\n",
              "  <th>Prob(Omnibus):</th> <td> 0.000</td>  <th>  Jarque-Bera (JB):  </th> <td>3858.550</td>\n",
              "</tr>\n",
              "<tr>\n",
              "  <th>Skew:</th>          <td> 0.995</td>  <th>  Prob(JB):          </th> <td>    0.00</td>\n",
              "</tr>\n",
              "<tr>\n",
              "  <th>Kurtosis:</th>      <td>10.116</td>  <th>  Cond. No.          </th> <td>2.18e+06</td>\n",
              "</tr>\n",
              "</table>"
            ],
            "text/plain": [
              "<class 'statsmodels.iolib.summary.Summary'>\n",
              "\"\"\"\n",
              "                            OLS Regression Results                            \n",
              "==============================================================================\n",
              "Dep. Variable:                      y   R-squared:                       0.878\n",
              "Model:                            OLS   Adj. R-squared:                  0.875\n",
              "Method:                 Least Squares   F-statistic:                     373.4\n",
              "Date:                Fri, 22 Feb 2019   Prob (F-statistic):               0.00\n",
              "Time:                        19:00:08   Log-Likelihood:                -19783.\n",
              "No. Observations:                1696   AIC:                         3.963e+04\n",
              "Df Residuals:                    1663   BIC:                         3.981e+04\n",
              "Df Model:                          32                                         \n",
              "Covariance Type:            nonrobust                                         \n",
              "==============================================================================================\n",
              "                                 coef    std err          t      P>|t|      [0.025      0.975]\n",
              "----------------------------------------------------------------------------------------------\n",
              "Intercept                  -7.478e+05    1.1e+05     -6.799      0.000   -9.64e+05   -5.32e+05\n",
              "C(neighborhood)[T.BrkSide]  2606.1352   1.72e+04      0.151      0.880   -3.12e+04    3.64e+04\n",
              "C(neighborhood)[T.ClearCr]   452.3393   1.76e+04      0.026      0.979    -3.4e+04    3.49e+04\n",
              "C(neighborhood)[T.CollgCr] -3916.2737   1.66e+04     -0.236      0.814   -3.65e+04    2.87e+04\n",
              "C(neighborhood)[T.Crawfor]  2.036e+04   1.72e+04      1.186      0.236   -1.33e+04     5.4e+04\n",
              "C(neighborhood)[T.Edwards] -4331.0691   1.69e+04     -0.256      0.798   -3.75e+04    2.89e+04\n",
              "C(neighborhood)[T.Gilbert] -4958.9089   1.67e+04     -0.296      0.767   -3.78e+04    2.79e+04\n",
              "C(neighborhood)[T.IDOTRR]  -2355.0872   1.74e+04     -0.135      0.892   -3.65e+04    3.18e+04\n",
              "C(neighborhood)[T.Mitchel] -9936.7976    1.7e+04     -0.585      0.558   -4.32e+04    2.34e+04\n",
              "C(neighborhood)[T.NAmes]   -1.034e+04   1.68e+04     -0.617      0.538   -4.32e+04    2.25e+04\n",
              "C(neighborhood)[T.NWAmes]  -1.745e+04   1.69e+04     -1.033      0.302   -5.06e+04    1.57e+04\n",
              "C(neighborhood)[T.NoRidge]  3.324e+04   1.71e+04      1.940      0.053    -362.086    6.68e+04\n",
              "C(neighborhood)[T.NridgHt]  6.932e+04   1.69e+04      4.112      0.000    3.63e+04    1.02e+05\n",
              "C(neighborhood)[T.OldTown]  -239.3917   1.72e+04     -0.014      0.989   -3.39e+04    3.34e+04\n",
              "C(neighborhood)[T.SWISU]   -9230.4028    1.8e+04     -0.512      0.608   -4.46e+04    2.61e+04\n",
              "C(neighborhood)[T.Sawyer]  -9345.5794   1.69e+04     -0.552      0.581   -4.26e+04    2.39e+04\n",
              "C(neighborhood)[T.SawyerW] -1.616e+04   1.68e+04     -0.959      0.338   -4.92e+04    1.69e+04\n",
              "C(neighborhood)[T.Somerst]    2.1e+04   1.68e+04      1.252      0.211   -1.19e+04    5.39e+04\n",
              "C(neighborhood)[T.StoneBr]  8.884e+04    1.8e+04      4.922      0.000    5.34e+04    1.24e+05\n",
              "C(neighborhood)[T.Timber]   8543.9443    1.7e+04      0.504      0.614   -2.47e+04    4.18e+04\n",
              "C(neighborhood)[T.Veenker] -8391.5183   1.84e+04     -0.455      0.649   -4.46e+04    2.78e+04\n",
              "C(housestyle)[T.1.5Unf]     6116.9397   8004.410      0.764      0.445   -9582.842    2.18e+04\n",
              "C(housestyle)[T.1Story]     3522.5708   2550.521      1.381      0.167   -1480.000    8525.141\n",
              "C(housestyle)[T.2.5Fin]     2.291e+04   1.32e+04      1.741      0.082   -2902.513    4.87e+04\n",
              "C(housestyle)[T.2.5Unf]    -1.056e+04   8298.776     -1.272      0.204   -2.68e+04    5721.556\n",
              "C(housestyle)[T.2Story]     1308.6971   2747.598      0.476      0.634   -4080.418    6697.813\n",
              "C(housestyle)[T.SFoyer]     1110.3726   5386.459      0.206      0.837   -9454.582    1.17e+04\n",
              "C(housestyle)[T.SLvl]      -5425.5476   4051.883     -1.339      0.181   -1.34e+04    2521.781\n",
              "overallqual                 2.018e+04    823.945     24.495      0.000    1.86e+04    2.18e+04\n",
              "totalsqftcalc                 42.9690      1.668     25.768      0.000      39.698      46.240\n",
              "yearbuilt                    358.8893     55.164      6.506      0.000     250.692     467.087\n",
              "totalbath                   1720.0879   1595.022      1.078      0.281   -1408.374    4848.550\n",
              "lotarea                        0.8124      0.102      7.977      0.000       0.613       1.012\n",
              "==============================================================================\n",
              "Omnibus:                      450.721   Durbin-Watson:                   2.053\n",
              "Prob(Omnibus):                  0.000   Jarque-Bera (JB):             3858.550\n",
              "Skew:                           0.995   Prob(JB):                         0.00\n",
              "Kurtosis:                      10.116   Cond. No.                     2.18e+06\n",
              "==============================================================================\n",
              "\n",
              "Warnings:\n",
              "[1] Standard Errors assume that the covariance matrix of the errors is correctly specified.\n",
              "[2] The condition number is large, 2.18e+06. This might indicate that there are\n",
              "strong multicollinearity or other numerical problems.\n",
              "\"\"\""
            ]
          },
          "metadata": {
            "tags": []
          },
          "execution_count": 46
        }
      ]
    },
    {
      "metadata": {
        "id": "fuDdgLq2kC5e",
        "colab_type": "code",
        "colab": {
          "base_uri": "https://localhost:8080/",
          "height": 460
        },
        "outputId": "7e738bd7-d299-45c0-c007-23848945e961"
      },
      "cell_type": "code",
      "source": [
        "#linear regression with indicator variables\n",
        "indicatormodel = smf.ols(formula='y ~ qualityindex+totalsqftcalc+group1+group2+yearbuilt', data=train).fit()\n",
        "indicatormodel.summary()"
      ],
      "execution_count": 47,
      "outputs": [
        {
          "output_type": "execute_result",
          "data": {
            "text/html": [
              "<table class=\"simpletable\">\n",
              "<caption>OLS Regression Results</caption>\n",
              "<tr>\n",
              "  <th>Dep. Variable:</th>            <td>y</td>        <th>  R-squared:         </th> <td>   0.814</td> \n",
              "</tr>\n",
              "<tr>\n",
              "  <th>Model:</th>                   <td>OLS</td>       <th>  Adj. R-squared:    </th> <td>   0.814</td> \n",
              "</tr>\n",
              "<tr>\n",
              "  <th>Method:</th>             <td>Least Squares</td>  <th>  F-statistic:       </th> <td>   1482.</td> \n",
              "</tr>\n",
              "<tr>\n",
              "  <th>Date:</th>             <td>Fri, 22 Feb 2019</td> <th>  Prob (F-statistic):</th>  <td>  0.00</td>  \n",
              "</tr>\n",
              "<tr>\n",
              "  <th>Time:</th>                 <td>19:00:08</td>     <th>  Log-Likelihood:    </th> <td> -20138.</td> \n",
              "</tr>\n",
              "<tr>\n",
              "  <th>No. Observations:</th>      <td>  1696</td>      <th>  AIC:               </th> <td>4.029e+04</td>\n",
              "</tr>\n",
              "<tr>\n",
              "  <th>Df Residuals:</th>          <td>  1690</td>      <th>  BIC:               </th> <td>4.032e+04</td>\n",
              "</tr>\n",
              "<tr>\n",
              "  <th>Df Model:</th>              <td>     5</td>      <th>                     </th>     <td> </td>    \n",
              "</tr>\n",
              "<tr>\n",
              "  <th>Covariance Type:</th>      <td>nonrobust</td>    <th>                     </th>     <td> </td>    \n",
              "</tr>\n",
              "</table>\n",
              "<table class=\"simpletable\">\n",
              "<tr>\n",
              "        <td></td>           <th>coef</th>     <th>std err</th>      <th>t</th>      <th>P>|t|</th>  <th>[0.025</th>    <th>0.975]</th>  \n",
              "</tr>\n",
              "<tr>\n",
              "  <th>Intercept</th>     <td>-1.084e+06</td> <td> 6.79e+04</td> <td>  -15.950</td> <td> 0.000</td> <td>-1.22e+06</td> <td> -9.5e+05</td>\n",
              "</tr>\n",
              "<tr>\n",
              "  <th>qualityindex</th>  <td> 2144.8700</td> <td>  100.633</td> <td>   21.314</td> <td> 0.000</td> <td> 1947.492</td> <td> 2342.248</td>\n",
              "</tr>\n",
              "<tr>\n",
              "  <th>totalsqftcalc</th> <td>   60.4495</td> <td>    1.335</td> <td>   45.272</td> <td> 0.000</td> <td>   57.831</td> <td>   63.068</td>\n",
              "</tr>\n",
              "<tr>\n",
              "  <th>group1</th>        <td>-4.791e+04</td> <td> 2809.977</td> <td>  -17.049</td> <td> 0.000</td> <td>-5.34e+04</td> <td>-4.24e+04</td>\n",
              "</tr>\n",
              "<tr>\n",
              "  <th>group2</th>        <td>-3.451e+04</td> <td> 2601.477</td> <td>  -13.267</td> <td> 0.000</td> <td>-3.96e+04</td> <td>-2.94e+04</td>\n",
              "</tr>\n",
              "<tr>\n",
              "  <th>yearbuilt</th>     <td>  561.7653</td> <td>   34.258</td> <td>   16.398</td> <td> 0.000</td> <td>  494.572</td> <td>  628.958</td>\n",
              "</tr>\n",
              "</table>\n",
              "<table class=\"simpletable\">\n",
              "<tr>\n",
              "  <th>Omnibus:</th>       <td>582.561</td> <th>  Durbin-Watson:     </th> <td>   2.023</td>\n",
              "</tr>\n",
              "<tr>\n",
              "  <th>Prob(Omnibus):</th> <td> 0.000</td>  <th>  Jarque-Bera (JB):  </th> <td>4330.552</td>\n",
              "</tr>\n",
              "<tr>\n",
              "  <th>Skew:</th>          <td> 1.407</td>  <th>  Prob(JB):          </th> <td>    0.00</td>\n",
              "</tr>\n",
              "<tr>\n",
              "  <th>Kurtosis:</th>      <td>10.305</td>  <th>  Cond. No.          </th> <td>2.29e+05</td>\n",
              "</tr>\n",
              "</table>"
            ],
            "text/plain": [
              "<class 'statsmodels.iolib.summary.Summary'>\n",
              "\"\"\"\n",
              "                            OLS Regression Results                            \n",
              "==============================================================================\n",
              "Dep. Variable:                      y   R-squared:                       0.814\n",
              "Model:                            OLS   Adj. R-squared:                  0.814\n",
              "Method:                 Least Squares   F-statistic:                     1482.\n",
              "Date:                Fri, 22 Feb 2019   Prob (F-statistic):               0.00\n",
              "Time:                        19:00:08   Log-Likelihood:                -20138.\n",
              "No. Observations:                1696   AIC:                         4.029e+04\n",
              "Df Residuals:                    1690   BIC:                         4.032e+04\n",
              "Df Model:                           5                                         \n",
              "Covariance Type:            nonrobust                                         \n",
              "=================================================================================\n",
              "                    coef    std err          t      P>|t|      [0.025      0.975]\n",
              "---------------------------------------------------------------------------------\n",
              "Intercept     -1.084e+06   6.79e+04    -15.950      0.000   -1.22e+06    -9.5e+05\n",
              "qualityindex   2144.8700    100.633     21.314      0.000    1947.492    2342.248\n",
              "totalsqftcalc    60.4495      1.335     45.272      0.000      57.831      63.068\n",
              "group1        -4.791e+04   2809.977    -17.049      0.000   -5.34e+04   -4.24e+04\n",
              "group2        -3.451e+04   2601.477    -13.267      0.000   -3.96e+04   -2.94e+04\n",
              "yearbuilt       561.7653     34.258     16.398      0.000     494.572     628.958\n",
              "==============================================================================\n",
              "Omnibus:                      582.561   Durbin-Watson:                   2.023\n",
              "Prob(Omnibus):                  0.000   Jarque-Bera (JB):             4330.552\n",
              "Skew:                           1.407   Prob(JB):                         0.00\n",
              "Kurtosis:                      10.305   Cond. No.                     2.29e+05\n",
              "==============================================================================\n",
              "\n",
              "Warnings:\n",
              "[1] Standard Errors assume that the covariance matrix of the errors is correctly specified.\n",
              "[2] The condition number is large, 2.29e+05. This might indicate that there are\n",
              "strong multicollinearity or other numerical problems.\n",
              "\"\"\""
            ]
          },
          "metadata": {
            "tags": []
          },
          "execution_count": 47
        }
      ]
    },
    {
      "metadata": {
        "scrolled": false,
        "id": "Pw9w3FjykC5h",
        "colab_type": "code",
        "colab": {}
      },
      "cell_type": "code",
      "source": [
        "# set predictions from best model:\n",
        "predictions = model3.fittedvalues"
      ],
      "execution_count": 0,
      "outputs": []
    },
    {
      "metadata": {
        "id": "tsLevueHkC5k",
        "colab_type": "code",
        "colab": {
          "base_uri": "https://localhost:8080/",
          "height": 311
        },
        "outputId": "7167c8fe-0c6e-4db0-f9c9-cf5869b52e93"
      },
      "cell_type": "code",
      "source": [
        "# Scatterplot of predictions from best model:\n",
        "plt.plot(train['saleprice'], predictions, 'bo')\n",
        "plt.title('Sale Price versus Predictions') \n",
        "plt.xlabel(\"Predictions\") \n",
        "plt.ylabel(\"Sale Price\")"
      ],
      "execution_count": 49,
      "outputs": [
        {
          "output_type": "execute_result",
          "data": {
            "text/plain": [
              "Text(0, 0.5, 'Sale Price')"
            ]
          },
          "metadata": {
            "tags": []
          },
          "execution_count": 49
        },
        {
          "output_type": "display_data",
          "data": {
            "image/png": "[encoded data removed]",
            "text/plain": [
              "<Figure size 432x288 with 1 Axes>"
            ]
          },
          "metadata": {
            "tags": []
          }
        }
      ]
    },
    {
      "metadata": {
        "id": "VpWhFvKSkC5p",
        "colab_type": "code",
        "colab": {
          "base_uri": "https://localhost:8080/",
          "height": 318
        },
        "outputId": "95d9738e-1a37-4391-eceb-3f65e30df420"
      },
      "cell_type": "code",
      "source": [
        "#calculate residuals\n",
        "#the next code is using my model in the shell code\n",
        "train_predictions3 = model3.fittedvalues\n",
        "train_predictions3.head()\n",
        "tr = {'p_saleprice': train_predictions3}\n",
        "df1 = train[['index','saleprice']]\n",
        "df2=pd.DataFrame(data=tr)\n",
        "o_file = pd.concat([df1,df2],axis = 1, join_axes=[df1.index])\n",
        "\n",
        "o_file['residual'] = (n_file.saleprice-n_file.p_saleprice)\n",
        "o_file\n",
        "\n",
        "# scatterplot of y versus residuals, for eyeball check of (a) hetereoscedasticity and (b) serial autocorrelation.\n",
        "ax = sns.residplot(x=\"saleprice\", y=\"residual\", data=o_file)\n",
        "ax.set_title(\"Residuals vs Sale Price\")\n",
        "ax.set_ylabel(\"Residual\")\n",
        "# Rotate x-axis labels\n",
        "plt.xticks(rotation=90)\n",
        "plt.show()"
      ],
      "execution_count": 50,
      "outputs": [
        {
          "output_type": "display_data",
          "data": {
            "image/png": "[encoded data removed]",
            "text/plain": [
              "<Figure size 432x288 with 1 Axes>"
            ]
          },
          "metadata": {
            "tags": []
          }
        }
      ]
    },
    {
      "metadata": {
        "id": "GdKRbvdakC5v",
        "colab_type": "code",
        "colab": {
          "base_uri": "https://localhost:8080/",
          "height": 311
        },
        "outputId": "9a5d585c-b8e0-4666-8a1e-5f669bfb6596"
      },
      "cell_type": "code",
      "source": [
        "stdres = pd.DataFrame(model3.resid_pearson)\n",
        "fig2 = plt.plot(stdres, 'o', ls = 'None')\n",
        "l = plt.axhline(y=0, color ='r')\n",
        "plt.title(\"Model 3: Standardized Residual\") \n",
        "plt.ylabel('Standardized Residual')\n",
        "plt.xlabel('Observation Number')\n",
        "print(fig2)"
      ],
      "execution_count": 51,
      "outputs": [
        {
          "output_type": "stream",
          "text": [
            "[<matplotlib.lines.Line2D object at 0x7fa0831511d0>]\n"
          ],
          "name": "stdout"
        },
        {
          "output_type": "display_data",
          "data": {
            "image/png": "[encoded data removed]",
            "text/plain": [
              "<Figure size 432x288 with 1 Axes>"
            ]
          },
          "metadata": {
            "tags": []
          }
        }
      ]
    },
    {
      "metadata": {
        "id": "9XvA2PEVkC5z",
        "colab_type": "code",
        "colab": {
          "base_uri": "https://localhost:8080/",
          "height": 297
        },
        "outputId": "f02585a8-d2ab-4abe-8dec-6dcebe7a2770"
      },
      "cell_type": "code",
      "source": [
        "# Cook's distance value of more that 1 indicates an influential value, but you may want to look at values above 0.5..\n",
        "influence = model3.get_influence()\n",
        "#c is the distance and p is p-value\n",
        "(c, p) = influence.cooks_distance\n",
        "plt.stem(np.arange(len(c)), c, markerfmt=\",\")\n",
        "plt.title(\"Model 3: Cook's Distance Values\") "
      ],
      "execution_count": 52,
      "outputs": [
        {
          "output_type": "execute_result",
          "data": {
            "text/plain": [
              "Text(0.5, 1.0, \"Model 3: Cook's Distance Values\")"
            ]
          },
          "metadata": {
            "tags": []
          },
          "execution_count": 52
        },
        {
          "output_type": "display_data",
          "data": {
            "image/png": "[encoded data removed]",
            "text/plain": [
              "<Figure size 432x288 with 1 Axes>"
            ]
          },
          "metadata": {
            "tags": []
          }
        }
      ]
    },
    {
      "metadata": {
        "id": "k0zOP7pYkC57",
        "colab_type": "code",
        "colab": {
          "base_uri": "https://localhost:8080/",
          "height": 68
        },
        "outputId": "ce84d72f-f65d-4429-b8bd-8c9bc6565ae1"
      },
      "cell_type": "code",
      "source": [
        "print('')\n",
        "print('----- Section 2:  Model Comparison of Y versus log(Y) -----')\n",
        "print('')"
      ],
      "execution_count": 53,
      "outputs": [
        {
          "output_type": "stream",
          "text": [
            "\n",
            "----- Section 2:  Model Comparison of Y versus log(Y) -----\n",
            "\n"
          ],
          "name": "stdout"
        }
      ]
    },
    {
      "metadata": {
        "id": "Q7GnJ3i5kC6B",
        "colab_type": "code",
        "colab": {
          "base_uri": "https://localhost:8080/",
          "height": 460
        },
        "outputId": "55666452-2cc7-4047-ae2a-b45a7e65895d"
      },
      "cell_type": "code",
      "source": [
        "#linear regression model: discrete variables without (NO) log transformation\n",
        "nolog = smf.ols(formula='y ~ totalsqftcalc+lotfrontage+garagearea+masvnrarea+yearbuilt', data=train).fit()\n",
        "nolog.summary()"
      ],
      "execution_count": 54,
      "outputs": [
        {
          "output_type": "execute_result",
          "data": {
            "text/html": [
              "<table class=\"simpletable\">\n",
              "<caption>OLS Regression Results</caption>\n",
              "<tr>\n",
              "  <th>Dep. Variable:</th>            <td>y</td>        <th>  R-squared:         </th> <td>   0.766</td> \n",
              "</tr>\n",
              "<tr>\n",
              "  <th>Model:</th>                   <td>OLS</td>       <th>  Adj. R-squared:    </th> <td>   0.765</td> \n",
              "</tr>\n",
              "<tr>\n",
              "  <th>Method:</th>             <td>Least Squares</td>  <th>  F-statistic:       </th> <td>   1107.</td> \n",
              "</tr>\n",
              "<tr>\n",
              "  <th>Date:</th>             <td>Fri, 22 Feb 2019</td> <th>  Prob (F-statistic):</th>  <td>  0.00</td>  \n",
              "</tr>\n",
              "<tr>\n",
              "  <th>Time:</th>                 <td>19:00:13</td>     <th>  Log-Likelihood:    </th> <td> -20333.</td> \n",
              "</tr>\n",
              "<tr>\n",
              "  <th>No. Observations:</th>      <td>  1696</td>      <th>  AIC:               </th> <td>4.068e+04</td>\n",
              "</tr>\n",
              "<tr>\n",
              "  <th>Df Residuals:</th>          <td>  1690</td>      <th>  BIC:               </th> <td>4.071e+04</td>\n",
              "</tr>\n",
              "<tr>\n",
              "  <th>Df Model:</th>              <td>     5</td>      <th>                     </th>     <td> </td>    \n",
              "</tr>\n",
              "<tr>\n",
              "  <th>Covariance Type:</th>      <td>nonrobust</td>    <th>                     </th>     <td> </td>    \n",
              "</tr>\n",
              "</table>\n",
              "<table class=\"simpletable\">\n",
              "<tr>\n",
              "        <td></td>           <th>coef</th>     <th>std err</th>      <th>t</th>      <th>P>|t|</th>  <th>[0.025</th>    <th>0.975]</th>  \n",
              "</tr>\n",
              "<tr>\n",
              "  <th>Intercept</th>     <td>-1.175e+06</td> <td> 7.04e+04</td> <td>  -16.696</td> <td> 0.000</td> <td>-1.31e+06</td> <td>-1.04e+06</td>\n",
              "</tr>\n",
              "<tr>\n",
              "  <th>totalsqftcalc</th> <td>   55.9764</td> <td>    1.662</td> <td>   33.673</td> <td> 0.000</td> <td>   52.716</td> <td>   59.237</td>\n",
              "</tr>\n",
              "<tr>\n",
              "  <th>lotfrontage</th>   <td>   12.7308</td> <td>   59.651</td> <td>    0.213</td> <td> 0.831</td> <td> -104.267</td> <td>  129.729</td>\n",
              "</tr>\n",
              "<tr>\n",
              "  <th>garagearea</th>    <td>   77.8243</td> <td>    5.832</td> <td>   13.344</td> <td> 0.000</td> <td>   66.385</td> <td>   89.263</td>\n",
              "</tr>\n",
              "<tr>\n",
              "  <th>masvnrarea</th>    <td>   69.9639</td> <td>    6.377</td> <td>   10.971</td> <td> 0.000</td> <td>   57.456</td> <td>   82.472</td>\n",
              "</tr>\n",
              "<tr>\n",
              "  <th>yearbuilt</th>     <td>  610.4749</td> <td>   36.544</td> <td>   16.705</td> <td> 0.000</td> <td>  538.798</td> <td>  682.152</td>\n",
              "</tr>\n",
              "</table>\n",
              "<table class=\"simpletable\">\n",
              "<tr>\n",
              "  <th>Omnibus:</th>       <td>400.302</td> <th>  Durbin-Watson:     </th> <td>   2.005</td>\n",
              "</tr>\n",
              "<tr>\n",
              "  <th>Prob(Omnibus):</th> <td> 0.000</td>  <th>  Jarque-Bera (JB):  </th> <td>2030.982</td>\n",
              "</tr>\n",
              "<tr>\n",
              "  <th>Skew:</th>          <td> 1.016</td>  <th>  Prob(JB):          </th> <td>    0.00</td>\n",
              "</tr>\n",
              "<tr>\n",
              "  <th>Kurtosis:</th>      <td> 7.961</td>  <th>  Cond. No.          </th> <td>2.14e+05</td>\n",
              "</tr>\n",
              "</table>"
            ],
            "text/plain": [
              "<class 'statsmodels.iolib.summary.Summary'>\n",
              "\"\"\"\n",
              "                            OLS Regression Results                            \n",
              "==============================================================================\n",
              "Dep. Variable:                      y   R-squared:                       0.766\n",
              "Model:                            OLS   Adj. R-squared:                  0.765\n",
              "Method:                 Least Squares   F-statistic:                     1107.\n",
              "Date:                Fri, 22 Feb 2019   Prob (F-statistic):               0.00\n",
              "Time:                        19:00:13   Log-Likelihood:                -20333.\n",
              "No. Observations:                1696   AIC:                         4.068e+04\n",
              "Df Residuals:                    1690   BIC:                         4.071e+04\n",
              "Df Model:                           5                                         \n",
              "Covariance Type:            nonrobust                                         \n",
              "=================================================================================\n",
              "                    coef    std err          t      P>|t|      [0.025      0.975]\n",
              "---------------------------------------------------------------------------------\n",
              "Intercept     -1.175e+06   7.04e+04    -16.696      0.000   -1.31e+06   -1.04e+06\n",
              "totalsqftcalc    55.9764      1.662     33.673      0.000      52.716      59.237\n",
              "lotfrontage      12.7308     59.651      0.213      0.831    -104.267     129.729\n",
              "garagearea       77.8243      5.832     13.344      0.000      66.385      89.263\n",
              "masvnrarea       69.9639      6.377     10.971      0.000      57.456      82.472\n",
              "yearbuilt       610.4749     36.544     16.705      0.000     538.798     682.152\n",
              "==============================================================================\n",
              "Omnibus:                      400.302   Durbin-Watson:                   2.005\n",
              "Prob(Omnibus):                  0.000   Jarque-Bera (JB):             2030.982\n",
              "Skew:                           1.016   Prob(JB):                         0.00\n",
              "Kurtosis:                       7.961   Cond. No.                     2.14e+05\n",
              "==============================================================================\n",
              "\n",
              "Warnings:\n",
              "[1] Standard Errors assume that the covariance matrix of the errors is correctly specified.\n",
              "[2] The condition number is large, 2.14e+05. This might indicate that there are\n",
              "strong multicollinearity or other numerical problems.\n",
              "\"\"\""
            ]
          },
          "metadata": {
            "tags": []
          },
          "execution_count": 54
        }
      ]
    },
    {
      "metadata": {
        "id": "FoQmYecykC6F",
        "colab_type": "code",
        "colab": {
          "base_uri": "https://localhost:8080/",
          "height": 119
        },
        "outputId": "96b0ac0e-203e-4b42-b29a-99d37d03e9ac"
      },
      "cell_type": "code",
      "source": [
        "#some code for VIF\n",
        "from patsy import dmatrices\n",
        "from statsmodels.stats.outliers_influence import variance_inflation_factor\n",
        "# Break into left and right hand side; y and X\n",
        "y, X = dmatrices( \"y ~ totalsqftcalc+lotfrontage+garagearea+masvnrarea+yearbuilt\", data=train, return_type=\"dataframe\")\n",
        "# For each Xi, calculate VIF\n",
        "vif = [variance_inflation_factor(X.values, i) for i in range(X.shape[1])]\n",
        "# Fit X to y\n",
        "result = sm.OLS(y, X).fit()\n",
        "vif"
      ],
      "execution_count": 55,
      "outputs": [
        {
          "output_type": "execute_result",
          "data": {
            "text/plain": [
              "[5515.375752718401,\n",
              " 1.6482036834253984,\n",
              " 1.2881166425813737,\n",
              " 1.7646738220931086,\n",
              " 1.4117752739377947,\n",
              " 1.4330730135444267]"
            ]
          },
          "metadata": {
            "tags": []
          },
          "execution_count": 55
        }
      ]
    },
    {
      "metadata": {
        "id": "DSX8MYZqkC6H",
        "colab_type": "code",
        "colab": {
          "base_uri": "https://localhost:8080/",
          "height": 347
        },
        "outputId": "b41138b9-5e8a-4cdd-df2e-0dff006d96d2"
      },
      "cell_type": "code",
      "source": [
        "sns.distplot(train['saleprice'])"
      ],
      "execution_count": 56,
      "outputs": [
        {
          "output_type": "stream",
          "text": [
            "/usr/local/lib/python3.6/dist-packages/matplotlib/axes/_axes.py:6521: MatplotlibDeprecationWarning: \n",
            "The 'normed' kwarg was deprecated in Matplotlib 2.1 and will be removed in 3.1. Use 'density' instead.\n",
            "  alternative=\"'density'\", removal=\"3.1\")\n"
          ],
          "name": "stderr"
        },
        {
          "output_type": "execute_result",
          "data": {
            "text/plain": [
              "<matplotlib.axes._subplots.AxesSubplot at 0x7fa082495fd0>"
            ]
          },
          "metadata": {
            "tags": []
          },
          "execution_count": 56
        },
        {
          "output_type": "display_data",
          "data": {
            "image/png": "[encoded data removed]",
            "text/plain": [
              "<Figure size 432x288 with 1 Axes>"
            ]
          },
          "metadata": {
            "tags": []
          }
        }
      ]
    },
    {
      "metadata": {
        "id": "tRapLzAKkC6M",
        "colab_type": "code",
        "colab": {
          "base_uri": "https://localhost:8080/",
          "height": 294
        },
        "outputId": "b67aede7-1cc6-4089-bcaa-33433a9ad3dd"
      },
      "cell_type": "code",
      "source": [
        "sm.qqplot(train['saleprice'])\n",
        "plt.title('QQ-plot of Saleprice') \n",
        "plt.show()"
      ],
      "execution_count": 57,
      "outputs": [
        {
          "output_type": "display_data",
          "data": {
            "image/png": "[encoded data removed]",
            "text/plain": [
              "<Figure size 432x288 with 1 Axes>"
            ]
          },
          "metadata": {
            "tags": []
          }
        }
      ]
    },
    {
      "metadata": {
        "id": "m2zq_3k9kC6O",
        "colab_type": "code",
        "colab": {}
      },
      "cell_type": "code",
      "source": [
        "nologpredictions = nolog.fittedvalues"
      ],
      "execution_count": 0,
      "outputs": []
    },
    {
      "metadata": {
        "id": "oySDYV-LkC6P",
        "colab_type": "code",
        "colab": {
          "base_uri": "https://localhost:8080/",
          "height": 311
        },
        "outputId": "4574256e-b8a7-4753-8328-e81c514b70ba"
      },
      "cell_type": "code",
      "source": [
        "plt.plot(train['saleprice'], nologpredictions, 'bo')\n",
        "plt.title('Sale Price versus No Log Predictions') \n",
        "plt.xlabel(\"Predictions\") \n",
        "plt.ylabel(\"Sale Price\")"
      ],
      "execution_count": 59,
      "outputs": [
        {
          "output_type": "execute_result",
          "data": {
            "text/plain": [
              "Text(0, 0.5, 'Sale Price')"
            ]
          },
          "metadata": {
            "tags": []
          },
          "execution_count": 59
        },
        {
          "output_type": "display_data",
          "data": {
            "image/png": "[encoded data removed]",
            "text/plain": [
              "<Figure size 432x288 with 1 Axes>"
            ]
          },
          "metadata": {
            "tags": []
          }
        }
      ]
    },
    {
      "metadata": {
        "id": "rTmKJOvikC6S",
        "colab_type": "code",
        "colab": {
          "base_uri": "https://localhost:8080/",
          "height": 311
        },
        "outputId": "d6be8184-7f45-4539-bca3-3a902a6ad94a"
      },
      "cell_type": "code",
      "source": [
        "stdres = pd.DataFrame(nolog.resid_pearson)\n",
        "fig3 = plt.plot(stdres, 'o', ls = 'None')\n",
        "l = plt.axhline(y=0, color ='r')\n",
        "plt.title(\"No Log: Standardized Residual\") \n",
        "plt.ylabel('Standardized Residual')\n",
        "plt.xlabel('Observation Number')\n",
        "print(fig3)"
      ],
      "execution_count": 60,
      "outputs": [
        {
          "output_type": "stream",
          "text": [
            "[<matplotlib.lines.Line2D object at 0x7fa0822b5828>]\n"
          ],
          "name": "stdout"
        },
        {
          "output_type": "display_data",
          "data": {
            "image/png": "[encoded data removed]",
            "text/plain": [
              "<Figure size 432x288 with 1 Axes>"
            ]
          },
          "metadata": {
            "tags": []
          }
        }
      ]
    },
    {
      "metadata": {
        "id": "kWyzzyp1kC6X",
        "colab_type": "code",
        "colab": {
          "base_uri": "https://localhost:8080/",
          "height": 297
        },
        "outputId": "c641ed9d-36f6-4064-9198-179c7c5737ab"
      },
      "cell_type": "code",
      "source": [
        "# Cook's distance value of more that 1 indicates an influential value, but you may want to look at values above 0.5..\n",
        "influence = nolog.get_influence()\n",
        "#c is the distance and p is p-value\n",
        "(c, p) = influence.cooks_distance\n",
        "plt.stem(np.arange(len(c)), c, markerfmt=\",\")\n",
        "plt.title(\"No Log: Cook's Distance Values\") "
      ],
      "execution_count": 61,
      "outputs": [
        {
          "output_type": "execute_result",
          "data": {
            "text/plain": [
              "Text(0.5, 1.0, \"No Log: Cook's Distance Values\")"
            ]
          },
          "metadata": {
            "tags": []
          },
          "execution_count": 61
        },
        {
          "output_type": "display_data",
          "data": {
            "image/png": "[encoded data removed]",
            "text/plain": [
              "<Figure size 432x288 with 1 Axes>"
            ]
          },
          "metadata": {
            "tags": []
          }
        }
      ]
    },
    {
      "metadata": {
        "id": "ILgIP2SZkC6Z",
        "colab_type": "code",
        "colab": {}
      },
      "cell_type": "code",
      "source": [
        "#log transformation to saleprice\n",
        "train['log_y'] = train['saleprice'].apply(np.log)"
      ],
      "execution_count": 0,
      "outputs": []
    },
    {
      "metadata": {
        "id": "kNCNee4xkC6b",
        "colab_type": "code",
        "colab": {
          "base_uri": "https://localhost:8080/",
          "height": 460
        },
        "outputId": "75c6a309-dd95-48f0-8cb5-11b20b01e948"
      },
      "cell_type": "code",
      "source": [
        "#linear regression model: discrete variables WITH log transformation\n",
        "logmodel = smf.ols(formula='log_y ~ totalsqftcalc+lotfrontage+garagearea+masvnrarea+yearbuilt', data=train).fit()\n",
        "logmodel.summary()"
      ],
      "execution_count": 63,
      "outputs": [
        {
          "output_type": "execute_result",
          "data": {
            "text/html": [
              "<table class=\"simpletable\">\n",
              "<caption>OLS Regression Results</caption>\n",
              "<tr>\n",
              "  <th>Dep. Variable:</th>          <td>log_y</td>      <th>  R-squared:         </th> <td>   0.780</td>\n",
              "</tr>\n",
              "<tr>\n",
              "  <th>Model:</th>                   <td>OLS</td>       <th>  Adj. R-squared:    </th> <td>   0.779</td>\n",
              "</tr>\n",
              "<tr>\n",
              "  <th>Method:</th>             <td>Least Squares</td>  <th>  F-statistic:       </th> <td>   1197.</td>\n",
              "</tr>\n",
              "<tr>\n",
              "  <th>Date:</th>             <td>Fri, 22 Feb 2019</td> <th>  Prob (F-statistic):</th>  <td>  0.00</td> \n",
              "</tr>\n",
              "<tr>\n",
              "  <th>Time:</th>                 <td>19:00:19</td>     <th>  Log-Likelihood:    </th> <td>  404.82</td>\n",
              "</tr>\n",
              "<tr>\n",
              "  <th>No. Observations:</th>      <td>  1696</td>      <th>  AIC:               </th> <td>  -797.6</td>\n",
              "</tr>\n",
              "<tr>\n",
              "  <th>Df Residuals:</th>          <td>  1690</td>      <th>  BIC:               </th> <td>  -765.0</td>\n",
              "</tr>\n",
              "<tr>\n",
              "  <th>Df Model:</th>              <td>     5</td>      <th>                     </th>     <td> </td>   \n",
              "</tr>\n",
              "<tr>\n",
              "  <th>Covariance Type:</th>      <td>nonrobust</td>    <th>                     </th>     <td> </td>   \n",
              "</tr>\n",
              "</table>\n",
              "<table class=\"simpletable\">\n",
              "<tr>\n",
              "        <td></td>           <th>coef</th>     <th>std err</th>      <th>t</th>      <th>P>|t|</th>  <th>[0.025</th>    <th>0.975]</th>  \n",
              "</tr>\n",
              "<tr>\n",
              "  <th>Intercept</th>     <td>    2.8502</td> <td>    0.344</td> <td>    8.278</td> <td> 0.000</td> <td>    2.175</td> <td>    3.526</td>\n",
              "</tr>\n",
              "<tr>\n",
              "  <th>totalsqftcalc</th> <td>    0.0003</td> <td> 8.13e-06</td> <td>   34.693</td> <td> 0.000</td> <td>    0.000</td> <td>    0.000</td>\n",
              "</tr>\n",
              "<tr>\n",
              "  <th>lotfrontage</th>   <td>    0.0002</td> <td>    0.000</td> <td>    0.593</td> <td> 0.553</td> <td>   -0.000</td> <td>    0.001</td>\n",
              "</tr>\n",
              "<tr>\n",
              "  <th>garagearea</th>    <td>    0.0004</td> <td> 2.85e-05</td> <td>   13.764</td> <td> 0.000</td> <td>    0.000</td> <td>    0.000</td>\n",
              "</tr>\n",
              "<tr>\n",
              "  <th>masvnrarea</th>    <td>    0.0001</td> <td> 3.12e-05</td> <td>    4.078</td> <td> 0.000</td> <td>  6.6e-05</td> <td>    0.000</td>\n",
              "</tr>\n",
              "<tr>\n",
              "  <th>yearbuilt</th>     <td>    0.0043</td> <td>    0.000</td> <td>   23.889</td> <td> 0.000</td> <td>    0.004</td> <td>    0.005</td>\n",
              "</tr>\n",
              "</table>\n",
              "<table class=\"simpletable\">\n",
              "<tr>\n",
              "  <th>Omnibus:</th>       <td>126.540</td> <th>  Durbin-Watson:     </th> <td>   2.011</td> \n",
              "</tr>\n",
              "<tr>\n",
              "  <th>Prob(Omnibus):</th> <td> 0.000</td>  <th>  Jarque-Bera (JB):  </th> <td> 538.734</td> \n",
              "</tr>\n",
              "<tr>\n",
              "  <th>Skew:</th>          <td>-0.216</td>  <th>  Prob(JB):          </th> <td>1.04e-117</td>\n",
              "</tr>\n",
              "<tr>\n",
              "  <th>Kurtosis:</th>      <td> 5.727</td>  <th>  Cond. No.          </th> <td>2.14e+05</td> \n",
              "</tr>\n",
              "</table>"
            ],
            "text/plain": [
              "<class 'statsmodels.iolib.summary.Summary'>\n",
              "\"\"\"\n",
              "                            OLS Regression Results                            \n",
              "==============================================================================\n",
              "Dep. Variable:                  log_y   R-squared:                       0.780\n",
              "Model:                            OLS   Adj. R-squared:                  0.779\n",
              "Method:                 Least Squares   F-statistic:                     1197.\n",
              "Date:                Fri, 22 Feb 2019   Prob (F-statistic):               0.00\n",
              "Time:                        19:00:19   Log-Likelihood:                 404.82\n",
              "No. Observations:                1696   AIC:                            -797.6\n",
              "Df Residuals:                    1690   BIC:                            -765.0\n",
              "Df Model:                           5                                         \n",
              "Covariance Type:            nonrobust                                         \n",
              "=================================================================================\n",
              "                    coef    std err          t      P>|t|      [0.025      0.975]\n",
              "---------------------------------------------------------------------------------\n",
              "Intercept         2.8502      0.344      8.278      0.000       2.175       3.526\n",
              "totalsqftcalc     0.0003   8.13e-06     34.693      0.000       0.000       0.000\n",
              "lotfrontage       0.0002      0.000      0.593      0.553      -0.000       0.001\n",
              "garagearea        0.0004   2.85e-05     13.764      0.000       0.000       0.000\n",
              "masvnrarea        0.0001   3.12e-05      4.078      0.000     6.6e-05       0.000\n",
              "yearbuilt         0.0043      0.000     23.889      0.000       0.004       0.005\n",
              "==============================================================================\n",
              "Omnibus:                      126.540   Durbin-Watson:                   2.011\n",
              "Prob(Omnibus):                  0.000   Jarque-Bera (JB):              538.734\n",
              "Skew:                          -0.216   Prob(JB):                    1.04e-117\n",
              "Kurtosis:                       5.727   Cond. No.                     2.14e+05\n",
              "==============================================================================\n",
              "\n",
              "Warnings:\n",
              "[1] Standard Errors assume that the covariance matrix of the errors is correctly specified.\n",
              "[2] The condition number is large, 2.14e+05. This might indicate that there are\n",
              "strong multicollinearity or other numerical problems.\n",
              "\"\"\""
            ]
          },
          "metadata": {
            "tags": []
          },
          "execution_count": 63
        }
      ]
    },
    {
      "metadata": {
        "id": "84KC_Gi8kC6f",
        "colab_type": "code",
        "colab": {
          "base_uri": "https://localhost:8080/",
          "height": 119
        },
        "outputId": "0ece88bf-10bf-43dc-ef29-fcc9336cebe2"
      },
      "cell_type": "code",
      "source": [
        "#some code for VIF\n",
        "from patsy import dmatrices\n",
        "from statsmodels.stats.outliers_influence import variance_inflation_factor\n",
        "# Break into left and right hand side; y and X\n",
        "y, X = dmatrices( \"log_y ~ totalsqftcalc+lotfrontage+garagearea+masvnrarea+yearbuilt\", data=train, return_type=\"dataframe\")\n",
        "# For each Xi, calculate VIF\n",
        "vif2 = [variance_inflation_factor(X.values, i) for i in range(X.shape[1])]\n",
        "# Fit X to y\n",
        "result = sm.OLS(y, X).fit()\n",
        "vif2"
      ],
      "execution_count": 64,
      "outputs": [
        {
          "output_type": "execute_result",
          "data": {
            "text/plain": [
              "[5515.375752718401,\n",
              " 1.6482036834253984,\n",
              " 1.2881166425813737,\n",
              " 1.7646738220931086,\n",
              " 1.4117752739377947,\n",
              " 1.4330730135444267]"
            ]
          },
          "metadata": {
            "tags": []
          },
          "execution_count": 64
        }
      ]
    },
    {
      "metadata": {
        "id": "HtaX2ae9kC6h",
        "colab_type": "code",
        "colab": {
          "base_uri": "https://localhost:8080/",
          "height": 347
        },
        "outputId": "017636bc-cb84-4bf5-f947-1816e35e3c3f"
      },
      "cell_type": "code",
      "source": [
        "sns.distplot(train['log_y'])"
      ],
      "execution_count": 65,
      "outputs": [
        {
          "output_type": "stream",
          "text": [
            "/usr/local/lib/python3.6/dist-packages/matplotlib/axes/_axes.py:6521: MatplotlibDeprecationWarning: \n",
            "The 'normed' kwarg was deprecated in Matplotlib 2.1 and will be removed in 3.1. Use 'density' instead.\n",
            "  alternative=\"'density'\", removal=\"3.1\")\n"
          ],
          "name": "stderr"
        },
        {
          "output_type": "execute_result",
          "data": {
            "text/plain": [
              "<matplotlib.axes._subplots.AxesSubplot at 0x7fa081113c18>"
            ]
          },
          "metadata": {
            "tags": []
          },
          "execution_count": 65
        },
        {
          "output_type": "display_data",
          "data": {
            "image/png": "[encoded data removed]",
            "text/plain": [
              "<Figure size 432x288 with 1 Axes>"
            ]
          },
          "metadata": {
            "tags": []
          }
        }
      ]
    },
    {
      "metadata": {
        "id": "F-9jcBAekC6l",
        "colab_type": "code",
        "colab": {
          "base_uri": "https://localhost:8080/",
          "height": 294
        },
        "outputId": "079ab05b-ac50-48de-eee6-a1b8d25d8217"
      },
      "cell_type": "code",
      "source": [
        "sm.qqplot(train['log_y'])\n",
        "plt.title('QQ-plot of Log(saleprice)') \n",
        "plt.show()"
      ],
      "execution_count": 66,
      "outputs": [
        {
          "output_type": "display_data",
          "data": {
            "image/png": "[encoded data removed]",
            "text/plain": [
              "<Figure size 432x288 with 1 Axes>"
            ]
          },
          "metadata": {
            "tags": []
          }
        }
      ]
    },
    {
      "metadata": {
        "id": "9pubh9T3kC6o",
        "colab_type": "code",
        "colab": {}
      },
      "cell_type": "code",
      "source": [
        "logpredictions = logmodel.fittedvalues"
      ],
      "execution_count": 0,
      "outputs": []
    },
    {
      "metadata": {
        "id": "fgtWK3C1kC6p",
        "colab_type": "code",
        "colab": {
          "base_uri": "https://localhost:8080/",
          "height": 311
        },
        "outputId": "e55e7b34-31bd-4270-caef-602ce983fe80"
      },
      "cell_type": "code",
      "source": [
        "plt.plot(train['log_y'], logpredictions, 'bo')\n",
        "plt.title('Log Sale Price versus Predictions') \n",
        "plt.xlabel(\"Predictions\") \n",
        "plt.ylabel(\"Sale Price\")"
      ],
      "execution_count": 68,
      "outputs": [
        {
          "output_type": "execute_result",
          "data": {
            "text/plain": [
              "Text(0, 0.5, 'Sale Price')"
            ]
          },
          "metadata": {
            "tags": []
          },
          "execution_count": 68
        },
        {
          "output_type": "display_data",
          "data": {
            "image/png": "[encoded data removed]",
            "text/plain": [
              "<Figure size 432x288 with 1 Axes>"
            ]
          },
          "metadata": {
            "tags": []
          }
        }
      ]
    },
    {
      "metadata": {
        "id": "Y5md9bSJkC6r",
        "colab_type": "code",
        "colab": {
          "base_uri": "https://localhost:8080/",
          "height": 311
        },
        "outputId": "ad423922-e217-43db-8003-26ba2228a459"
      },
      "cell_type": "code",
      "source": [
        "stdres = pd.DataFrame(logmodel.resid_pearson)\n",
        "fig4 = plt.plot(stdres, 'o', ls = 'None')\n",
        "l = plt.axhline(y=0, color ='r')\n",
        "plt.title(\"Log Model: Standardized Residual\") \n",
        "plt.ylabel('Standardized Residual')\n",
        "plt.xlabel('Observation Number')\n",
        "print(fig4)"
      ],
      "execution_count": 69,
      "outputs": [
        {
          "output_type": "stream",
          "text": [
            "[<matplotlib.lines.Line2D object at 0x7fa081159550>]\n"
          ],
          "name": "stdout"
        },
        {
          "output_type": "display_data",
          "data": {
            "image/png": "[encoded data removed]",
            "text/plain": [
              "<Figure size 432x288 with 1 Axes>"
            ]
          },
          "metadata": {
            "tags": []
          }
        }
      ]
    },
    {
      "metadata": {
        "id": "PL30xZl2kC6u",
        "colab_type": "code",
        "colab": {
          "base_uri": "https://localhost:8080/",
          "height": 297
        },
        "outputId": "e50414a1-8db7-4885-9a68-33e4ff82c5a2"
      },
      "cell_type": "code",
      "source": [
        "# Cook's distance value of more that 1 indicates an influential value, but you may want to look at values above 0.5..\n",
        "influence = logmodel.get_influence()\n",
        "#c is the distance and p is p-value\n",
        "(c, p) = influence.cooks_distance\n",
        "plt.stem(np.arange(len(c)), c, markerfmt=\",\")\n",
        "plt.title(\"Log Model: Cook's Distance Values\")"
      ],
      "execution_count": 70,
      "outputs": [
        {
          "output_type": "execute_result",
          "data": {
            "text/plain": [
              "Text(0.5, 1.0, \"Log Model: Cook's Distance Values\")"
            ]
          },
          "metadata": {
            "tags": []
          },
          "execution_count": 70
        },
        {
          "output_type": "display_data",
          "data": {
            "image/png": "[encoded data removed]",
            "text/plain": [
              "<Figure size 432x288 with 1 Axes>"
            ]
          },
          "metadata": {
            "tags": []
          }
        }
      ]
    },
    {
      "metadata": {
        "id": "ywgGkTozkC6w",
        "colab_type": "code",
        "colab": {
          "base_uri": "https://localhost:8080/",
          "height": 1006
        },
        "outputId": "85f51739-d473-4ad2-8afc-0e306745a4dd"
      },
      "cell_type": "code",
      "source": [
        "# Let's try the log transformation of saleprice vs the log transformation of totalsqftcalc\n",
        "logvarmodel = smf.ols(formula='log_y ~ logtotalsqft + C(overallqual) + C(neighborhood) + yearbuilt', data=train).fit()\n",
        "logvarmodel.summary()"
      ],
      "execution_count": 71,
      "outputs": [
        {
          "output_type": "execute_result",
          "data": {
            "text/html": [
              "<table class=\"simpletable\">\n",
              "<caption>OLS Regression Results</caption>\n",
              "<tr>\n",
              "  <th>Dep. Variable:</th>          <td>log_y</td>      <th>  R-squared:         </th> <td>   0.879</td>\n",
              "</tr>\n",
              "<tr>\n",
              "  <th>Model:</th>                   <td>OLS</td>       <th>  Adj. R-squared:    </th> <td>   0.876</td>\n",
              "</tr>\n",
              "<tr>\n",
              "  <th>Method:</th>             <td>Least Squares</td>  <th>  F-statistic:       </th> <td>   388.6</td>\n",
              "</tr>\n",
              "<tr>\n",
              "  <th>Date:</th>             <td>Fri, 22 Feb 2019</td> <th>  Prob (F-statistic):</th>  <td>  0.00</td> \n",
              "</tr>\n",
              "<tr>\n",
              "  <th>Time:</th>                 <td>19:00:25</td>     <th>  Log-Likelihood:    </th> <td>  910.16</td>\n",
              "</tr>\n",
              "<tr>\n",
              "  <th>No. Observations:</th>      <td>  1696</td>      <th>  AIC:               </th> <td>  -1756.</td>\n",
              "</tr>\n",
              "<tr>\n",
              "  <th>Df Residuals:</th>          <td>  1664</td>      <th>  BIC:               </th> <td>  -1582.</td>\n",
              "</tr>\n",
              "<tr>\n",
              "  <th>Df Model:</th>              <td>    31</td>      <th>                     </th>     <td> </td>   \n",
              "</tr>\n",
              "<tr>\n",
              "  <th>Covariance Type:</th>      <td>nonrobust</td>    <th>                     </th>     <td> </td>   \n",
              "</tr>\n",
              "</table>\n",
              "<table class=\"simpletable\">\n",
              "<tr>\n",
              "               <td></td>                 <th>coef</th>     <th>std err</th>      <th>t</th>      <th>P>|t|</th>  <th>[0.025</th>    <th>0.975]</th>  \n",
              "</tr>\n",
              "<tr>\n",
              "  <th>Intercept</th>                  <td>    3.6259</td> <td>    0.547</td> <td>    6.624</td> <td> 0.000</td> <td>    2.552</td> <td>    4.700</td>\n",
              "</tr>\n",
              "<tr>\n",
              "  <th>C(overallqual)[T.2]</th>        <td>   -0.0041</td> <td>    0.153</td> <td>   -0.026</td> <td> 0.979</td> <td>   -0.305</td> <td>    0.297</td>\n",
              "</tr>\n",
              "<tr>\n",
              "  <th>C(overallqual)[T.3]</th>        <td>    0.2050</td> <td>    0.147</td> <td>    1.394</td> <td> 0.164</td> <td>   -0.084</td> <td>    0.494</td>\n",
              "</tr>\n",
              "<tr>\n",
              "  <th>C(overallqual)[T.4]</th>        <td>    0.3663</td> <td>    0.145</td> <td>    2.531</td> <td> 0.011</td> <td>    0.082</td> <td>    0.650</td>\n",
              "</tr>\n",
              "<tr>\n",
              "  <th>C(overallqual)[T.5]</th>        <td>    0.4761</td> <td>    0.144</td> <td>    3.302</td> <td> 0.001</td> <td>    0.193</td> <td>    0.759</td>\n",
              "</tr>\n",
              "<tr>\n",
              "  <th>C(overallqual)[T.6]</th>        <td>    0.5664</td> <td>    0.144</td> <td>    3.923</td> <td> 0.000</td> <td>    0.283</td> <td>    0.850</td>\n",
              "</tr>\n",
              "<tr>\n",
              "  <th>C(overallqual)[T.7]</th>        <td>    0.6789</td> <td>    0.145</td> <td>    4.694</td> <td> 0.000</td> <td>    0.395</td> <td>    0.963</td>\n",
              "</tr>\n",
              "<tr>\n",
              "  <th>C(overallqual)[T.8]</th>        <td>    0.8084</td> <td>    0.145</td> <td>    5.575</td> <td> 0.000</td> <td>    0.524</td> <td>    1.093</td>\n",
              "</tr>\n",
              "<tr>\n",
              "  <th>C(overallqual)[T.9]</th>        <td>    0.9629</td> <td>    0.147</td> <td>    6.571</td> <td> 0.000</td> <td>    0.676</td> <td>    1.250</td>\n",
              "</tr>\n",
              "<tr>\n",
              "  <th>C(overallqual)[T.10]</th>       <td>    1.1147</td> <td>    0.150</td> <td>    7.452</td> <td> 0.000</td> <td>    0.821</td> <td>    1.408</td>\n",
              "</tr>\n",
              "<tr>\n",
              "  <th>C(neighborhood)[T.BrkSide]</th> <td>   -0.0574</td> <td>    0.087</td> <td>   -0.663</td> <td> 0.507</td> <td>   -0.227</td> <td>    0.112</td>\n",
              "</tr>\n",
              "<tr>\n",
              "  <th>C(neighborhood)[T.ClearCr]</th> <td>    0.0657</td> <td>    0.088</td> <td>    0.746</td> <td> 0.456</td> <td>   -0.107</td> <td>    0.238</td>\n",
              "</tr>\n",
              "<tr>\n",
              "  <th>C(neighborhood)[T.CollgCr]</th> <td>   -0.0376</td> <td>    0.084</td> <td>   -0.450</td> <td> 0.653</td> <td>   -0.202</td> <td>    0.126</td>\n",
              "</tr>\n",
              "<tr>\n",
              "  <th>C(neighborhood)[T.Crawfor]</th> <td>    0.1290</td> <td>    0.086</td> <td>    1.494</td> <td> 0.135</td> <td>   -0.040</td> <td>    0.298</td>\n",
              "</tr>\n",
              "<tr>\n",
              "  <th>C(neighborhood)[T.Edwards]</th> <td>   -0.0960</td> <td>    0.085</td> <td>   -1.127</td> <td> 0.260</td> <td>   -0.263</td> <td>    0.071</td>\n",
              "</tr>\n",
              "<tr>\n",
              "  <th>C(neighborhood)[T.Gilbert]</th> <td>   -0.0190</td> <td>    0.084</td> <td>   -0.227</td> <td> 0.821</td> <td>   -0.184</td> <td>    0.146</td>\n",
              "</tr>\n",
              "<tr>\n",
              "  <th>C(neighborhood)[T.IDOTRR]</th>  <td>   -0.1688</td> <td>    0.088</td> <td>   -1.926</td> <td> 0.054</td> <td>   -0.341</td> <td>    0.003</td>\n",
              "</tr>\n",
              "<tr>\n",
              "  <th>C(neighborhood)[T.Mitchel]</th> <td>   -0.0658</td> <td>    0.085</td> <td>   -0.770</td> <td> 0.441</td> <td>   -0.233</td> <td>    0.102</td>\n",
              "</tr>\n",
              "<tr>\n",
              "  <th>C(neighborhood)[T.NAmes]</th>   <td>   -0.0730</td> <td>    0.084</td> <td>   -0.864</td> <td> 0.387</td> <td>   -0.239</td> <td>    0.093</td>\n",
              "</tr>\n",
              "<tr>\n",
              "  <th>C(neighborhood)[T.NWAmes]</th>  <td>   -0.0663</td> <td>    0.085</td> <td>   -0.780</td> <td> 0.436</td> <td>   -0.233</td> <td>    0.100</td>\n",
              "</tr>\n",
              "<tr>\n",
              "  <th>C(neighborhood)[T.NoRidge]</th> <td>    0.0860</td> <td>    0.086</td> <td>    0.997</td> <td> 0.319</td> <td>   -0.083</td> <td>    0.255</td>\n",
              "</tr>\n",
              "<tr>\n",
              "  <th>C(neighborhood)[T.NridgHt]</th> <td>    0.1259</td> <td>    0.086</td> <td>    1.469</td> <td> 0.142</td> <td>   -0.042</td> <td>    0.294</td>\n",
              "</tr>\n",
              "<tr>\n",
              "  <th>C(neighborhood)[T.OldTown]</th> <td>   -0.0729</td> <td>    0.086</td> <td>   -0.845</td> <td> 0.398</td> <td>   -0.242</td> <td>    0.096</td>\n",
              "</tr>\n",
              "<tr>\n",
              "  <th>C(neighborhood)[T.SWISU]</th>   <td>   -0.0764</td> <td>    0.091</td> <td>   -0.844</td> <td> 0.399</td> <td>   -0.254</td> <td>    0.101</td>\n",
              "</tr>\n",
              "<tr>\n",
              "  <th>C(neighborhood)[T.Sawyer]</th>  <td>   -0.0838</td> <td>    0.085</td> <td>   -0.983</td> <td> 0.326</td> <td>   -0.251</td> <td>    0.083</td>\n",
              "</tr>\n",
              "<tr>\n",
              "  <th>C(neighborhood)[T.SawyerW]</th> <td>   -0.0784</td> <td>    0.085</td> <td>   -0.926</td> <td> 0.355</td> <td>   -0.244</td> <td>    0.088</td>\n",
              "</tr>\n",
              "<tr>\n",
              "  <th>C(neighborhood)[T.Somerst]</th> <td>    0.0553</td> <td>    0.085</td> <td>    0.654</td> <td> 0.513</td> <td>   -0.111</td> <td>    0.221</td>\n",
              "</tr>\n",
              "<tr>\n",
              "  <th>C(neighborhood)[T.StoneBr]</th> <td>    0.1566</td> <td>    0.092</td> <td>    1.710</td> <td> 0.087</td> <td>   -0.023</td> <td>    0.336</td>\n",
              "</tr>\n",
              "<tr>\n",
              "  <th>C(neighborhood)[T.Timber]</th>  <td>    0.0233</td> <td>    0.085</td> <td>    0.273</td> <td> 0.785</td> <td>   -0.144</td> <td>    0.191</td>\n",
              "</tr>\n",
              "<tr>\n",
              "  <th>C(neighborhood)[T.Veenker]</th> <td>   -0.0240</td> <td>    0.093</td> <td>   -0.259</td> <td> 0.796</td> <td>   -0.206</td> <td>    0.158</td>\n",
              "</tr>\n",
              "<tr>\n",
              "  <th>logtotalsqft</th>               <td>    0.4216</td> <td>    0.013</td> <td>   33.218</td> <td> 0.000</td> <td>    0.397</td> <td>    0.447</td>\n",
              "</tr>\n",
              "<tr>\n",
              "  <th>yearbuilt</th>                  <td>    0.0024</td> <td>    0.000</td> <td>    9.087</td> <td> 0.000</td> <td>    0.002</td> <td>    0.003</td>\n",
              "</tr>\n",
              "</table>\n",
              "<table class=\"simpletable\">\n",
              "<tr>\n",
              "  <th>Omnibus:</th>       <td>273.255</td> <th>  Durbin-Watson:     </th> <td>   1.992</td>\n",
              "</tr>\n",
              "<tr>\n",
              "  <th>Prob(Omnibus):</th> <td> 0.000</td>  <th>  Jarque-Bera (JB):  </th> <td>1437.132</td>\n",
              "</tr>\n",
              "<tr>\n",
              "  <th>Skew:</th>          <td>-0.648</td>  <th>  Prob(JB):          </th> <td>    0.00</td>\n",
              "</tr>\n",
              "<tr>\n",
              "  <th>Kurtosis:</th>      <td> 7.319</td>  <th>  Cond. No.          </th> <td>3.26e+05</td>\n",
              "</tr>\n",
              "</table>"
            ],
            "text/plain": [
              "<class 'statsmodels.iolib.summary.Summary'>\n",
              "\"\"\"\n",
              "                            OLS Regression Results                            \n",
              "==============================================================================\n",
              "Dep. Variable:                  log_y   R-squared:                       0.879\n",
              "Model:                            OLS   Adj. R-squared:                  0.876\n",
              "Method:                 Least Squares   F-statistic:                     388.6\n",
              "Date:                Fri, 22 Feb 2019   Prob (F-statistic):               0.00\n",
              "Time:                        19:00:25   Log-Likelihood:                 910.16\n",
              "No. Observations:                1696   AIC:                            -1756.\n",
              "Df Residuals:                    1664   BIC:                            -1582.\n",
              "Df Model:                          31                                         \n",
              "Covariance Type:            nonrobust                                         \n",
              "==============================================================================================\n",
              "                                 coef    std err          t      P>|t|      [0.025      0.975]\n",
              "----------------------------------------------------------------------------------------------\n",
              "Intercept                      3.6259      0.547      6.624      0.000       2.552       4.700\n",
              "C(overallqual)[T.2]           -0.0041      0.153     -0.026      0.979      -0.305       0.297\n",
              "C(overallqual)[T.3]            0.2050      0.147      1.394      0.164      -0.084       0.494\n",
              "C(overallqual)[T.4]            0.3663      0.145      2.531      0.011       0.082       0.650\n",
              "C(overallqual)[T.5]            0.4761      0.144      3.302      0.001       0.193       0.759\n",
              "C(overallqual)[T.6]            0.5664      0.144      3.923      0.000       0.283       0.850\n",
              "C(overallqual)[T.7]            0.6789      0.145      4.694      0.000       0.395       0.963\n",
              "C(overallqual)[T.8]            0.8084      0.145      5.575      0.000       0.524       1.093\n",
              "C(overallqual)[T.9]            0.9629      0.147      6.571      0.000       0.676       1.250\n",
              "C(overallqual)[T.10]           1.1147      0.150      7.452      0.000       0.821       1.408\n",
              "C(neighborhood)[T.BrkSide]    -0.0574      0.087     -0.663      0.507      -0.227       0.112\n",
              "C(neighborhood)[T.ClearCr]     0.0657      0.088      0.746      0.456      -0.107       0.238\n",
              "C(neighborhood)[T.CollgCr]    -0.0376      0.084     -0.450      0.653      -0.202       0.126\n",
              "C(neighborhood)[T.Crawfor]     0.1290      0.086      1.494      0.135      -0.040       0.298\n",
              "C(neighborhood)[T.Edwards]    -0.0960      0.085     -1.127      0.260      -0.263       0.071\n",
              "C(neighborhood)[T.Gilbert]    -0.0190      0.084     -0.227      0.821      -0.184       0.146\n",
              "C(neighborhood)[T.IDOTRR]     -0.1688      0.088     -1.926      0.054      -0.341       0.003\n",
              "C(neighborhood)[T.Mitchel]    -0.0658      0.085     -0.770      0.441      -0.233       0.102\n",
              "C(neighborhood)[T.NAmes]      -0.0730      0.084     -0.864      0.387      -0.239       0.093\n",
              "C(neighborhood)[T.NWAmes]     -0.0663      0.085     -0.780      0.436      -0.233       0.100\n",
              "C(neighborhood)[T.NoRidge]     0.0860      0.086      0.997      0.319      -0.083       0.255\n",
              "C(neighborhood)[T.NridgHt]     0.1259      0.086      1.469      0.142      -0.042       0.294\n",
              "C(neighborhood)[T.OldTown]    -0.0729      0.086     -0.845      0.398      -0.242       0.096\n",
              "C(neighborhood)[T.SWISU]      -0.0764      0.091     -0.844      0.399      -0.254       0.101\n",
              "C(neighborhood)[T.Sawyer]     -0.0838      0.085     -0.983      0.326      -0.251       0.083\n",
              "C(neighborhood)[T.SawyerW]    -0.0784      0.085     -0.926      0.355      -0.244       0.088\n",
              "C(neighborhood)[T.Somerst]     0.0553      0.085      0.654      0.513      -0.111       0.221\n",
              "C(neighborhood)[T.StoneBr]     0.1566      0.092      1.710      0.087      -0.023       0.336\n",
              "C(neighborhood)[T.Timber]      0.0233      0.085      0.273      0.785      -0.144       0.191\n",
              "C(neighborhood)[T.Veenker]    -0.0240      0.093     -0.259      0.796      -0.206       0.158\n",
              "logtotalsqft                   0.4216      0.013     33.218      0.000       0.397       0.447\n",
              "yearbuilt                      0.0024      0.000      9.087      0.000       0.002       0.003\n",
              "==============================================================================\n",
              "Omnibus:                      273.255   Durbin-Watson:                   1.992\n",
              "Prob(Omnibus):                  0.000   Jarque-Bera (JB):             1437.132\n",
              "Skew:                          -0.648   Prob(JB):                         0.00\n",
              "Kurtosis:                       7.319   Cond. No.                     3.26e+05\n",
              "==============================================================================\n",
              "\n",
              "Warnings:\n",
              "[1] Standard Errors assume that the covariance matrix of the errors is correctly specified.\n",
              "[2] The condition number is large, 3.26e+05. This might indicate that there are\n",
              "strong multicollinearity or other numerical problems.\n",
              "\"\"\""
            ]
          },
          "metadata": {
            "tags": []
          },
          "execution_count": 71
        }
      ]
    },
    {
      "metadata": {
        "id": "W1rJS2H9kC6z",
        "colab_type": "code",
        "colab": {}
      },
      "cell_type": "code",
      "source": [
        "train_predictions = logvarmodel.fittedvalues"
      ],
      "execution_count": 0,
      "outputs": []
    },
    {
      "metadata": {
        "id": "dDwaPwAukC61",
        "colab_type": "code",
        "colab": {
          "base_uri": "https://localhost:8080/",
          "height": 311
        },
        "outputId": "18e91e34-2a19-4f73-bdd8-7423ceb14b17"
      },
      "cell_type": "code",
      "source": [
        "plt.plot(train['log_y'], train_predictions, 'bo')\n",
        "plt.title('Log Sale Price versus Log Predictions') \n",
        "plt.xlabel(\"Log Predictions\") \n",
        "plt.ylabel(\"Log Sale Price\")"
      ],
      "execution_count": 73,
      "outputs": [
        {
          "output_type": "execute_result",
          "data": {
            "text/plain": [
              "Text(0, 0.5, 'Log Sale Price')"
            ]
          },
          "metadata": {
            "tags": []
          },
          "execution_count": 73
        },
        {
          "output_type": "display_data",
          "data": {
            "image/png": "[encoded data removed]",
            "text/plain": [
              "<Figure size 432x288 with 1 Axes>"
            ]
          },
          "metadata": {
            "tags": []
          }
        }
      ]
    },
    {
      "metadata": {
        "id": "nzUWiF5LkC63",
        "colab_type": "code",
        "colab": {
          "base_uri": "https://localhost:8080/",
          "height": 119
        },
        "outputId": "d1aeb9c7-3aec-4d73-d46b-3022f80469a2"
      },
      "cell_type": "code",
      "source": [
        "train_predictions.head() \n",
        "preds = np.exp(train_predictions) \n",
        "preds.head() "
      ],
      "execution_count": 74,
      "outputs": [
        {
          "output_type": "execute_result",
          "data": {
            "text/plain": [
              "0    222048.975168\n",
              "1    167677.516347\n",
              "2    103314.556688\n",
              "3    178860.652530\n",
              "4    157197.623168\n",
              "dtype: float64"
            ]
          },
          "metadata": {
            "tags": []
          },
          "execution_count": 74
        }
      ]
    },
    {
      "metadata": {
        "id": "G_X3ovJlkC65",
        "colab_type": "code",
        "colab": {
          "base_uri": "https://localhost:8080/",
          "height": 68
        },
        "outputId": "d1fa6cec-1478-44ac-f67d-3934c261e427"
      },
      "cell_type": "code",
      "source": [
        "print('')\n",
        "print('----- Optional:  Automated Variable Selection -----')\n",
        "print('')"
      ],
      "execution_count": 75,
      "outputs": [
        {
          "output_type": "stream",
          "text": [
            "\n",
            "----- Optional:  Automated Variable Selection -----\n",
            "\n"
          ],
          "name": "stdout"
        }
      ]
    },
    {
      "metadata": {
        "id": "kCyYstb-kC69",
        "colab_type": "code",
        "colab": {
          "base_uri": "https://localhost:8080/",
          "height": 102
        },
        "outputId": "ad6e0b90-40af-45d0-a851-1e8824d2eea7"
      },
      "cell_type": "code",
      "source": [
        "Y = train[['saleprice']].copy()\n",
        "from sklearn.feature_selection import SelectKBest\n",
        "from sklearn.feature_selection import chi2\n",
        "select_top_3 = SelectKBest(score_func=chi2, k = \"all\")\n",
        "fit = select_top_3.fit(X1,Y)\n",
        "features = fit.transform(X1)\n",
        "features[0:5]"
      ],
      "execution_count": 76,
      "outputs": [
        {
          "output_type": "execute_result",
          "data": {
            "text/plain": [
              "array([[   40.,  1788.,  2001., 11838.,    70.],\n",
              "       [   30.,  1837.,  1997.,  8304.,    70.],\n",
              "       [   30.,  1048.,  1922.,  6380.,    58.],\n",
              "       [   30.,  2409.,  1971., 14803.,    80.],\n",
              "       [   30.,  2035.,  1954., 11375.,    91.]])"
            ]
          },
          "metadata": {
            "tags": []
          },
          "execution_count": 76
        }
      ]
    },
    {
      "metadata": {
        "id": "z1JjYrySkC7A",
        "colab_type": "code",
        "colab": {
          "base_uri": "https://localhost:8080/",
          "height": 119
        },
        "outputId": "14217f7e-13b2-471b-d6c8-1327a8026eee"
      },
      "cell_type": "code",
      "source": [
        "#New dataframe with the selected features for later use in the classifier. fit() method works too, if you want only the feature names and their corresponding scores\n",
        "names = X1.columns.values[select_top_3.get_support()]\n",
        "scores = select_top_3.scores_[select_top_3.get_support()]\n",
        "names_scores = list(zip(names, scores))\n",
        "ns_df = pd.DataFrame(data = names_scores, columns=['Feat_names', 'X_square'])\n",
        "#Sort the dataframe for better visualization\n",
        "ns_df_sorted = ns_df.sort_values(['X_square', 'Feat_names'], ascending = [False, True])\n",
        "print(ns_df_sorted)"
      ],
      "execution_count": 77,
      "outputs": [
        {
          "output_type": "stream",
          "text": [
            "      Feat_names      X_square\n",
            "3        lotarea  6.478332e+06\n",
            "1  totalsqftcalc  3.761585e+05\n",
            "4    lotfrontage  4.134993e+03\n",
            "0   qualityindex  2.701945e+03\n",
            "2      yearbuilt  5.798114e+02\n"
          ],
          "name": "stdout"
        }
      ]
    },
    {
      "metadata": {
        "id": "w7bImxNWkC7E",
        "colab_type": "code",
        "colab": {
          "base_uri": "https://localhost:8080/",
          "height": 156
        },
        "outputId": "7d1453a1-3833-4845-a4c5-999f074317ed"
      },
      "cell_type": "code",
      "source": [
        "Y = train[['saleprice']].copy()\n",
        "from sklearn.feature_selection import SelectKBest\n",
        "from sklearn.feature_selection import f_regression\n",
        "select_top_3 = SelectKBest(score_func=f_regression, k = \"all\")\n",
        "fit = select_top_3.fit(X1,Y)\n",
        "features = fit.transform(X1)\n",
        "features[0:5]"
      ],
      "execution_count": 78,
      "outputs": [
        {
          "output_type": "stream",
          "text": [
            "/usr/local/lib/python3.6/dist-packages/sklearn/utils/validation.py:761: DataConversionWarning: A column-vector y was passed when a 1d array was expected. Please change the shape of y to (n_samples, ), for example using ravel().\n",
            "  y = column_or_1d(y, warn=True)\n"
          ],
          "name": "stderr"
        },
        {
          "output_type": "execute_result",
          "data": {
            "text/plain": [
              "array([[   40.,  1788.,  2001., 11838.,    70.],\n",
              "       [   30.,  1837.,  1997.,  8304.,    70.],\n",
              "       [   30.,  1048.,  1922.,  6380.,    58.],\n",
              "       [   30.,  2409.,  1971., 14803.,    80.],\n",
              "       [   30.,  2035.,  1954., 11375.,    91.]])"
            ]
          },
          "metadata": {
            "tags": []
          },
          "execution_count": 78
        }
      ]
    },
    {
      "metadata": {
        "id": "NC70PWnkkC7J",
        "colab_type": "code",
        "colab": {
          "base_uri": "https://localhost:8080/",
          "height": 119
        },
        "outputId": "bf5ec936-092c-4f75-c99f-419e5b9be3aa"
      },
      "cell_type": "code",
      "source": [
        "#New dataframe with the selected features for later use in the classifier. fit() method works too, if you want only the feature names and their corresponding scores\n",
        "names = X1.columns.values[select_top_3.get_support()]\n",
        "scores = select_top_3.scores_[select_top_3.get_support()]\n",
        "pvalues = select_top_3.pvalues_[select_top_3.get_support()]\n",
        "names_scores = list(zip(names, scores, pvalues))\n",
        "ns_df = pd.DataFrame(data = names_scores, columns=['Feat_names', 'F_stat','p_value'])\n",
        "#Sort the dataframe for better visualization\n",
        "ns_df_sorted = ns_df.sort_values(['F_stat', 'Feat_names'], ascending = [False, True])\n",
        "print(ns_df_sorted)"
      ],
      "execution_count": 79,
      "outputs": [
        {
          "output_type": "stream",
          "text": [
            "      Feat_names       F_stat        p_value\n",
            "1  totalsqftcalc  2741.161654   0.000000e+00\n",
            "2      yearbuilt   920.810860  6.781441e-162\n",
            "0   qualityindex   733.179368  1.799471e-134\n",
            "4    lotfrontage   339.900076   2.565160e-69\n",
            "3        lotarea   157.073981   1.592488e-34\n"
          ],
          "name": "stdout"
        }
      ]
    },
    {
      "metadata": {
        "id": "VqxdZCdfkC7M",
        "colab_type": "code",
        "colab": {
          "base_uri": "https://localhost:8080/",
          "height": 68
        },
        "outputId": "a9e824b5-a918-4b47-a8e7-fd720b9a7cc8"
      },
      "cell_type": "code",
      "source": [
        "print('')\n",
        "print('----- Section 3:  Select Models -----')\n",
        "print('')"
      ],
      "execution_count": 80,
      "outputs": [
        {
          "output_type": "stream",
          "text": [
            "\n",
            "----- Section 3:  Select Models -----\n",
            "\n"
          ],
          "name": "stdout"
        }
      ]
    },
    {
      "metadata": {
        "id": "Pmzri9fDkC7N",
        "colab_type": "code",
        "colab": {
          "base_uri": "https://localhost:8080/",
          "height": 221
        },
        "outputId": "6feeae6a-4d6a-44aa-93a4-aceeeacea54c"
      },
      "cell_type": "code",
      "source": [
        "#Convert the array predictions to a data frame then merge with the index for the test data to create your file\n",
        "test_predictions = model3.predict(test)\n",
        "print(test_predictions)\n",
        "d = {'p_saleprice': test_predictions}\n",
        "df1 = test[['index']]\n",
        "df2=pd.DataFrame(data=d)\n",
        "your_file = pd.concat([df1,df2],axis = 1, join_axes=[df1.index])"
      ],
      "execution_count": 81,
      "outputs": [
        {
          "output_type": "stream",
          "text": [
            "0       52179.769608\n",
            "1      260608.814674\n",
            "2      199342.734021\n",
            "3      205782.899794\n",
            "4      195082.122549\n",
            "           ...      \n",
            "721    210795.802194\n",
            "722    391391.264036\n",
            "723    154357.573360\n",
            "724    188385.786744\n",
            "725    136766.317870\n",
            "Length: 726, dtype: float64\n"
          ],
          "name": "stdout"
        }
      ]
    },
    {
      "metadata": {
        "id": "gjZYRIYDkC7P",
        "colab_type": "code",
        "colab": {
          "base_uri": "https://localhost:8080/",
          "height": 68
        },
        "outputId": "60e7a46b-5aec-49e8-a1bb-3ef256d8d0c6"
      },
      "cell_type": "code",
      "source": [
        "print('')\n",
        "print('----- Section 4:  Model Formula -----')\n",
        "print('')"
      ],
      "execution_count": 82,
      "outputs": [
        {
          "output_type": "stream",
          "text": [
            "\n",
            "----- Section 4:  Model Formula -----\n",
            "\n"
          ],
          "name": "stdout"
        }
      ]
    },
    {
      "metadata": {
        "id": "VQL2jJ41kC7S",
        "colab_type": "code",
        "colab": {
          "base_uri": "https://localhost:8080/",
          "height": 221
        },
        "outputId": "77c10025-ab3d-4c72-9505-e3bc915aa491"
      },
      "cell_type": "code",
      "source": [
        "print (model3.params)"
      ],
      "execution_count": 83,
      "outputs": [
        {
          "output_type": "stream",
          "text": [
            "Intercept                    -806973.174372\n",
            "C(neighborhood)[T.BrkSide]     17473.195399\n",
            "C(neighborhood)[T.ClearCr]     33287.479870\n",
            "C(neighborhood)[T.CollgCr]     14514.153486\n",
            "C(neighborhood)[T.Crawfor]     39685.336277\n",
            "                                  ...      \n",
            "C(neighborhood)[T.Veenker]     31067.879249\n",
            "overallqual                    17959.781642\n",
            "grlivarea                         50.805336\n",
            "yearbuilt                        381.487096\n",
            "totalbath                      14659.124047\n",
            "Length: 25, dtype: float64\n"
          ],
          "name": "stdout"
        }
      ]
    },
    {
      "metadata": {
        "id": "avE4jovgkC7U",
        "colab_type": "code",
        "colab": {
          "base_uri": "https://localhost:8080/",
          "height": 68
        },
        "outputId": "c771614b-7c82-4216-a396-0ac2915a9bd8"
      },
      "cell_type": "code",
      "source": [
        "print('')\n",
        "print('----- Section 5:  Scored Data File -----')\n",
        "print('')"
      ],
      "execution_count": 84,
      "outputs": [
        {
          "output_type": "stream",
          "text": [
            "\n",
            "----- Section 5:  Scored Data File -----\n",
            "\n"
          ],
          "name": "stdout"
        }
      ]
    },
    {
      "metadata": {
        "id": "QlPhvbdPkC7W",
        "colab_type": "code",
        "colab": {}
      },
      "cell_type": "code",
      "source": [
        "#Submit your file as csv using the following code to save on your computer\n",
        "#You will have to delete the first column in the csv file to submit to kaggle \n",
        "# your_file.to_csv('hw02_predictions.csv')  "
      ],
      "execution_count": 0,
      "outputs": []
    },
    {
      "metadata": {
        "id": "nVqIoGFckFrH",
        "colab_type": "text"
      },
      "cell_type": "markdown",
      "source": [
        "#### Conclusion"
      ]
    },
    {
      "metadata": {
        "id": "3an2mcujkJCT",
        "colab_type": "text"
      },
      "cell_type": "markdown",
      "source": [
        "Several models were developed and tested to predict the sale price of a home using Ames housing train data. The best multiple regression model was derived using overall quality, above ground living area (square feet), neighborhood, total bathrooms, and year built as predictor variables of sale price. Other models were tested that resulted in higher R-squared values, but the model selected is more parsimonious with a lower AIC and BIC, and the lowest RMSE. These models were tested using Forward, Stepwise, and automated feature selection techniques. Although there were no problems detected with the various regression models, the variables should be explored further to see if the predictions would result in a more accurate sale price. For example, the log transformation of the dependent variable sale price showed promise in improving the model. Out of range predictions were fixed by eliminating outliers and applying drop conditions for a more accurate model. Additionally, through residual analysis we identified potential skewing that may require further data transformations. These issues should be explored with further EDA, before more complex model building such as ridge regression or LASSO is tested."
      ]
    }
  ]
}