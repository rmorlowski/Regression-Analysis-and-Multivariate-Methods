{
  "nbformat": 4,
  "nbformat_minor": 0,
  "metadata": {
    "colab": {
      "name": "Cluster_Anlaysis.ipynb",
      "version": "0.3.2",
      "provenance": [],
      "collapsed_sections": [],
      "include_colab_link": true
    },
    "kernelspec": {
      "display_name": "Python 3",
      "language": "python",
      "name": "python3"
    }
  },
  "cells": [
    {
      "cell_type": "markdown",
      "metadata": {
        "id": "view-in-github",
        "colab_type": "text"
      },
      "source": [
        "<a href=\"https://colab.research.google.com/github/rmorlowski/Regression-Analysis-and-Multivariate-Methods/blob/master/Cluster_Anlaysis.ipynb\" target=\"_parent\"><img src=\"https://colab.research.google.com/assets/colab-badge.svg\" alt=\"Open In Colab\"/></a>"
      ]
    },
    {
      "metadata": {
        "id": "gFIJuX5souVs",
        "colab_type": "text"
      },
      "cell_type": "markdown",
      "source": [
        "## K-means Cluster Analysis"
      ]
    },
    {
      "metadata": {
        "id": "ZKaMs3DVpKOJ",
        "colab_type": "text"
      },
      "cell_type": "markdown",
      "source": [
        "The deliverable is to analyze self-rated survey data from students at Stanford University and their responses to personality attribute questions to find clusters within the dataset. The goal is to find some meaningful sub-groups from the psychological personality assessment data. This will be accomplished by K-means clustering, Ward’s method, and hierarchical agglomerative methods. From these techniques, we will determine if sub-groups may be identified from the data."
      ]
    },
    {
      "metadata": {
        "id": "rJIJauDvouVv",
        "colab_type": "text"
      },
      "cell_type": "markdown",
      "source": [
        "This example uses data from public-domain source at Stanford University. 240 student participants' self-ratings on 32 personality attributes. Student survey participants were given an adjective check-list with instructions to self-rate such as: \"Rate the extent to which each adjective describes you. Use a 1-to-9 scale, where 1 means 'very much unlike me' and 9 means 'very much like me.' \" Source: http://www.stanford.edu/class/psych253/data/personality0.txt"
      ]
    },
    {
      "metadata": {
        "id": "GLedApu2ouVw",
        "colab_type": "code",
        "colab": {}
      },
      "cell_type": "code",
      "source": [
        "# import packages for this example\n",
        "import pandas as pd    \n",
        "from collections import OrderedDict  # to create DataFrame with ordered columns\n",
        "# special plotting methods\n",
        "from pandas.tools.plotting import scatter_matrix    \n",
        "import numpy as np  # arrays and math functions\n",
        "import matplotlib.pyplot as plt  # static plotting\n",
        "from sklearn import preprocessing\n",
        "from sklearn.cluster import KMeans\n",
        "from sklearn import metrics  # for silhouette coefficient\n",
        "from mpl_toolkits.mplot3d import Axes3D\n",
        "from sklearn.metrics import confusion_matrix, classification_report\n",
        "import sklearn.metrics as sm\n",
        "from scipy.cluster.hierarchy import dendrogram, linkage\n",
        "import pandas_profiling"
      ],
      "execution_count": 0,
      "outputs": []
    },
    {
      "metadata": {
        "id": "z7JOqY6YouVz",
        "colab_type": "code",
        "colab": {
          "base_uri": "https://localhost:8080/",
          "height": 51
        },
        "outputId": "6b96454e-0266-4cb1-c028-1cb4ff054ab5"
      },
      "cell_type": "code",
      "source": [
        "%matplotlib inline\n",
        "plt.figure(figsize=(7,4))"
      ],
      "execution_count": 2,
      "outputs": [
        {
          "output_type": "execute_result",
          "data": {
            "text/plain": [
              "<Figure size 504x288 with 0 Axes>"
            ]
          },
          "metadata": {
            "tags": []
          },
          "execution_count": 2
        },
        {
          "output_type": "display_data",
          "data": {
            "text/plain": [
              "<Figure size 504x288 with 0 Axes>"
            ]
          },
          "metadata": {
            "tags": []
          }
        }
      ]
    },
    {
      "metadata": {
        "id": "CcbWNZLDouV5",
        "colab_type": "text"
      },
      "cell_type": "markdown",
      "source": [
        "K-Means Clustering - The k-means clustering algorithm is a simple unsupervised algorithm that's used for quickly predicting groupings from within an unlabeled dataset.\n",
        "\n",
        "Predictions are based on...\n",
        "1)  The number of cluster centers present (k)\n",
        "2)  Nearest mean values (measured in Euclidian distance between observations)"
      ]
    },
    {
      "metadata": {
        "id": "iG4RNyTZo4tU",
        "colab_type": "code",
        "colab": {
          "resources": {
            "http://localhost:8080/nbextensions/google.colab/files.js": {
              "data": "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",
              "ok": true,
              "headers": [
                [
                  "content-type",
                  "application/javascript"
                ]
              ],
              "status": 200,
              "status_text": ""
            }
          },
          "base_uri": "https://localhost:8080/",
          "height": 71
        },
        "outputId": "b6698cf4-3b5f-4d59-eb00-0f8391320330"
      },
      "cell_type": "code",
      "source": [
        "# Import file to google colaboratory\n",
        "from google.colab import files\n",
        "# upload the train dataset\n",
        "uploaded = files.upload()"
      ],
      "execution_count": 3,
      "outputs": [
        {
          "output_type": "display_data",
          "data": {
            "text/html": [
              "\n",
              "     <input type=\"file\" id=\"files-0e5b4fec-0cac-4a6a-9ecd-318cd1ac1a62\" name=\"files[]\" multiple disabled />\n",
              "     <output id=\"result-0e5b4fec-0cac-4a6a-9ecd-318cd1ac1a62\">\n",
              "      Upload widget is only available when the cell has been executed in the\n",
              "      current browser session. Please rerun this cell to enable.\n",
              "      </output>\n",
              "      <script src=\"/nbextensions/google.colab/files.js\"></script> "
            ],
            "text/plain": [
              "<IPython.core.display.HTML object>"
            ]
          },
          "metadata": {
            "tags": []
          }
        },
        {
          "output_type": "stream",
          "text": [
            "Saving student_data.csv to student_data.csv\n"
          ],
          "name": "stdout"
        }
      ]
    },
    {
      "metadata": {
        "id": "Y9bJ6KAaouV5",
        "colab_type": "code",
        "colab": {}
      },
      "cell_type": "code",
      "source": [
        "import io\n",
        "#  Read in the data.\n",
        "student_data = pd.read_csv('student_data.csv')"
      ],
      "execution_count": 0,
      "outputs": []
    },
    {
      "metadata": {
        "id": "sWovroCfouV8",
        "colab_type": "text"
      },
      "cell_type": "markdown",
      "source": [
        "If you like, add your own data to the student_data data frame by self-rating the 32 adjectives on a 1-to-9 scale ...this would provide 241 observations for example..."
      ]
    },
    {
      "metadata": {
        "id": "MdqGyAsGouV9",
        "colab_type": "code",
        "colab": {
          "base_uri": "https://localhost:8080/",
          "height": 1972
        },
        "outputId": "e81c00f9-537b-42f9-d8e2-d52d3403305f"
      },
      "cell_type": "code",
      "source": [
        "print('')\n",
        "print('----- Summary of Input Data -----')\n",
        "print('')\n",
        "\n",
        "# show the object is a DataFrame\n",
        "print('Object type: ', type(student_data))\n",
        "\n",
        "# show number of observations in the DataFrame\n",
        "print('Number of observations: ', len(student_data))\n",
        "\n",
        "# show variable names\n",
        "variable = student_data.columns\n",
        "print('Variable names: ', variable)\n",
        "\n",
        "# show descriptive statistics\n",
        "pd.set_option('display.max_columns', None)  # do not limit output\n",
        "print(student_data.describe())\n",
        "\n",
        "# show a portion of the beginning of the DataFrame\n",
        "print(student_data.head())"
      ],
      "execution_count": 5,
      "outputs": [
        {
          "output_type": "stream",
          "text": [
            "\n",
            "----- Summary of Input Data -----\n",
            "\n",
            "Object type:  <class 'pandas.core.frame.DataFrame'>\n",
            "Number of observations:  240\n",
            "Variable names:  Index(['distant', 'talkative', 'careless', 'hardworking', 'anxious',\n",
            "       'agreeable', 'tense', 'kind', 'opposing', 'relaxed', 'disorganized',\n",
            "       'outgoing', 'approving', 'shy', 'disciplined', 'harsh', 'persevering',\n",
            "       'friendly', 'worrying', 'responsive', 'contrary', 'sociable', 'lazy',\n",
            "       'cooperative', 'quiet', 'organized', 'critical', 'lax', 'laidback',\n",
            "       'withdrawn', 'givingup', 'easygoing'],\n",
            "      dtype='object')\n",
            "          distant   talkative    careless  hardworking     anxious  \\\n",
            "count  240.000000  240.000000  240.000000   240.000000  240.000000   \n",
            "mean     3.866667    5.883333    3.412500     6.925000    5.129167   \n",
            "std      1.794615    1.677732    1.811357     1.370108    1.880305   \n",
            "min      1.000000    2.000000    1.000000     2.000000    1.000000   \n",
            "25%      2.000000    5.000000    2.000000     6.000000    4.000000   \n",
            "50%      3.000000    6.000000    3.000000     7.000000    5.000000   \n",
            "75%      5.000000    7.000000    5.000000     8.000000    7.000000   \n",
            "max      8.000000    9.000000    9.000000     9.000000    9.000000   \n",
            "\n",
            "        agreeable       tense        kind    opposing     relaxed  \\\n",
            "count  240.000000  240.000000  240.000000  240.000000  240.000000   \n",
            "mean     6.629167    4.616667    6.970833    3.858333    5.475000   \n",
            "std      1.372162    1.904337    1.262255    1.599141    1.694009   \n",
            "min      1.000000    1.000000    2.000000    1.000000    1.000000   \n",
            "25%      6.000000    3.000000    6.000000    3.000000    4.000000   \n",
            "50%      7.000000    5.000000    7.000000    4.000000    5.000000   \n",
            "75%      8.000000    6.000000    8.000000    5.000000    7.000000   \n",
            "max      9.000000    9.000000    9.000000    8.000000    9.000000   \n",
            "\n",
            "       disorganized    outgoing   approving         shy  disciplined  \\\n",
            "count    240.000000  240.000000  240.000000  240.000000   240.000000   \n",
            "mean       4.083333    6.020833    5.858333    4.558333     6.308333   \n",
            "std        2.126082    1.809894    1.367867    1.969626     1.725011   \n",
            "min        1.000000    2.000000    2.000000    1.000000     1.000000   \n",
            "25%        2.000000    5.000000    5.000000    3.000000     5.000000   \n",
            "50%        4.000000    6.000000    6.000000    5.000000     7.000000   \n",
            "75%        6.000000    7.000000    7.000000    6.000000     7.000000   \n",
            "max        9.000000    9.000000    9.000000    9.000000     9.000000   \n",
            "\n",
            "            harsh  persevering    friendly    worrying  responsive  \\\n",
            "count  240.000000   240.000000  240.000000  240.000000  240.000000   \n",
            "mean     3.600000     6.804167    7.250000    5.212500    7.291667   \n",
            "std      1.683789     1.405006    1.155304    2.108126    1.395725   \n",
            "min      1.000000     2.000000    2.000000    1.000000    1.000000   \n",
            "25%      2.000000     6.000000    7.000000    3.000000    7.000000   \n",
            "50%      3.000000     7.000000    7.000000    6.000000    8.000000   \n",
            "75%      5.000000     8.000000    8.000000    7.000000    8.000000   \n",
            "max      8.000000     9.000000    9.000000    9.000000    9.000000   \n",
            "\n",
            "         contrary    sociable        lazy  cooperative       quiet  \\\n",
            "count  240.000000  240.000000  240.000000   240.000000  240.000000   \n",
            "mean     3.770833    6.445833    4.179167     6.695833    4.604167   \n",
            "std      1.500900    1.567579    1.893941     1.197619    1.880750   \n",
            "min      1.000000    2.000000    1.000000     3.000000    1.000000   \n",
            "25%      3.000000    5.000000    3.000000     6.000000    3.000000   \n",
            "50%      4.000000    7.000000    4.000000     7.000000    5.000000   \n",
            "75%      5.000000    8.000000    5.000000     7.000000    6.000000   \n",
            "max      8.000000    9.000000    9.000000     9.000000    9.000000   \n",
            "\n",
            "        organized    critical         lax    laidback   withdrawn    givingup  \\\n",
            "count  240.000000  240.000000  240.000000  240.000000  240.000000  240.000000   \n",
            "mean     6.154167    5.170833    4.083333    5.245833    3.754167    2.675000   \n",
            "std      1.963363    1.745282    1.664713    1.790837    1.769684    1.553307   \n",
            "min      1.000000    1.000000    1.000000    1.000000    1.000000    1.000000   \n",
            "25%      5.000000    4.000000    3.000000    4.000000    2.000000    1.750000   \n",
            "50%      6.000000    5.000000    4.000000    5.000000    3.000000    2.000000   \n",
            "75%      8.000000    6.000000    5.000000    7.000000    5.000000    4.000000   \n",
            "max      9.000000    9.000000    9.000000    9.000000    7.000000    8.000000   \n",
            "\n",
            "        easygoing  \n",
            "count  240.000000  \n",
            "mean     6.066667  \n",
            "std      1.601429  \n",
            "min      2.000000  \n",
            "25%      5.000000  \n",
            "50%      6.000000  \n",
            "75%      7.000000  \n",
            "max      9.000000  \n",
            "   distant  talkative  careless  hardworking  anxious  agreeable  tense  kind  \\\n",
            "0        2          7         1            4        7          8      5     9   \n",
            "1        3          8         2            7        5          8      4     8   \n",
            "2        6          6         2            5        1          8      2     9   \n",
            "3        3          7         6            7        8          8      2     8   \n",
            "4        7          3         3            5        8          6      7     2   \n",
            "\n",
            "   opposing  relaxed  disorganized  outgoing  approving  shy  disciplined  \\\n",
            "0         5        6             3         2          7    9            5   \n",
            "1         5        7             5         8          7    6            7   \n",
            "2         2        8             7         6          7    5            5   \n",
            "3         3        7             2         5          6    4            6   \n",
            "4         3        3             5         2          5    8            7   \n",
            "\n",
            "   harsh  persevering  friendly  worrying  responsive  contrary  sociable  \\\n",
            "0      5            8         9         9           9         5         9   \n",
            "1      3            7         7         5           7         5         8   \n",
            "2      2            5         8         3           9         2         8   \n",
            "3      2            8         8         3           8         2         6   \n",
            "4      5            6         2         8           7         3         2   \n",
            "\n",
            "   lazy  cooperative  quiet  organized  critical  lax  laidback  withdrawn  \\\n",
            "0     7            9      9          5         5    5         7          5   \n",
            "1     2            7      6          6         4    3         7          2   \n",
            "2     5            8      7          4         5    5         7          6   \n",
            "3     3            8      4          7         6    6         6          4   \n",
            "4     6            6      7          5         5    3         3          7   \n",
            "\n",
            "   givingup  easygoing  \n",
            "0         5          8  \n",
            "1         2          7  \n",
            "2         2          8  \n",
            "3         3          7  \n",
            "4         5          5  \n"
          ],
          "name": "stdout"
        }
      ]
    },
    {
      "metadata": {
        "id": "JpXUl5CTouWA",
        "colab_type": "code",
        "colab": {
          "base_uri": "https://localhost:8080/",
          "height": 68
        },
        "outputId": "7e70be1f-ecfa-402e-b8d6-fdfaaff3a816"
      },
      "cell_type": "code",
      "source": [
        "print('')\n",
        "print('----- K-means Cluster Analysis of Variables -----')\n",
        "print('')"
      ],
      "execution_count": 6,
      "outputs": [
        {
          "output_type": "stream",
          "text": [
            "\n",
            "----- K-means Cluster Analysis of Variables -----\n",
            "\n"
          ],
          "name": "stdout"
        }
      ]
    },
    {
      "metadata": {
        "id": "UGoQ28-FouWD",
        "colab_type": "text"
      },
      "cell_type": "markdown",
      "source": [
        "**It is good practice to standardize variables prior to clustering standard scores have zero mean and unit standard deviation. However, since the scales are the same I didn't standardize for this assignment.**"
      ]
    },
    {
      "metadata": {
        "id": "ywjFqdnzouWE",
        "colab_type": "code",
        "colab": {}
      },
      "cell_type": "code",
      "source": [
        "#standardized_student_data_matrix = preprocessing.scale(student_data)\n",
        "variable_cluster_data =  student_data.T"
      ],
      "execution_count": 0,
      "outputs": []
    },
    {
      "metadata": {
        "id": "Ub7ZORxTouWH",
        "colab_type": "text"
      },
      "cell_type": "markdown",
      "source": [
        "Specify the number of clusters in order to perform K-means cluster analysis on the variables in the study."
      ]
    },
    {
      "metadata": {
        "id": "8MXDCslwouWJ",
        "colab_type": "code",
        "colab": {}
      },
      "cell_type": "code",
      "source": [
        "kmeans = KMeans(n_clusters = 5, n_init = 25, random_state = 1)\n",
        "kmeans.fit(variable_cluster_data)\n",
        "cluster = kmeans.predict(variable_cluster_data)"
      ],
      "execution_count": 0,
      "outputs": []
    },
    {
      "metadata": {
        "id": "i8C2KNQrouWL",
        "colab_type": "text"
      },
      "cell_type": "markdown",
      "source": [
        "Create pandas DataFrame for summarizing the cluster analysis results."
      ]
    },
    {
      "metadata": {
        "id": "j3zuy3VWouWM",
        "colab_type": "code",
        "colab": {}
      },
      "cell_type": "code",
      "source": [
        "variable_kmeans_solution = pd.DataFrame(OrderedDict([('cluster', cluster)]))"
      ],
      "execution_count": 0,
      "outputs": []
    },
    {
      "metadata": {
        "id": "eo3Vj1slouWP",
        "colab_type": "text"
      },
      "cell_type": "markdown",
      "source": [
        "Print results of variable clustering one cluster at a time."
      ]
    },
    {
      "metadata": {
        "id": "X-8PkAaAouWQ",
        "colab_type": "code",
        "colab": {
          "base_uri": "https://localhost:8080/",
          "height": 731
        },
        "outputId": "71786819-6cb4-45fe-eba1-1935683abbe7"
      },
      "cell_type": "code",
      "source": [
        "for cluster_id in sorted(variable_kmeans_solution.cluster.unique()):\n",
        "    print()\n",
        "    print(variable_kmeans_solution.loc[variable_kmeans_solution['cluster'] == \\\n",
        "        cluster_id])## "
      ],
      "execution_count": 10,
      "outputs": [
        {
          "output_type": "stream",
          "text": [
            "\n",
            "    cluster\n",
            "9         0\n",
            "28        0\n",
            "31        0\n",
            "\n",
            "    cluster\n",
            "0         1\n",
            "2         1\n",
            "8         1\n",
            "10        1\n",
            "15        1\n",
            "20        1\n",
            "22        1\n",
            "27        1\n",
            "29        1\n",
            "30        1\n",
            "\n",
            "    cluster\n",
            "1         2\n",
            "11        2\n",
            "12        2\n",
            "21        2\n",
            "\n",
            "    cluster\n",
            "4         3\n",
            "6         3\n",
            "13        3\n",
            "18        3\n",
            "24        3\n",
            "26        3\n",
            "\n",
            "    cluster\n",
            "3         4\n",
            "5         4\n",
            "7         4\n",
            "14        4\n",
            "16        4\n",
            "17        4\n",
            "19        4\n",
            "23        4\n",
            "25        4\n"
          ],
          "name": "stdout"
        }
      ]
    },
    {
      "metadata": {
        "id": "j3zmmD69ouWS",
        "colab_type": "text"
      },
      "cell_type": "markdown",
      "source": [
        "The silhouette coefficient is a useful general-purpose index for evaluating the strength of a clustering solution. The original reference is Peter J. Rousseeuw (1987). “Silhouettes: a Graphical Aid to the Interpretation and Validation of Cluster Analysis”. Computational and Applied Mathematics 20: 53–65. doi:10.1016/0377-0427(87)90125-7. Larger positive values of the silhouette coefficient are preferred. These indicate dense, well separated clusters. Evaluate the clustering solution using the silhouette coefficient"
      ]
    },
    {
      "metadata": {
        "id": "-nTG3JIFouWT",
        "colab_type": "code",
        "colab": {
          "base_uri": "https://localhost:8080/",
          "height": 34
        },
        "outputId": "f8e7e5ac-3433-4586-ddeb-68c5064b76de"
      },
      "cell_type": "code",
      "source": [
        "print('Silhouette coefficient for the five-cluster k-means solution: ', \n",
        "    metrics.silhouette_score(variable_cluster_data, cluster, \n",
        "        metric = 'euclidean'))"
      ],
      "execution_count": 11,
      "outputs": [
        {
          "output_type": "stream",
          "text": [
            "Silhouette coefficient for the five-cluster k-means solution:  0.17638659297634862\n"
          ],
          "name": "stdout"
        }
      ]
    },
    {
      "metadata": {
        "id": "Ujdlj-1KouWW",
        "colab_type": "text"
      },
      "cell_type": "markdown",
      "source": [
        "**A low silhouette coefficient suggests that you try k-means with alternative values for the number of clusters or perhaps this problem is not particularly well suited for cluster analysis.**"
      ]
    },
    {
      "metadata": {
        "id": "q8dyjj7KouWX",
        "colab_type": "text"
      },
      "cell_type": "markdown",
      "source": [
        "**The next result is much the way you would do a market research study looking for market segments... here the segments are clusters of students.**"
      ]
    },
    {
      "metadata": {
        "id": "X9Vhe_LTouWY",
        "colab_type": "code",
        "colab": {}
      },
      "cell_type": "code",
      "source": [
        "student_cluster_data =  student_data.T"
      ],
      "execution_count": 0,
      "outputs": []
    },
    {
      "metadata": {
        "id": "r8xebxo1ouWb",
        "colab_type": "text"
      },
      "cell_type": "markdown",
      "source": [
        "Specify the number of clusters in order to perform K-means cluster analysis on the variables in the study with no preconceived notions about the number of student segments/clusters. Search across various cluster analysis solutions defined. Each individual k-means solution is defined by the argument n_clusters. Consider selecting a solution based on the silhouette coefficient. For more info on silhouette see http://scikit-learn.org/stable/auto_examples/cluster/plot_kmeans_silhouette_analysis.html"
      ]
    },
    {
      "metadata": {
        "id": "JhNM22u2ouWc",
        "colab_type": "code",
        "colab": {
          "base_uri": "https://localhost:8080/",
          "height": 340
        },
        "outputId": "229f080d-299a-4614-d303-8a283d68cd7d"
      },
      "cell_type": "code",
      "source": [
        "for nclusters in range(2,21): # search between 2 and 20 clusters/segments\n",
        "    kmeans = KMeans(n_clusters = nclusters, n_init = 25, random_state = 1)\n",
        "    kmeans.fit(student_cluster_data)\n",
        "    segment = kmeans.predict(student_cluster_data)  # cluster ids for variables\n",
        "    print('nclusters: ', nclusters, ' silhouette coefficient: ', \n",
        "        metrics.silhouette_score(student_cluster_data, segment, \n",
        "            metric='euclidean'))"
      ],
      "execution_count": 13,
      "outputs": [
        {
          "output_type": "stream",
          "text": [
            "nclusters:  2  silhouette coefficient:  0.33563371342730786\n",
            "nclusters:  3  silhouette coefficient:  0.2419619585820747\n",
            "nclusters:  4  silhouette coefficient:  0.1775560578223245\n",
            "nclusters:  5  silhouette coefficient:  0.17638659297634862\n",
            "nclusters:  6  silhouette coefficient:  0.17323764314545081\n",
            "nclusters:  7  silhouette coefficient:  0.17338128853703322\n",
            "nclusters:  8  silhouette coefficient:  0.18815600007708663\n",
            "nclusters:  9  silhouette coefficient:  0.16298435800841243\n",
            "nclusters:  10  silhouette coefficient:  0.17217586139800328\n",
            "nclusters:  11  silhouette coefficient:  0.17391427200796733\n",
            "nclusters:  12  silhouette coefficient:  0.16475651097690158\n",
            "nclusters:  13  silhouette coefficient:  0.16701131535333572\n",
            "nclusters:  14  silhouette coefficient:  0.1658285040376694\n",
            "nclusters:  15  silhouette coefficient:  0.15989232008902704\n",
            "nclusters:  16  silhouette coefficient:  0.13990483191766967\n",
            "nclusters:  17  silhouette coefficient:  0.13074656035240106\n",
            "nclusters:  18  silhouette coefficient:  0.11942673529034908\n",
            "nclusters:  19  silhouette coefficient:  0.11563842711242038\n",
            "nclusters:  20  silhouette coefficient:  0.10995641095819522\n"
          ],
          "name": "stdout"
        }
      ]
    },
    {
      "metadata": {
        "id": "gWhxiKikouWh",
        "colab_type": "code",
        "colab": {
          "base_uri": "https://localhost:8080/",
          "height": 279
        },
        "outputId": "a030dade-529b-461a-e23e-abdf16bf41b5"
      },
      "cell_type": "code",
      "source": [
        "distortions = []\n",
        "K_to_try = range(1, 6)\n",
        "\n",
        "for i in K_to_try:\n",
        "    model = KMeans(\n",
        "            n_clusters=i,\n",
        "            init='k-means++',\n",
        "            n_jobs=-1,\n",
        "            random_state=1)\n",
        "    model.fit(student_cluster_data)\n",
        "    distortions.append(model.inertia_)\n",
        "plt.plot(K_to_try, distortions, marker='o')\n",
        "plt.xlabel('Number of Clusters (k)')\n",
        "plt.ylabel('Distortion')\n",
        "plt.show()"
      ],
      "execution_count": 14,
      "outputs": [
        {
          "output_type": "display_data",
          "data": {
            "image/png": "[encoded data removed]",
            "text/plain": [
              "<Figure size 432x288 with 1 Axes>"
            ]
          },
          "metadata": {
            "tags": []
          }
        }
      ]
    },
    {
      "metadata": {
        "id": "nepSIm2uouWl",
        "colab_type": "text"
      },
      "cell_type": "markdown",
      "source": [
        "The “elbow” seems to be located at k = 2. This mean the distortion will not be decreased significantly if we tell the algorithm to use a larger number of clusters, hence the clustering result might be too complicated and not “natural”."
      ]
    },
    {
      "metadata": {
        "id": "x8whawqPouWm",
        "colab_type": "text"
      },
      "cell_type": "markdown",
      "source": [
        "**Results suggest that a two-cluster/segment solution is best.**"
      ]
    },
    {
      "metadata": {
        "id": "OqAHkHXnouWp",
        "colab_type": "code",
        "colab": {
          "base_uri": "https://localhost:8080/",
          "height": 68
        },
        "outputId": "d6611a94-aa82-4247-d6ba-0dfb6e765897"
      },
      "cell_type": "code",
      "source": [
        "print('')\n",
        "print('----- Solution for Two Student Segments -----')\n",
        "print('')\n",
        "kmeans = KMeans(n_clusters = 2, n_init = 25, random_state = 1)\n",
        "kmeans.fit(student_cluster_data)\n",
        "segment = kmeans.predict(student_cluster_data)  # cluster index"
      ],
      "execution_count": 15,
      "outputs": [
        {
          "output_type": "stream",
          "text": [
            "\n",
            "----- Solution for Two Student Segments -----\n",
            "\n"
          ],
          "name": "stdout"
        }
      ]
    },
    {
      "metadata": {
        "id": "ZtiNll6PouWs",
        "colab_type": "text"
      },
      "cell_type": "markdown",
      "source": [
        "**Create pandas DataFrame for summarizing the cluster analysis results using OrderedDict to preserve the order of column names.**"
      ]
    },
    {
      "metadata": {
        "id": "mT-uymxNouWt",
        "colab_type": "code",
        "colab": {}
      },
      "cell_type": "code",
      "source": [
        "student_kmeans_solution = pd.DataFrame(OrderedDict(\n",
        "    [('student', range(0,len(student_cluster_data))),\n",
        "    ('segment', segment)]))"
      ],
      "execution_count": 0,
      "outputs": []
    },
    {
      "metadata": {
        "id": "z_ma2B6mouWw",
        "colab_type": "text"
      },
      "cell_type": "markdown",
      "source": [
        "To interpret the results of the segmentation review the original ratings data for the two clusters/segments.\n",
        "Merge/join the segment information with the original student data."
      ]
    },
    {
      "metadata": {
        "id": "NFg-NFW1ouWx",
        "colab_type": "code",
        "colab": {}
      },
      "cell_type": "code",
      "source": [
        "student_segmentation_data = student_kmeans_solution.join(student_data)"
      ],
      "execution_count": 0,
      "outputs": []
    },
    {
      "metadata": {
        "id": "xE1YLjUCouWz",
        "colab_type": "text"
      },
      "cell_type": "markdown",
      "source": [
        "The code below will generate the following dendogram:"
      ]
    },
    {
      "metadata": {
        "id": "bMhY4euBouW0",
        "colab_type": "code",
        "colab": {
          "base_uri": "https://localhost:8080/",
          "height": 296
        },
        "outputId": "efa1423a-1bd2-41d8-a71c-380fa9c378cf"
      },
      "cell_type": "code",
      "source": [
        "dendrogram = dendrogram(linkage(student_cluster_data, method = 'ward'))\n",
        "plt.title('Dendrogram')\n",
        "plt.xlabel('Responses')\n",
        "plt.ylabel('Euclidean distances')\n",
        "plt.show()"
      ],
      "execution_count": 18,
      "outputs": [
        {
          "output_type": "display_data",
          "data": {
            "image/png": "[encoded data removed]",
            "text/plain": [
              "<Figure size 432x288 with 1 Axes>"
            ]
          },
          "metadata": {
            "tags": []
          }
        }
      ]
    },
    {
      "metadata": {
        "id": "KT8MZIb2ouW3",
        "colab_type": "text"
      },
      "cell_type": "markdown",
      "source": [
        "Notice that there are two colours : green and red (exclude blue, which is the root). This mean the best k number of clusters according to Ward’s linkage (method = ‘ward’) is two."
      ]
    },
    {
      "metadata": {
        "id": "1gSJyMs_ouW4",
        "colab_type": "text"
      },
      "cell_type": "markdown",
      "source": [
        "Next, print the means for attributes within each segment."
      ]
    },
    {
      "metadata": {
        "id": "5mg4k5ClouW4",
        "colab_type": "code",
        "colab": {
          "base_uri": "https://localhost:8080/",
          "height": 1343
        },
        "outputId": "833e970b-92e3-471e-c06a-fd809edec17a"
      },
      "cell_type": "code",
      "source": [
        "for segment_id in sorted(student_segmentation_data.segment.unique()):\n",
        "    print()\n",
        "    print('Attribute means for segment: ', segment_id)\n",
        "    this_student_segment_data = student_segmentation_data[ \\\n",
        "        student_segmentation_data.segment == segment_id]\n",
        "    attributes = this_student_segment_data.ix[:,'distant':'easygoing'].mean()    \n",
        "    print(attributes)"
      ],
      "execution_count": 19,
      "outputs": [
        {
          "output_type": "stream",
          "text": [
            "\n",
            "Attribute means for segment:  0\n",
            "distant         4.6875\n",
            "talkative       5.3750\n",
            "careless        3.5625\n",
            "hardworking     6.9375\n",
            "anxious         5.7500\n",
            "agreeable       6.6250\n",
            "tense           5.3125\n",
            "kind            6.8750\n",
            "opposing        4.0000\n",
            "relaxed         5.1250\n",
            "disorganized    3.0000\n",
            "outgoing        5.3125\n",
            "approving       5.8750\n",
            "shy             5.0000\n",
            "disciplined     6.6250\n",
            "harsh           3.3750\n",
            "persevering     7.1875\n",
            "friendly        6.6875\n",
            "worrying        5.5625\n",
            "responsive      7.3125\n",
            "contrary        4.0000\n",
            "sociable        5.5625\n",
            "lazy            4.1250\n",
            "cooperative     6.6250\n",
            "quiet           5.4375\n",
            "organized       6.9375\n",
            "critical        5.3125\n",
            "lax             3.9375\n",
            "laidback        4.6875\n",
            "withdrawn       4.6875\n",
            "givingup        3.0625\n",
            "easygoing       5.8125\n",
            "dtype: float64\n",
            "\n",
            "Attribute means for segment:  1\n",
            "distant         4.6250\n",
            "talkative       5.0000\n",
            "careless        2.8125\n",
            "hardworking     6.8125\n",
            "anxious         5.1250\n",
            "agreeable       6.5000\n",
            "tense           4.8125\n",
            "kind            6.7500\n",
            "opposing        3.8750\n",
            "relaxed         5.4375\n",
            "disorganized    4.1875\n",
            "outgoing        4.5625\n",
            "approving       5.6875\n",
            "shy             5.8750\n",
            "disciplined     6.8750\n",
            "harsh           3.6250\n",
            "persevering     6.5625\n",
            "friendly        6.9375\n",
            "worrying        5.5625\n",
            "responsive      7.1250\n",
            "contrary        3.6875\n",
            "sociable        6.1250\n",
            "lazy            4.4375\n",
            "cooperative     6.6250\n",
            "quiet           6.3125\n",
            "organized       6.1250\n",
            "critical        5.4375\n",
            "lax             4.2500\n",
            "laidback        5.4375\n",
            "withdrawn       4.8750\n",
            "givingup        3.2500\n",
            "easygoing       6.1875\n",
            "dtype: float64\n"
          ],
          "name": "stdout"
        },
        {
          "output_type": "stream",
          "text": [
            "/usr/local/lib/python3.6/dist-packages/ipykernel_launcher.py:5: DeprecationWarning: \n",
            ".ix is deprecated. Please use\n",
            ".loc for label based indexing or\n",
            ".iloc for positional indexing\n",
            "\n",
            "See the documentation here:\n",
            "http://pandas.pydata.org/pandas-docs/stable/indexing.html#ix-indexer-is-deprecated\n",
            "  \"\"\"\n"
          ],
          "name": "stderr"
        }
      ]
    },
    {
      "metadata": {
        "id": "xonz-0DPouW7",
        "colab_type": "code",
        "colab": {}
      },
      "cell_type": "code",
      "source": [
        "centers = kmeans.cluster_centers_\n",
        "centers=centers.T\n",
        "# turn centers into a df so we can plot the results \n",
        "d1 = pd.DataFrame({'zero': centers[:,0]})\n",
        "d2 = pd.DataFrame({'one': centers[:,1]})\n",
        "d = d1.join(d2) #column zero and one will be the two groups"
      ],
      "execution_count": 0,
      "outputs": []
    },
    {
      "metadata": {
        "id": "f0fIOrnTouW9",
        "colab_type": "text"
      },
      "cell_type": "markdown",
      "source": [
        "**Define the function qhist to show plots of the student data. First for the zero group, then for the one group.**"
      ]
    },
    {
      "metadata": {
        "id": "aoh1YXbHouW_",
        "colab_type": "code",
        "colab": {}
      },
      "cell_type": "code",
      "source": [
        "def qhist(dataframe,var1 ):     \n",
        "    dataframe[var1].hist(facecolor='b',bins=range(2,8,1))     \n",
        "    plt.title('Histogram of '+var1)     \n",
        "    plt.xlabel(var1)     \n",
        "    plt.ylabel('Frequency')"
      ],
      "execution_count": 0,
      "outputs": []
    },
    {
      "metadata": {
        "id": "-QGVQat1ouXC",
        "colab_type": "code",
        "colab": {
          "base_uri": "https://localhost:8080/",
          "height": 294
        },
        "outputId": "3fc1a2e9-f297-4f22-a852-0e65d4cdb01f"
      },
      "cell_type": "code",
      "source": [
        "qhist(d,'zero')"
      ],
      "execution_count": 22,
      "outputs": [
        {
          "output_type": "display_data",
          "data": {
            "image/png": "[encoded data removed]",
            "text/plain": [
              "<Figure size 432x288 with 1 Axes>"
            ]
          },
          "metadata": {
            "tags": []
          }
        }
      ]
    },
    {
      "metadata": {
        "id": "8rDM5666ouXI",
        "colab_type": "code",
        "colab": {
          "base_uri": "https://localhost:8080/",
          "height": 294
        },
        "outputId": "bd30454a-e9aa-46c1-e541-0419d3226f3f"
      },
      "cell_type": "code",
      "source": [
        "qhist(d,'one')"
      ],
      "execution_count": 23,
      "outputs": [
        {
          "output_type": "display_data",
          "data": {
            "image/png": "[encoded data removed]",
            "text/plain": [
              "<Figure size 432x288 with 1 Axes>"
            ]
          },
          "metadata": {
            "tags": []
          }
        }
      ]
    },
    {
      "metadata": {
        "id": "vOq0QGWMouXL",
        "colab_type": "text"
      },
      "cell_type": "markdown",
      "source": [
        "Very nice separation. Sociologists study this type of data in depth. There may be a grouping of questions based on correlation, or based on some theory. You can try other ways of looking at the data (perhaps using PCA to combine some of the personality questions) then use the k-means code and rerun."
      ]
    },
    {
      "metadata": {
        "id": "DuU_yHk6ouXM",
        "colab_type": "text"
      },
      "cell_type": "markdown",
      "source": [
        "One more example for k-means not related to this example but it is of interest if you have data that appears as blobs. This example is computer generated. The code demonstrates how to plot the blobs and the blob centers. It is taken from p463-464 in the Python Data Science Handbook."
      ]
    },
    {
      "metadata": {
        "id": "pmxqyl_0ouXN",
        "colab_type": "code",
        "colab": {
          "base_uri": "https://localhost:8080/",
          "height": 265
        },
        "outputId": "f405fba5-629e-4161-aab1-81379036a308"
      },
      "cell_type": "code",
      "source": [
        "from sklearn.datasets.samples_generator import make_blobs\n",
        "X,y_true = make_blobs(n_samples=300,centers=4,cluster_std=.60,random_state=0)\n",
        "plt.scatter(X[:, 0],X[:, 1], s=50);  \n",
        " \n",
        "from sklearn.cluster import KMeans\n",
        "kmeans = KMeans(n_clusters=4)\n",
        "kmeans.fit(X) \n",
        "y_kmeans = kmeans.predict(X)"
      ],
      "execution_count": 24,
      "outputs": [
        {
          "output_type": "display_data",
          "data": {
            "image/png": "[encoded data removed]",
            "text/plain": [
              "<Figure size 432x288 with 1 Axes>"
            ]
          },
          "metadata": {
            "tags": []
          }
        }
      ]
    },
    {
      "metadata": {
        "id": "VIkuJHzuouXQ",
        "colab_type": "code",
        "colab": {
          "base_uri": "https://localhost:8080/",
          "height": 265
        },
        "outputId": "a999f2c3-a43a-48bf-cb4c-b1f092deca21"
      },
      "cell_type": "code",
      "source": [
        "centers = kmeans.cluster_centers_\n",
        "plt.scatter(X[:,0],X[:,1], c = y_kmeans, s=50, cmap = 'viridis') \n",
        "plt.scatter(centers[:,0],centers[:,1], c='black',s=200,alpha=0.5);"
      ],
      "execution_count": 25,
      "outputs": [
        {
          "output_type": "display_data",
          "data": {
            "image/png": "[encoded data removed]",
            "text/plain": [
              "<Figure size 432x288 with 1 Axes>"
            ]
          },
          "metadata": {
            "tags": []
          }
        }
      ]
    },
    {
      "metadata": {
        "id": "glQHhfAvpTYO",
        "colab_type": "text"
      },
      "cell_type": "markdown",
      "source": [
        "#### Conclusion"
      ]
    },
    {
      "metadata": {
        "id": "tBT_80etpTcq",
        "colab_type": "text"
      },
      "cell_type": "markdown",
      "source": [
        "K-means clustering is a tool for grouping individuals based on commonality. If we were manufacturing clothing, this may lead us to target manufacturing by various T-shirt sizes. In visualizing our cluster analysis, it was easier to identify the number of variables. By using K-means and analyzing the silhouette coefficient, elbow method, and dendrogram, we identified two sub- groups in the data. The interesting question for the Stanford personality data is; what does this clustering represent?"
      ]
    },
    {
      "metadata": {
        "id": "XFGoQ8Hppb5n",
        "colab_type": "text"
      },
      "cell_type": "markdown",
      "source": [
        "Due to the fact, this is a personality assessment, this clustering is most likely representative of differences in personality types. These results may be indicative of response differences between introverts and extroverts. The personality assessment data may be sourced from a Myers Briggs or Enneagram test which separates personality types into distinct sub-groups. This study could be viewed as potential differences in physical characteristics (gender) or assessment of intellectual functioning (IQ). However, this is less likely due to the nature of the personality assessment data. In summary, K-means helped us separate these students into two distinct personality groups."
      ]
    }
  ]
}