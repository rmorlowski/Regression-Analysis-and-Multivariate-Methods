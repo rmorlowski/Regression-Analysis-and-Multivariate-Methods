{
  "nbformat": 4,
  "nbformat_minor": 0,
  "metadata": {
    "colab": {
      "name": "PCA_Factor_Analysis.ipynb",
      "version": "0.3.2",
      "provenance": [],
      "collapsed_sections": [],
      "include_colab_link": true
    },
    "kernelspec": {
      "display_name": "Python 3",
      "language": "python",
      "name": "python3"
    }
  },
  "cells": [
    {
      "cell_type": "markdown",
      "metadata": {
        "id": "view-in-github",
        "colab_type": "text"
      },
      "source": [
        "<a href=\"https://colab.research.google.com/github/rmorlowski/Regression-Analysis-and-Multivariate-Methods/blob/master/PCA_Factor_Analysis.ipynb\" target=\"_parent\"><img src=\"https://colab.research.google.com/assets/colab-badge.svg\" alt=\"Open In Colab\"/></a>"
      ]
    },
    {
      "metadata": {
        "id": "rIEuCZRg_gTQ",
        "colab_type": "text"
      },
      "cell_type": "markdown",
      "source": [
        "## PCA & Factor Analysis"
      ]
    },
    {
      "metadata": {
        "id": "NYjRIvYn_jQD",
        "colab_type": "text"
      },
      "cell_type": "markdown",
      "source": [
        "The deliverable is to analyze survey data from restaurant customer responses to find the most important variables to explain overall restaurant ratings. The goal is to find some meaningful information from the data to provide a recommendation to the restaurant owner. This will be accomplished by comparing the full multiple regression model against the principle components and factor analysis methods. From these techniques, the best model will be selected by comparing VIF values, adjusted R-squared, and RMSE scores."
      ]
    },
    {
      "metadata": {
        "id": "FDNPP_Qf_Q3-",
        "colab_type": "code",
        "colab": {}
      },
      "cell_type": "code",
      "source": [
        "# import packages for this example\n",
        "import pandas as pd      \n",
        "import numpy as np  # arrays and math functions\n",
        "import matplotlib.pyplot as plt  # static plotting\n",
        "from sklearn.decomposition import PCA, FactorAnalysis\n",
        "import statsmodels.formula.api as smf  # R-like model specification\n",
        "import seaborn as sns\n",
        "from sklearn.metrics import mean_squared_error"
      ],
      "execution_count": 0,
      "outputs": []
    },
    {
      "metadata": {
        "id": "XLx0aJGS_Q4B",
        "colab_type": "code",
        "colab": {}
      },
      "cell_type": "code",
      "source": [
        "#Set some display options   \n",
        "pd.set_option('display.notebook_repr_html', False) \n",
        "pd.set_option('display.max_columns', 40) \n",
        "pd.set_option('display.max_rows', 10) \n",
        "pd.set_option('display.width', 120)"
      ],
      "execution_count": 0,
      "outputs": []
    },
    {
      "metadata": {
        "id": "AI3aQ6NJ_Q4E",
        "colab_type": "code",
        "colab": {}
      },
      "cell_type": "code",
      "source": [
        "#Read in the restaurant dataset\n",
        "food_df = pd.read_csv('/Users/rmorlows/Desktop/MSDS410/Assignment 03/FACTOR1.csv')\n",
        "#A good step to take is to convert all variable names to lower case\n",
        "food_df.columns = [s.lower() for s in food_df.columns]\n",
        "#print(food_df)"
      ],
      "execution_count": 0,
      "outputs": []
    },
    {
      "metadata": {
        "id": "56L9lNuZ_Q4G",
        "colab_type": "code",
        "colab": {}
      },
      "cell_type": "code",
      "source": [
        "#This assignment is a tutorial so have a bit of fun with it\n",
        "#If you would like to explore some additional options give it a try\n",
        "#Goal is to provide some meaningful info to the restaurant owner\n",
        "#Some notes below\n",
        "#Both PCA and FA provide useful summary info for multivariate data, but\n",
        "#all of the original variables are needed for their calculation, so \n",
        "#the big question is can we use them to find a subset of variables to \n",
        "#predict overall score?\n",
        "#Also,trying to give meaningful labels to components is really hard.\n",
        "#When the variables are on different scales you need to work with the \n",
        "#correlation matrix.  For this assignment they are on same scale so\n",
        "#we will work with the raw data.\n",
        "#PCA only helps if the original variables are correlated, if they \n",
        "#are independent PCA will not help.\n",
        "#Approach takes two steps\n",
        "#First step find the dimensionality of the data, that is the \n",
        "#number of original variables to be retained\n",
        "#Second step find which ones, more on this below"
      ],
      "execution_count": 0,
      "outputs": []
    },
    {
      "metadata": {
        "id": "Bdg5ZDQl_Q4I",
        "colab_type": "code",
        "colab": {},
        "outputId": "9144bc91-b106-4427-9356-36bb6f0a8698"
      },
      "cell_type": "code",
      "source": [
        "print('')\n",
        "print('----- Summary of Input Data -----')\n",
        "print('')"
      ],
      "execution_count": 0,
      "outputs": [
        {
          "output_type": "stream",
          "text": [
            "\n",
            "----- Summary of Input Data -----\n",
            "\n"
          ],
          "name": "stdout"
        }
      ]
    },
    {
      "metadata": {
        "id": "ptK8gLbC_Q4O",
        "colab_type": "code",
        "colab": {},
        "outputId": "f3aefe99-ae4b-4666-f0ad-978b80f60ac5"
      },
      "cell_type": "code",
      "source": [
        "# show the object is a DataFrame\n",
        "print('Object type: ', type(food_df))"
      ],
      "execution_count": 0,
      "outputs": [
        {
          "output_type": "stream",
          "text": [
            "Object type:  <class 'pandas.core.frame.DataFrame'>\n"
          ],
          "name": "stdout"
        }
      ]
    },
    {
      "metadata": {
        "id": "r9tS1vBq_Q4R",
        "colab_type": "code",
        "colab": {},
        "outputId": "0d9a5de1-5f4a-4299-dc01-bc300539f62e"
      },
      "cell_type": "code",
      "source": [
        "# show number of observations in the DataFrame\n",
        "print('Number of observations: ', len(food_df))"
      ],
      "execution_count": 0,
      "outputs": [
        {
          "output_type": "stream",
          "text": [
            "Number of observations:  1000\n"
          ],
          "name": "stdout"
        }
      ]
    },
    {
      "metadata": {
        "id": "po0PRpma_Q4W",
        "colab_type": "code",
        "colab": {},
        "outputId": "761da751-275a-4745-cab9-5a8d6e347311"
      },
      "cell_type": "code",
      "source": [
        "# show variable names\n",
        "print('Variable names: ', food_df.columns)"
      ],
      "execution_count": 0,
      "outputs": [
        {
          "output_type": "stream",
          "text": [
            "Variable names:  Index(['index', 'taste', 'temp', 'freshness', 'wait', 'clean', 'friend', 'location', 'parking', 'view', 'overall'], dtype='object')\n"
          ],
          "name": "stdout"
        }
      ]
    },
    {
      "metadata": {
        "id": "oLfR_Ola_Q4a",
        "colab_type": "code",
        "colab": {},
        "outputId": "44d483c7-94ba-4ff5-847a-4b66edd1df96"
      },
      "cell_type": "code",
      "source": [
        "# show descriptive statistics\n",
        "print(food_df.describe())"
      ],
      "execution_count": 0,
      "outputs": [
        {
          "output_type": "stream",
          "text": [
            "             index        taste         temp    freshness         wait        clean       friend     location  \\\n",
            "count  1000.000000  1000.000000  1000.000000  1000.000000  1000.000000  1000.000000  1000.000000  1000.000000   \n",
            "mean    500.500000     6.001000     6.682000     6.054000     4.962000     5.637000     4.976000     7.022000   \n",
            "std     288.819436     1.064017     1.384483     1.479619     1.038091     1.373724     1.446899     1.058601   \n",
            "min       1.000000     2.000000     2.000000     1.000000     1.000000     2.000000     1.000000     4.000000   \n",
            "25%     250.750000     5.000000     6.000000     5.000000     4.000000     5.000000     4.000000     6.000000   \n",
            "50%     500.500000     6.000000     7.000000     6.000000     5.000000     6.000000     5.000000     7.000000   \n",
            "75%     750.250000     7.000000     8.000000     7.000000     6.000000     7.000000     6.000000     8.000000   \n",
            "max    1000.000000     9.000000    10.000000    10.000000     9.000000    10.000000     9.000000    10.000000   \n",
            "\n",
            "           parking         view      overall  \n",
            "count  1000.000000  1000.000000  1000.000000  \n",
            "mean      7.710000     6.996000     6.147000  \n",
            "std       1.318954     1.484651     0.686923  \n",
            "min       4.000000     2.000000     4.000000  \n",
            "25%       7.000000     6.000000     6.000000  \n",
            "50%       8.000000     7.000000     6.000000  \n",
            "75%       9.000000     8.000000     7.000000  \n",
            "max      10.000000    10.000000     8.000000  \n"
          ],
          "name": "stdout"
        }
      ]
    },
    {
      "metadata": {
        "id": "cfv2PZgm_Q4d",
        "colab_type": "code",
        "colab": {},
        "outputId": "cc5872e0-5112-435b-c715-bc181f7b1696"
      },
      "cell_type": "code",
      "source": [
        "# show a portion of the beginning of the DataFrame\n",
        "print(food_df.head())"
      ],
      "execution_count": 0,
      "outputs": [
        {
          "output_type": "stream",
          "text": [
            "   index  taste  temp  freshness  wait  clean  friend  location  parking  view  overall\n",
            "0      1      6     7          8     4      5       5         8        8     7        6\n",
            "1      2      5     5          6     5      6       4         8        9     9        6\n",
            "2      3      6     7          5     7      8       8         6        8     4        6\n",
            "3      4      7     9          6     5      6       4         7        7     7        6\n",
            "4      5      7     8          6     3      3       3         6        7     6        6\n"
          ],
          "name": "stdout"
        }
      ]
    },
    {
      "metadata": {
        "id": "rhbq90A2_Q4g",
        "colab_type": "code",
        "colab": {},
        "outputId": "e47615c6-1453-4fea-9cb4-fea92f374e1e"
      },
      "cell_type": "code",
      "source": [
        "#look at correlation structure\n",
        "cdata = food_df.loc[:,['overall','taste','temp','freshness','wait','clean','friend','location','parking','view']] \n",
        "corr = cdata[cdata.columns].corr()\n",
        "print(corr)\n",
        "#Use the correlation matrix to help provide advice to the restaurant owner"
      ],
      "execution_count": 0,
      "outputs": [
        {
          "output_type": "stream",
          "text": [
            "            overall     taste      temp  freshness      wait     clean    friend  location   parking      view\n",
            "overall    1.000000  0.601032  0.547054   0.534843  0.427564  0.405603  0.350008  0.429164  0.399541  0.375520\n",
            "taste      0.601032  1.000000  0.789812   0.729890 -0.026247  0.009836 -0.038996 -0.018682  0.003060  0.003171\n",
            "temp       0.547054  0.789812  1.000000   0.589883 -0.007720  0.016614 -0.016306 -0.012297  0.005909  0.021782\n",
            "freshness  0.534843  0.729890  0.589883   1.000000 -0.009742  0.028860  0.005749 -0.030157 -0.015049  0.004655\n",
            "wait       0.427564 -0.026247 -0.007720  -0.009742  1.000000  0.779297  0.697821 -0.020189 -0.028527 -0.026728\n",
            "clean      0.405603  0.009836  0.016614   0.028860  0.779297  1.000000  0.534478 -0.002763 -0.038822 -0.020836\n",
            "friend     0.350008 -0.038996 -0.016306   0.005749  0.697821  0.534478  1.000000 -0.026450 -0.024107 -0.053633\n",
            "location   0.429164 -0.018682 -0.012297  -0.030157 -0.020189 -0.002763 -0.026450  1.000000  0.792472  0.712758\n",
            "parking    0.399541  0.003060  0.005909  -0.015049 -0.028527 -0.038822 -0.024107  0.792472  1.000000  0.569381\n",
            "view       0.375520  0.003171  0.021782   0.004655 -0.026728 -0.020836 -0.053633  0.712758  0.569381  1.000000\n"
          ],
          "name": "stdout"
        }
      ]
    },
    {
      "metadata": {
        "id": "j-zfiQ3F_Q4j",
        "colab_type": "code",
        "colab": {}
      },
      "cell_type": "code",
      "source": [
        "#Look at four different models and compare them\n",
        "#Which model do you think is best and why?\n",
        "#Model 1 full regression model\n",
        "#Model 2 select my reduced regression model taste, wait and location\n",
        "#Model 3 Full PCA model\n",
        "#Model 4 Reduced PCA model with parking, taste and clean\n",
        "#Model 5 FA model"
      ],
      "execution_count": 0,
      "outputs": []
    },
    {
      "metadata": {
        "id": "D3tBonSP_Q4l",
        "colab_type": "code",
        "colab": {}
      },
      "cell_type": "code",
      "source": [
        "#First find the PCA\n",
        "#Second find the FA\n",
        "#Run the models\n",
        "#Compare the models and show VIF for each model"
      ],
      "execution_count": 0,
      "outputs": []
    },
    {
      "metadata": {
        "id": "s3VFyv-D_Q4n",
        "colab_type": "code",
        "colab": {},
        "outputId": "de88dda4-9fe6-495b-f0b9-246198954971"
      },
      "cell_type": "code",
      "source": [
        "print('')\n",
        "print('----- Principal Component Analysis -----')\n",
        "print('')"
      ],
      "execution_count": 0,
      "outputs": [
        {
          "output_type": "stream",
          "text": [
            "\n",
            "----- Principal Component Analysis -----\n",
            "\n"
          ],
          "name": "stdout"
        }
      ]
    },
    {
      "metadata": {
        "id": "TC-5pzR1_Q4s",
        "colab_type": "code",
        "colab": {},
        "outputId": "bd11b360-8f25-4e24-c34a-fc28a176a817"
      },
      "cell_type": "code",
      "source": [
        "#PCA\n",
        "pca_data = food_df.loc[:,['taste','temp','freshness','wait','clean','friend','location','parking','view']] \n",
        "pca = PCA()\n",
        "P = pca.fit(pca_data)\n",
        "print(pca_data)\n",
        "np.set_printoptions(threshold=np.inf) \n",
        "np.around([pca.components_], decimals=3)\n",
        "#Note per Everett p209 pick the three variables with the largest\n",
        "#absolute coefficient on the component not already picked\n",
        "#So, choose parking, taste and clean for the PCA variable reduction model"
      ],
      "execution_count": 0,
      "outputs": [
        {
          "output_type": "stream",
          "text": [
            "     taste  temp  freshness  wait  clean  friend  location  parking  view\n",
            "0        6     7          8     4      5       5         8        8     7\n",
            "1        5     5          6     5      6       4         8        9     9\n",
            "2        6     7          5     7      8       8         6        8     4\n",
            "3        7     9          6     5      6       4         7        7     7\n",
            "4        7     8          6     3      3       3         6        7     6\n",
            "..     ...   ...        ...   ...    ...     ...       ...      ...   ...\n",
            "995      6     6          6     4      5       5         6        7     5\n",
            "996      7     8          8     3      4       3         9       10     9\n",
            "997      4     5          3     5      6       5         7        8     6\n",
            "998      5     7          6     3      2       4         6        7     6\n",
            "999      7     7          7     5      5       4         8       10    10\n",
            "\n",
            "[1000 rows x 9 columns]\n"
          ],
          "name": "stdout"
        },
        {
          "output_type": "execute_result",
          "data": {
            "text/plain": [
              "array([[[-0.475, -0.595, -0.645, -0.003, -0.032, -0.001,  0.038,  0.033,\n",
              "          0.023],\n",
              "        [-0.033, -0.042, -0.022,  0.284,  0.356,  0.389, -0.379, -0.456,\n",
              "         -0.535],\n",
              "        [ 0.003, -0.012, -0.013, -0.384, -0.489, -0.505, -0.296, -0.341,\n",
              "         -0.393],\n",
              "        [-0.013, -0.049,  0.092, -0.118, -0.612,  0.664,  0.056,  0.288,\n",
              "         -0.27 ],\n",
              "        [-0.117, -0.535,  0.575, -0.039, -0.108,  0.122, -0.099, -0.389,\n",
              "          0.424],\n",
              "        [-0.045, -0.421,  0.424,  0.022,  0.255, -0.275,  0.139,  0.476,\n",
              "         -0.504],\n",
              "        [-0.073,  0.053,  0.003, -0.688,  0.321,  0.2  ,  0.526, -0.285,\n",
              "         -0.135],\n",
              "        [-0.856,  0.412,  0.245, -0.032,  0.03 , -0.021, -0.154,  0.103,\n",
              "          0.019],\n",
              "        [ 0.139, -0.07 , -0.063, -0.532,  0.28 ,  0.147, -0.659,  0.35 ,\n",
              "          0.181]]])"
            ]
          },
          "metadata": {
            "tags": []
          },
          "execution_count": 16
        }
      ]
    },
    {
      "metadata": {
        "id": "Hdhca7Jy_Q4v",
        "colab_type": "code",
        "colab": {},
        "outputId": "25805355-54e7-4767-a710-40b07e1df8b6"
      },
      "cell_type": "code",
      "source": [
        "# show summary of pca solution\n",
        "pca_explained_variance = pca.explained_variance_ratio_\n",
        "print('Proportion of variance explained:', pca_explained_variance)\n",
        "# Retain at least 70% of the dataset's original information.\n",
        "# Results show that first three variables account for approximately 78.2% of the explained variance."
      ],
      "execution_count": 0,
      "outputs": [
        {
          "output_type": "stream",
          "text": [
            "Proportion of variance explained: [0.27051531 0.26603802 0.24572407 0.06231153 0.05578657 0.05420122\n",
            " 0.01592382 0.01532158 0.01417787]\n"
          ],
          "name": "stdout"
        }
      ]
    },
    {
      "metadata": {
        "id": "ZWUjiVQ2_Q41",
        "colab_type": "code",
        "colab": {},
        "outputId": "a7e1ffe6-7dcd-4be9-ce4d-ea747f9e3277"
      },
      "cell_type": "code",
      "source": [
        "#Note:  We do not want to explain 100% of the variance\n",
        "pca.explained_variance_ratio_.sum()"
      ],
      "execution_count": 0,
      "outputs": [
        {
          "output_type": "execute_result",
          "data": {
            "text/plain": [
              "1.0"
            ]
          },
          "metadata": {
            "tags": []
          },
          "execution_count": 18
        }
      ]
    },
    {
      "metadata": {
        "id": "YGAGMEIn_Q45",
        "colab_type": "code",
        "colab": {},
        "outputId": "7f2934b5-4e0d-44dc-d2f2-128e00778663"
      },
      "cell_type": "code",
      "source": [
        "# note that principal components analysis corresponds\n",
        "# to finding eigenvalues and eigenvectors of the pca_data\n",
        "pca_data_cormat = np.corrcoef(pca_data.T)\n",
        "eigenvalues, eigenvectors = np.linalg.eig(pca_data_cormat)\n",
        "np.around([eigenvalues], decimals=3)"
      ],
      "execution_count": 0,
      "outputs": [
        {
          "output_type": "execute_result",
          "data": {
            "text/plain": [
              "array([[2.282, 2.414, 2.449, 0.484, 0.429, 0.412, 0.165, 0.175, 0.189]])"
            ]
          },
          "metadata": {
            "tags": []
          },
          "execution_count": 19
        }
      ]
    },
    {
      "metadata": {
        "id": "5CwC-Hxq_Q49",
        "colab_type": "code",
        "colab": {},
        "outputId": "3702a3aa-cbe4-4b8d-ff5e-d681be708ec3"
      },
      "cell_type": "code",
      "source": [
        "print('Linear algebra demonstration: Proportion of variance explained: ',\n",
        "    eigenvalues/eigenvalues.sum())\n",
        "np.around([eigenvectors], decimals=3)"
      ],
      "execution_count": 0,
      "outputs": [
        {
          "output_type": "stream",
          "text": [
            "Linear algebra demonstration: Proportion of variance explained:  [0.25359443 0.26825439 0.27211982 0.05372803 0.04771918 0.04576782\n",
            " 0.01836695 0.01949504 0.02095434]\n"
          ],
          "name": "stdout"
        },
        {
          "output_type": "execute_result",
          "data": {
            "text/plain": [
              "array([[[-0.083,  0.6  , -0.024, -0.008, -0.081,  0.079, -0.246, -0.746,\n",
              "         -0.058],\n",
              "        [-0.092,  0.563, -0.024, -0.031, -0.208,  0.597,  0.164,  0.491,\n",
              "          0.068],\n",
              "        [-0.086,  0.545, -0.041,  0.081,  0.302, -0.7  ,  0.132,  0.299,\n",
              "         -0.01 ],\n",
              "        [-0.479, -0.099, -0.37 , -0.109, -0.049,  0.018,  0.435, -0.099,\n",
              "         -0.641],\n",
              "        [-0.452, -0.067, -0.344, -0.551, -0.229, -0.165, -0.321,  0.094,\n",
              "          0.422],\n",
              "        [-0.418, -0.093, -0.337,  0.697,  0.296,  0.169, -0.175, -0.002,\n",
              "          0.266],\n",
              "        [-0.375, -0.045,  0.478,  0.037, -0.112, -0.056,  0.594, -0.235,\n",
              "          0.451],\n",
              "        [-0.345, -0.028,  0.456,  0.29 , -0.507, -0.181, -0.401,  0.191,\n",
              "         -0.318],\n",
              "        [-0.329, -0.016,  0.438, -0.326,  0.669,  0.236, -0.243,  0.058,\n",
              "         -0.167]]])"
            ]
          },
          "metadata": {
            "tags": []
          },
          "execution_count": 20
        }
      ]
    },
    {
      "metadata": {
        "id": "wtRqBez__Q5A",
        "colab_type": "code",
        "colab": {},
        "outputId": "b13be630-dceb-474b-ce5d-2b0699a7b2b2"
      },
      "cell_type": "code",
      "source": [
        "# show the plot for the pricipal component analysis\n",
        "plt.bar(np.arange(len(pca_explained_variance)), pca_explained_variance, \n",
        "    color = 'grey', alpha = 0.5, align = 'center')\n",
        "plt.title('PCA Proportion of Total Variance')\n",
        "plt.show()"
      ],
      "execution_count": 0,
      "outputs": [
        {
          "output_type": "display_data",
          "data": {
            "image/png": "[encoded data removed]",
            "text/plain": [
              "<matplotlib.figure.Figure at 0x1a0e8a6b38>"
            ]
          },
          "metadata": {
            "tags": []
          }
        }
      ]
    },
    {
      "metadata": {
        "id": "gTQpFQN8_Q5C",
        "colab_type": "code",
        "colab": {},
        "outputId": "eb3d482a-ad2f-4f1a-e7c6-3bbccde40ce9"
      },
      "cell_type": "code",
      "source": [
        "# show a scree plot \n",
        "d = {'eigenvalues': eigenvalues }\n",
        "df1 = pd.DataFrame(data=d)\n",
        "df2 =pd.Series([1,2,3,4,5,6,7,8,9])\n",
        "#df2 = {'factors': factors}\n",
        "# merge eigenvalues with # of factors\n",
        "result = pd.concat([df1, df2], axis=1, join_axes=[df2.index])\n",
        "print (result)\n",
        "\n",
        "def scat(dataframe,var1,var2):\n",
        "    dataframe[var2].plot()     \n",
        "    plt.title('Scree Plot')\n",
        "    plt.xlabel('# of factors')\n",
        "    plt.ylabel('Eigenvalues')\n",
        "    \n",
        "scat(result,'0','eigenvalues')\n",
        "plt.show()"
      ],
      "execution_count": 0,
      "outputs": [
        {
          "output_type": "stream",
          "text": [
            "   eigenvalues  0\n",
            "0     2.282350  1\n",
            "1     2.414290  2\n",
            "2     2.449078  3\n",
            "3     0.483552  4\n",
            "4     0.429473  5\n",
            "5     0.411910  6\n",
            "6     0.165303  7\n",
            "7     0.175455  8\n",
            "8     0.188589  9\n"
          ],
          "name": "stdout"
        },
        {
          "output_type": "display_data",
          "data": {
            "image/png": "[encoded data removed]",
            "text/plain": [
              "<matplotlib.figure.Figure at 0x106c8ee80>"
            ]
          },
          "metadata": {
            "tags": []
          }
        }
      ]
    },
    {
      "metadata": {
        "id": "yn1Rdkiq_Q5F",
        "colab_type": "code",
        "colab": {}
      },
      "cell_type": "code",
      "source": [
        "# provide partial listing of variable loadings on principal components\n",
        "# transpose for variables by components listing\n",
        "pca_loadings = pca.components_.T"
      ],
      "execution_count": 0,
      "outputs": []
    },
    {
      "metadata": {
        "id": "GVfmp-r3_Q5H",
        "colab_type": "code",
        "colab": {}
      },
      "cell_type": "code",
      "source": [
        "#variable_names\n",
        "variable_names = list(food_df.columns.values[1:10])"
      ],
      "execution_count": 0,
      "outputs": []
    },
    {
      "metadata": {
        "id": "HFAoUuZ8_Q5M",
        "colab_type": "code",
        "colab": {}
      },
      "cell_type": "code",
      "source": [
        "comps = pd.DataFrame(pca.components_, columns = variable_names)"
      ],
      "execution_count": 0,
      "outputs": []
    },
    {
      "metadata": {
        "id": "j8vY9Z1X_Q5O",
        "colab_type": "code",
        "colab": {},
        "outputId": "991e6455-a047-400b-90b0-61bb7d34373f"
      },
      "cell_type": "code",
      "source": [
        "sns.heatmap(comps)"
      ],
      "execution_count": 0,
      "outputs": [
        {
          "output_type": "execute_result",
          "data": {
            "text/plain": [
              "<matplotlib.axes._subplots.AxesSubplot at 0x1a1796fd30>"
            ]
          },
          "metadata": {
            "tags": []
          },
          "execution_count": 26
        },
        {
          "output_type": "display_data",
          "data": {
            "image/png": "[encoded data removed]",
            "text/plain": [
              "<matplotlib.figure.Figure at 0x108bf55c0>"
            ]
          },
          "metadata": {
            "tags": []
          }
        }
      ]
    },
    {
      "metadata": {
        "id": "LsGWnTF0_Q5Q",
        "colab_type": "code",
        "colab": {},
        "outputId": "59be2148-b364-4203-8416-fa7414996869"
      },
      "cell_type": "code",
      "source": [
        "# provide full formatted listing of loadings for first three components\n",
        "# print loadings while rounding to three digits \n",
        "# and suppress printing of very small numbers\n",
        "# but do not suppress printing of zeroes\n",
        "np.set_printoptions(precision = 3, suppress = True,\n",
        "    formatter={'float': '{: 0.3f}'.format})\n",
        "print(pca_loadings[:,0:3])  "
      ],
      "execution_count": 0,
      "outputs": [
        {
          "output_type": "stream",
          "text": [
            "[[-0.475 -0.033  0.003]\n",
            " [-0.595 -0.042 -0.012]\n",
            " [-0.645 -0.022 -0.013]\n",
            " [-0.003  0.284 -0.384]\n",
            " [-0.032  0.356 -0.489]\n",
            " [-0.001  0.389 -0.505]\n",
            " [ 0.038 -0.379 -0.296]\n",
            " [ 0.033 -0.456 -0.341]\n",
            " [ 0.023 -0.535 -0.393]]\n"
          ],
          "name": "stdout"
        }
      ]
    },
    {
      "metadata": {
        "id": "Wx4cvOVN_Q5T",
        "colab_type": "code",
        "colab": {}
      },
      "cell_type": "code",
      "source": [
        "# compute full set of principal components (scores)\n",
        "C = pca.transform(pca_data)\n",
        "#print(C)\n",
        "# add first three principal component scores to the original data frame\n",
        "pca_data['pca1'] = C[:,0]\n",
        "pca_data['pca2'] = C[:,1]\n",
        "pca_data['pca3'] = C[:,2]\n",
        "#print(pca_data) \n",
        "# add first three principal component scores to the food_df\n",
        "food_df['pca1'] = C[:,0]\n",
        "food_df['pca2'] = C[:,1]\n",
        "food_df['pca3'] = C[:,2]\n",
        "#print(food_df)"
      ],
      "execution_count": 0,
      "outputs": []
    },
    {
      "metadata": {
        "id": "hP0ZlBhv_Q5W",
        "colab_type": "code",
        "colab": {},
        "outputId": "f1800b17-e913-4b64-93cb-8ddf9ae711b9"
      },
      "cell_type": "code",
      "source": [
        "# explore relationships between pairs of principal components\n",
        "# working with the first three components only\n",
        "pca_scores = pca_data.loc[:,['pca1','pca2', 'pca3']]\n",
        "pca_model_cormat = \\\n",
        "    np.corrcoef(pca_scores.as_matrix().transpose()).round(decimals=3)\n",
        "print(pca_model_cormat)\n",
        "#Looks like that worked"
      ],
      "execution_count": 0,
      "outputs": [
        {
          "output_type": "stream",
          "text": [
            "[[ 1.000 -0.000  0.000]\n",
            " [-0.000  1.000 -0.000]\n",
            " [ 0.000 -0.000  1.000]]\n"
          ],
          "name": "stdout"
        }
      ]
    },
    {
      "metadata": {
        "id": "JP1WhgRu_Q5Z",
        "colab_type": "code",
        "colab": {},
        "outputId": "b7c1a0b9-1212-473d-c5be-3e24251d7262"
      },
      "cell_type": "code",
      "source": [
        "# Creating a Bi-plot\n",
        "## perform PCA\n",
        "\n",
        "n = len(pca_data.columns)\n",
        "\n",
        "pca = PCA(n_components = n)\n",
        "# defaults number of PCs to number of columns in imported data (ie number of\n",
        "# features), but can be set to any integer less than or equal to that value\n",
        "\n",
        "pca.fit(pca_data)\n",
        "\n",
        "## project data into PC space\n",
        "\n",
        "# 0,1 denote PC1 and PC2; change values for other PCs\n",
        "xvector = pca.components_[0]\n",
        "yvector = pca.components_[1]\n",
        "\n",
        "xs = pca.transform(pca_data)[:,0]\n",
        "ys = pca.transform(pca_data)[:,1]\n",
        "\n",
        "## visualize projections\n",
        "\n",
        "## Note: scale values for arrows and text are a bit inelegant as of now,\n",
        "##       so feel free to play around with them\n",
        "\n",
        "for i in range(len(xs)):\n",
        "# circles project documents (ie rows from csv) as points onto PC axes\n",
        "    plt.plot(xs[i], ys[i], 'bo')\n",
        "    #plt.text(xs[i]*1.2, ys[i]*1.2, list(pca_data.index)[i], color='b')\n",
        "\n",
        "for i in range(len(xvector)):\n",
        "# arrows project features (ie columns from csv) as vectors onto PC axes\n",
        "    plt.arrow(0, 0, xvector[i]*max(xs), yvector[i]*max(ys),\n",
        "              color='r', width=0.0005, head_width=0.0025)\n",
        "    plt.text(xvector[i]*max(xs)*1.2, yvector[i]*max(ys)*1.2,\n",
        "             list(pca_data.columns.values)[i], color='r')\n",
        "\n",
        "plt.show()"
      ],
      "execution_count": 0,
      "outputs": [
        {
          "output_type": "display_data",
          "data": {
            "image/png": "[encoded data removed]",
            "text/plain": [
              "<matplotlib.figure.Figure at 0x1a183accf8>"
            ]
          },
          "metadata": {
            "tags": []
          }
        }
      ]
    },
    {
      "metadata": {
        "id": "hfUPcZUG_Q5b",
        "colab_type": "code",
        "colab": {},
        "outputId": "e8874874-5a89-44ae-c0fb-2b8b1aac8113"
      },
      "cell_type": "code",
      "source": [
        "#Factor Analysis\n",
        "print('')\n",
        "print('----- Factor Analysis (Unrotated) -----')\n",
        "print('')"
      ],
      "execution_count": 0,
      "outputs": [
        {
          "output_type": "stream",
          "text": [
            "\n",
            "----- Factor Analysis (Unrotated) -----\n",
            "\n"
          ],
          "name": "stdout"
        }
      ]
    },
    {
      "metadata": {
        "id": "DOirCPon_Q5f",
        "colab_type": "code",
        "colab": {},
        "outputId": "46a4dcdf-10ed-4141-ed68-ef1541f0341c"
      },
      "cell_type": "code",
      "source": [
        "pca_data"
      ],
      "execution_count": 0,
      "outputs": [
        {
          "output_type": "execute_result",
          "data": {
            "text/plain": [
              "     taste  temp  freshness  wait  clean  friend  location  parking  view      pca1      pca2      pca3\n",
              "0        6     7          8     4      5       5         8        8     7 -1.374753 -1.051124  0.248970\n",
              "1        5     5          6     5      6       4         8        9     9  1.627366 -2.166975 -1.198849\n",
              "2        6     7          5     7      8       8         6        8     4  0.307264  4.463872 -2.070600\n",
              "3        7     9          6     5      6       4         7        7     7 -1.853539 -0.039391  0.522603\n",
              "4        7     8          6     3      3       3         6        7     6 -1.216772 -1.106078  3.963076\n",
              "..     ...   ...        ...   ...    ...     ...       ...      ...   ...       ...       ...       ...\n",
              "995      6     6          6     4      5       5         6        7     5  0.355509  1.319526  2.007853\n",
              "996      7     8          8     3      4       3         9       10     9 -2.255716 -4.905627  0.356464\n",
              "997      4     5          3     5      6       5         7        8     6  3.895540  0.761463  0.150282\n",
              "998      5     7          6     3      2       4         6        7     6  0.357902 -0.964423  3.953400\n",
              "999      7     7          7     5      5       4         8       10    10 -1.068982 -3.685445 -1.476555\n",
              "\n",
              "[1000 rows x 12 columns]"
            ]
          },
          "metadata": {
            "tags": []
          },
          "execution_count": 32
        }
      ]
    },
    {
      "metadata": {
        "id": "a-2JXQEx_Q5i",
        "colab_type": "code",
        "colab": {}
      },
      "cell_type": "code",
      "source": [
        "from factor_analyzer import FactorAnalyzer"
      ],
      "execution_count": 0,
      "outputs": []
    },
    {
      "metadata": {
        "id": "_TYjzogv_Q5k",
        "colab_type": "code",
        "colab": {}
      },
      "cell_type": "code",
      "source": [
        "fa = FactorAnalyzer()"
      ],
      "execution_count": 0,
      "outputs": []
    },
    {
      "metadata": {
        "id": "Ojgn_7q9_Q5m",
        "colab_type": "code",
        "colab": {}
      },
      "cell_type": "code",
      "source": [
        "fa.analyze(pca_data, 3, rotation=None)"
      ],
      "execution_count": 0,
      "outputs": []
    },
    {
      "metadata": {
        "id": "03EMZfph_Q5o",
        "colab_type": "code",
        "colab": {},
        "outputId": "38042d1c-e6d0-4390-d472-80cf635849ef"
      },
      "cell_type": "code",
      "source": [
        "fa.loadings"
      ],
      "execution_count": 0,
      "outputs": [
        {
          "output_type": "execute_result",
          "data": {
            "text/plain": [
              "            Factor1   Factor2   Factor3\n",
              "taste      0.090249  0.900664  0.119339\n",
              "temp       0.081708  0.814328  0.128158\n",
              "freshness  0.106594  0.788133  0.122262\n",
              "wait       0.532939 -0.182022  0.714958\n",
              "clean      0.477229 -0.125435  0.646110\n",
              "...             ...       ...       ...\n",
              "parking   -0.674456  0.002300  0.464006\n",
              "view      -0.656827  0.019800  0.449538\n",
              "pca1      -0.171275 -1.000446 -0.138406\n",
              "pca2       1.010442 -0.173062  0.000971\n",
              "pca3       0.022520  0.136378 -1.016809\n",
              "\n",
              "[12 rows x 3 columns]"
            ]
          },
          "metadata": {
            "tags": []
          },
          "execution_count": 36
        }
      ]
    },
    {
      "metadata": {
        "id": "bhIe48RK_Q5r",
        "colab_type": "code",
        "colab": {},
        "outputId": "a2aa86f7-ab11-4a01-91b7-88c738d0edde"
      },
      "cell_type": "code",
      "source": [
        "fa.get_uniqueness()"
      ],
      "execution_count": 0,
      "outputs": [
        {
          "output_type": "execute_result",
          "data": {
            "text/plain": [
              "           Uniqueness\n",
              "taste        0.166418\n",
              "temp         0.313769\n",
              "freshness    0.352536\n",
              "wait         0.171679\n",
              "clean        0.339061\n",
              "...               ...\n",
              "parking      0.329802\n",
              "view         0.366102\n",
              "pca1        -0.049384\n",
              "pca2        -0.050945\n",
              "pca3        -0.053006\n",
              "\n",
              "[12 rows x 1 columns]"
            ]
          },
          "metadata": {
            "tags": []
          },
          "execution_count": 37
        }
      ]
    },
    {
      "metadata": {
        "id": "-jdo5gAv_Q5v",
        "colab_type": "code",
        "colab": {},
        "outputId": "83cbbd1f-7ffe-4597-f2be-7a56e1172563"
      },
      "cell_type": "code",
      "source": [
        "fa.get_factor_variance()"
      ],
      "execution_count": 0,
      "outputs": [
        {
          "output_type": "execute_result",
          "data": {
            "text/plain": [
              "                 Factor1   Factor2   Factor3\n",
              "SS Loadings     3.242291  3.220586  3.079912\n",
              "Proportion Var  0.270191  0.268382  0.256659\n",
              "Cumulative Var  0.270191  0.538573  0.795232"
            ]
          },
          "metadata": {
            "tags": []
          },
          "execution_count": 38
        }
      ]
    },
    {
      "metadata": {
        "id": "mHfPDyiZ_Q5x",
        "colab_type": "code",
        "colab": {}
      },
      "cell_type": "code",
      "source": [
        "# assume three factors will be sufficient \n",
        "# this is an unrotated orthogonal solution\n",
        "# maximum likelihood estimation is employed\n",
        "# for best results set tolerance low and max iterations high\n",
        "fa = FactorAnalysis(n_components = 3, tol=1e-8, max_iter=1000000)"
      ],
      "execution_count": 0,
      "outputs": []
    },
    {
      "metadata": {
        "id": "0hAg51KV_Q53",
        "colab_type": "code",
        "colab": {},
        "outputId": "29ab946b-d5f2-4a97-92fb-611e6ec74c98"
      },
      "cell_type": "code",
      "source": [
        "#the unrotated solution\n",
        "fa.fit(pca_data)"
      ],
      "execution_count": 0,
      "outputs": [
        {
          "output_type": "execute_result",
          "data": {
            "text/plain": [
              "FactorAnalysis(copy=True, iterated_power=3, max_iter=1000000, n_components=3,\n",
              "        noise_variance_init=None, random_state=0, svd_method='randomized',\n",
              "        tol=1e-08)"
            ]
          },
          "metadata": {
            "tags": []
          },
          "execution_count": 40
        }
      ]
    },
    {
      "metadata": {
        "id": "yyhtZlDP_Q58",
        "colab_type": "code",
        "colab": {}
      },
      "cell_type": "code",
      "source": [
        "# retrieve the factor loadings as an array of arrays\n",
        "# transpose for variables by factors listing of loadings\n",
        "fa_loadings = fa.components_.T\n",
        "#print(fa_loadings)"
      ],
      "execution_count": 0,
      "outputs": []
    },
    {
      "metadata": {
        "id": "6Vhx3tBE_Q5-",
        "colab_type": "code",
        "colab": {}
      },
      "cell_type": "code",
      "source": [
        "# show the loadings of the variables on the factors\n",
        "# for the unrotated maximum likelihood solution\n",
        "# print loadings while rounding to three digits \n",
        "# and suppress printing of very small numbers\n",
        "# but do not suppress printing of zeroes\n",
        "np.set_printoptions(precision = 3, suppress = True,\n",
        "    formatter={'float': '{: 0.3f}'.format})\n",
        "#print(fa_loadings)  "
      ],
      "execution_count": 0,
      "outputs": []
    },
    {
      "metadata": {
        "id": "hr8-cCsI_Q6D",
        "colab_type": "code",
        "colab": {}
      },
      "cell_type": "code",
      "source": [
        "# compute full set of factor scores\n",
        "F = fa.transform(pca_data)\n",
        "#print(F)\n",
        "# add factor scores to the original data frame\n",
        "food_df['fa1'] = F[:,0]\n",
        "food_df['fa2'] = F[:,1]\n",
        "food_df['fa3'] = F[:,2]\n",
        "#print(food_df) "
      ],
      "execution_count": 0,
      "outputs": []
    },
    {
      "metadata": {
        "id": "ECkoCsq6_Q6F",
        "colab_type": "code",
        "colab": {}
      },
      "cell_type": "code",
      "source": [
        "#Look at five different models and compare them\n",
        "#Which model do you think is best and why?\n",
        "#Model 1 full regression model\n",
        "#Model 2 select my reduced regression model taste, wait and location\n",
        "#Model 3 Full PCA model\n",
        "#Model 4 Reduced PCA model with parking, taste and clean\n",
        "#Model 5 FA model"
      ],
      "execution_count": 0,
      "outputs": []
    },
    {
      "metadata": {
        "id": "jcbr_ygj_Q6H",
        "colab_type": "code",
        "colab": {},
        "outputId": "0e1a7f94-2619-46a8-aecc-0eea8f66f6a3"
      },
      "cell_type": "code",
      "source": [
        "#Run the Models\n",
        "#Model 1 full model\n",
        "regress_model_fit = smf.ols(formula = 'overall~taste+temp+freshness+wait+clean+friend+location+parking+view', data = food_df).fit()\n",
        "# summary of model fit  \n",
        "print(regress_model_fit.summary())"
      ],
      "execution_count": 0,
      "outputs": [
        {
          "output_type": "stream",
          "text": [
            "                            OLS Regression Results                            \n",
            "==============================================================================\n",
            "Dep. Variable:                overall   R-squared:                       0.822\n",
            "Model:                            OLS   Adj. R-squared:                  0.820\n",
            "Method:                 Least Squares   F-statistic:                     507.9\n",
            "Date:                Tue, 21 Aug 2018   Prob (F-statistic):               0.00\n",
            "Time:                        14:24:22   Log-Likelihood:                -179.96\n",
            "No. Observations:                1000   AIC:                             379.9\n",
            "Df Residuals:                     990   BIC:                             429.0\n",
            "Df Model:                           9                                         \n",
            "Covariance Type:            nonrobust                                         \n",
            "==============================================================================\n",
            "                 coef    std err          t      P>|t|      [0.025      0.975]\n",
            "------------------------------------------------------------------------------\n",
            "Intercept      0.0745      0.094      0.789      0.430      -0.111       0.260\n",
            "taste          0.2249      0.017     13.447      0.000       0.192       0.258\n",
            "temp           0.0788      0.011      7.248      0.000       0.057       0.100\n",
            "freshness      0.0899      0.009      9.841      0.000       0.072       0.108\n",
            "wait           0.1706      0.017     10.178      0.000       0.138       0.203\n",
            "clean          0.0660      0.011      6.140      0.000       0.045       0.087\n",
            "friend         0.0625      0.009      7.000      0.000       0.045       0.080\n",
            "location       0.1552      0.017      9.246      0.000       0.122       0.188\n",
            "parking        0.0797      0.011      6.935      0.000       0.057       0.102\n",
            "view           0.0597      0.009      6.731      0.000       0.042       0.077\n",
            "==============================================================================\n",
            "Omnibus:                      597.724   Durbin-Watson:                   2.045\n",
            "Prob(Omnibus):                  0.000   Jarque-Bera (JB):               57.310\n",
            "Skew:                          -0.001   Prob(JB):                     3.59e-13\n",
            "Kurtosis:                       1.827   Cond. No.                         196.\n",
            "==============================================================================\n",
            "\n",
            "Warnings:\n",
            "[1] Standard Errors assume that the covariance matrix of the errors is correctly specified.\n"
          ],
          "name": "stdout"
        }
      ]
    },
    {
      "metadata": {
        "id": "5zFoPkJQ_Q6L",
        "colab_type": "code",
        "colab": {}
      },
      "cell_type": "code",
      "source": [
        "y = food_df['overall']"
      ],
      "execution_count": 0,
      "outputs": []
    },
    {
      "metadata": {
        "id": "3ZnRR1Of_Q6N",
        "colab_type": "code",
        "colab": {},
        "outputId": "7fb83530-e46b-4dd2-8ea5-eb911e7576e3"
      },
      "cell_type": "code",
      "source": [
        "# RMSE Model 1\n",
        "y_pred = regress_model_fit.fittedvalues\n",
        "print(np.sqrt(mean_squared_error(y, y_pred)))"
      ],
      "execution_count": 0,
      "outputs": [
        {
          "output_type": "stream",
          "text": [
            "0.2896803884073767\n"
          ],
          "name": "stdout"
        }
      ]
    },
    {
      "metadata": {
        "id": "zxC50GT2_Q6R",
        "colab_type": "code",
        "colab": {},
        "outputId": "8819cd39-aee3-40ed-d9d9-58b7f3d59dab"
      },
      "cell_type": "code",
      "source": [
        "#Model 2\n",
        "#Note, Model 2 is a choice from looking at the correlation, you may choose a\n",
        "#different selection for this if you like, just explain why \n",
        "regress_model_fit = smf.ols(formula = 'overall~taste+wait+location', data = food_df).fit()\n",
        "# summary of model fit  \n",
        "print(regress_model_fit.summary())"
      ],
      "execution_count": 0,
      "outputs": [
        {
          "output_type": "stream",
          "text": [
            "                            OLS Regression Results                            \n",
            "==============================================================================\n",
            "Dep. Variable:                overall   R-squared:                       0.760\n",
            "Model:                            OLS   Adj. R-squared:                  0.759\n",
            "Method:                 Least Squares   F-statistic:                     1052.\n",
            "Date:                Tue, 21 Aug 2018   Prob (F-statistic):          3.27e-308\n",
            "Time:                        14:24:22   Log-Likelihood:                -328.95\n",
            "No. Observations:                1000   AIC:                             665.9\n",
            "Df Residuals:                     996   BIC:                             685.5\n",
            "Df Model:                           3                                         \n",
            "Covariance Type:            nonrobust                                         \n",
            "==============================================================================\n",
            "                 coef    std err          t      P>|t|      [0.025      0.975]\n",
            "------------------------------------------------------------------------------\n",
            "Intercept      0.2025      0.109      1.864      0.063      -0.011       0.416\n",
            "taste          0.4011      0.010     40.021      0.000       0.381       0.421\n",
            "wait           0.2997      0.010     29.175      0.000       0.280       0.320\n",
            "location       0.2919      0.010     28.984      0.000       0.272       0.312\n",
            "==============================================================================\n",
            "Omnibus:                       59.245   Durbin-Watson:                   2.036\n",
            "Prob(Omnibus):                  0.000   Jarque-Bera (JB):               22.572\n",
            "Skew:                           0.037   Prob(JB):                     1.25e-05\n",
            "Kurtosis:                       2.268   Cond. No.                         108.\n",
            "==============================================================================\n",
            "\n",
            "Warnings:\n",
            "[1] Standard Errors assume that the covariance matrix of the errors is correctly specified.\n"
          ],
          "name": "stdout"
        }
      ]
    },
    {
      "metadata": {
        "id": "emaY7-iY_Q6U",
        "colab_type": "code",
        "colab": {},
        "outputId": "708f8ead-ae62-4920-e552-36d5ff43e435"
      },
      "cell_type": "code",
      "source": [
        "# RMSE Model 2\n",
        "y_pred = regress_model_fit.fittedvalues\n",
        "print(np.sqrt(mean_squared_error(y, y_pred)))"
      ],
      "execution_count": 0,
      "outputs": [
        {
          "output_type": "stream",
          "text": [
            "0.3362196675363941\n"
          ],
          "name": "stdout"
        }
      ]
    },
    {
      "metadata": {
        "id": "jav43iiT_Q6W",
        "colab_type": "code",
        "colab": {},
        "outputId": "58e0087a-7e6b-405e-8469-0c8e6a0dc9be"
      },
      "cell_type": "code",
      "source": [
        "#Model 3\n",
        "#regress the response overall on principal components\n",
        "pca_model_fit = smf.ols(formula = 'overall~pca1+pca2+pca3', data = food_df).fit()\n",
        "# summary of model fit  \n",
        "print(pca_model_fit.summary())"
      ],
      "execution_count": 0,
      "outputs": [
        {
          "output_type": "stream",
          "text": [
            "                            OLS Regression Results                            \n",
            "==============================================================================\n",
            "Dep. Variable:                overall   R-squared:                       0.798\n",
            "Model:                            OLS   Adj. R-squared:                  0.798\n",
            "Method:                 Least Squares   F-statistic:                     1315.\n",
            "Date:                Tue, 21 Aug 2018   Prob (F-statistic):               0.00\n",
            "Time:                        14:24:22   Log-Likelihood:                -241.98\n",
            "No. Observations:                1000   AIC:                             492.0\n",
            "Df Residuals:                     996   BIC:                             511.6\n",
            "Df Model:                           3                                         \n",
            "Covariance Type:            nonrobust                                         \n",
            "==============================================================================\n",
            "                 coef    std err          t      P>|t|      [0.025      0.975]\n",
            "------------------------------------------------------------------------------\n",
            "Intercept      6.1470      0.010    629.417      0.000       6.128       6.166\n",
            "pca1          -0.2045      0.005    -42.659      0.000      -0.214      -0.195\n",
            "pca2          -0.0437      0.005     -9.042      0.000      -0.053      -0.034\n",
            "pca3          -0.2274      0.005    -45.220      0.000      -0.237      -0.218\n",
            "==============================================================================\n",
            "Omnibus:                       93.319   Durbin-Watson:                   2.058\n",
            "Prob(Omnibus):                  0.000   Jarque-Bera (JB):               28.713\n",
            "Skew:                          -0.012   Prob(JB):                     5.82e-07\n",
            "Kurtosis:                       2.170   Cond. No.                         2.04\n",
            "==============================================================================\n",
            "\n",
            "Warnings:\n",
            "[1] Standard Errors assume that the covariance matrix of the errors is correctly specified.\n"
          ],
          "name": "stdout"
        }
      ]
    },
    {
      "metadata": {
        "id": "sxaAJsEU_Q6Y",
        "colab_type": "code",
        "colab": {},
        "outputId": "d9a44e80-bc67-4e00-b1a0-e8d69d481920"
      },
      "cell_type": "code",
      "source": [
        "# RMSE Model 3\n",
        "y_pred = pca_model_fit.fittedvalues\n",
        "print(np.sqrt(mean_squared_error(y, y_pred)))"
      ],
      "execution_count": 0,
      "outputs": [
        {
          "output_type": "stream",
          "text": [
            "0.30821548293411843\n"
          ],
          "name": "stdout"
        }
      ]
    },
    {
      "metadata": {
        "id": "jSe8YyEP_Q6b",
        "colab_type": "code",
        "colab": {},
        "outputId": "c6606c5c-f519-425c-efa1-05123d4de58b"
      },
      "cell_type": "code",
      "source": [
        "#Model 4\n",
        "#regress the response overall on principal components\n",
        "pca_model_fit = smf.ols(formula = 'overall~parking+taste+clean', data = food_df).fit()\n",
        "# summary of model fit  \n",
        "print(pca_model_fit.summary())"
      ],
      "execution_count": 0,
      "outputs": [
        {
          "output_type": "stream",
          "text": [
            "                            OLS Regression Results                            \n",
            "==============================================================================\n",
            "Dep. Variable:                overall   R-squared:                       0.692\n",
            "Model:                            OLS   Adj. R-squared:                  0.691\n",
            "Method:                 Least Squares   F-statistic:                     746.0\n",
            "Date:                Tue, 21 Aug 2018   Prob (F-statistic):          3.99e-254\n",
            "Time:                        14:24:22   Log-Likelihood:                -454.03\n",
            "No. Observations:                1000   AIC:                             916.1\n",
            "Df Residuals:                     996   BIC:                             935.7\n",
            "Df Model:                           3                                         \n",
            "Covariance Type:            nonrobust                                         \n",
            "==============================================================================\n",
            "                 coef    std err          t      P>|t|      [0.025      0.975]\n",
            "------------------------------------------------------------------------------\n",
            "Intercept      1.0053      0.111      9.023      0.000       0.787       1.224\n",
            "parking        0.2155      0.009     23.518      0.000       0.198       0.234\n",
            "taste          0.3846      0.011     33.873      0.000       0.362       0.407\n",
            "clean          0.2079      0.009     23.628      0.000       0.191       0.225\n",
            "==============================================================================\n",
            "Omnibus:                        9.785   Durbin-Watson:                   2.144\n",
            "Prob(Omnibus):                  0.008   Jarque-Bera (JB):                6.972\n",
            "Skew:                           0.071   Prob(JB):                       0.0306\n",
            "Kurtosis:                       2.616   Cond. No.                         106.\n",
            "==============================================================================\n",
            "\n",
            "Warnings:\n",
            "[1] Standard Errors assume that the covariance matrix of the errors is correctly specified.\n"
          ],
          "name": "stdout"
        }
      ]
    },
    {
      "metadata": {
        "id": "oAn-asMz_Q6d",
        "colab_type": "code",
        "colab": {},
        "outputId": "030b5ce5-1199-478b-8739-9ee0e51ece94"
      },
      "cell_type": "code",
      "source": [
        "# RMSE Model 4\n",
        "y_pred = pca_model_fit.fittedvalues\n",
        "print(np.sqrt(mean_squared_error(y, y_pred)))"
      ],
      "execution_count": 0,
      "outputs": [
        {
          "output_type": "stream",
          "text": [
            "0.3810188964409711\n"
          ],
          "name": "stdout"
        }
      ]
    },
    {
      "metadata": {
        "id": "QeO8B-6Q_Q6i",
        "colab_type": "code",
        "colab": {},
        "outputId": "1ba05e96-226d-4ddd-b86e-ca296313d768"
      },
      "cell_type": "code",
      "source": [
        "#Model 5 \n",
        "#regress the response overall on factor scores\n",
        "fa_model_fit = smf.ols(formula = 'overall~fa1+fa2+fa3', data = food_df).fit()\n",
        "# summary of model fit  \n",
        "print(fa_model_fit.summary())"
      ],
      "execution_count": 0,
      "outputs": [
        {
          "output_type": "stream",
          "text": [
            "                            OLS Regression Results                            \n",
            "==============================================================================\n",
            "Dep. Variable:                overall   R-squared:                       0.798\n",
            "Model:                            OLS   Adj. R-squared:                  0.798\n",
            "Method:                 Least Squares   F-statistic:                     1315.\n",
            "Date:                Tue, 21 Aug 2018   Prob (F-statistic):               0.00\n",
            "Time:                        14:24:22   Log-Likelihood:                -241.98\n",
            "No. Observations:                1000   AIC:                             492.0\n",
            "Df Residuals:                     996   BIC:                             511.6\n",
            "Df Model:                           3                                         \n",
            "Covariance Type:            nonrobust                                         \n",
            "==============================================================================\n",
            "                 coef    std err          t      P>|t|      [0.025      0.975]\n",
            "------------------------------------------------------------------------------\n",
            "Intercept      6.1470      0.010    629.419      0.000       6.128       6.166\n",
            "fa1           -0.4166      0.010    -42.659      0.000      -0.436      -0.397\n",
            "fa2           -0.0883      0.010     -9.042      0.000      -0.107      -0.069\n",
            "fa3           -0.4416      0.010    -45.220      0.000      -0.461      -0.422\n",
            "==============================================================================\n",
            "Omnibus:                       93.326   Durbin-Watson:                   2.058\n",
            "Prob(Omnibus):                  0.000   Jarque-Bera (JB):               28.715\n",
            "Skew:                          -0.012   Prob(JB):                     5.82e-07\n",
            "Kurtosis:                       2.170   Cond. No.                         1.00\n",
            "==============================================================================\n",
            "\n",
            "Warnings:\n",
            "[1] Standard Errors assume that the covariance matrix of the errors is correctly specified.\n"
          ],
          "name": "stdout"
        }
      ]
    },
    {
      "metadata": {
        "id": "VeurLJYK_Q6k",
        "colab_type": "code",
        "colab": {},
        "outputId": "4fbf800d-6950-4619-e1f1-aaeff76cb395"
      },
      "cell_type": "code",
      "source": [
        "# RMSE Model 5\n",
        "y_pred = fa_model_fit.fittedvalues\n",
        "print(np.sqrt(mean_squared_error(y, y_pred)))"
      ],
      "execution_count": 0,
      "outputs": [
        {
          "output_type": "stream",
          "text": [
            "0.30821437788593625\n"
          ],
          "name": "stdout"
        }
      ]
    },
    {
      "metadata": {
        "id": "PShN0ZS6_Q6n",
        "colab_type": "code",
        "colab": {}
      },
      "cell_type": "code",
      "source": [
        "#next look at VIF to see what the full, choice, PCA and FA models did\n",
        "# Break into left and right hand side; y and X then find VIF for each model\n",
        "import statsmodels.formula.api as sm\n",
        "from patsy import dmatrices\n",
        "from statsmodels.stats.outliers_influence import variance_inflation_factor\n",
        "y = food_df.loc[:,['overall']]\n",
        "X = food_df.loc[:,['taste','temp','freshness','wait','clean','friend','location','parking','view']]\n",
        "y, X = dmatrices('overall ~ taste+temp+freshness+wait+clean+friend+location+parking+view ', data=food_df, return_type=\"dataframe\")"
      ],
      "execution_count": 0,
      "outputs": []
    },
    {
      "metadata": {
        "id": "bNkk9enf_Q6r",
        "colab_type": "code",
        "colab": {},
        "outputId": "c55c8186-e12c-4d63-84f9-2b84baf3294a"
      },
      "cell_type": "code",
      "source": [
        "# For each Xi, calculate VIF\n",
        "vif = [variance_inflation_factor(X.values, i) for i in range(X.shape[1])]\n",
        "print('')\n",
        "print('----- VIF for Full Regression Model -----')\n",
        "print('')\n",
        "print(vif)"
      ],
      "execution_count": 0,
      "outputs": [
        {
          "output_type": "stream",
          "text": [
            "\n",
            "----- VIF for Full Regression Model -----\n",
            "\n",
            "[105.31057172729297, 3.7339305023025977, 2.666947996579803, 2.155696222950924, 3.5665022511678393, 2.5722838192097766, 1.9647506059999644, 3.7231101190624267, 2.7064357263205463, 2.046687628686198]\n"
          ],
          "name": "stdout"
        }
      ]
    },
    {
      "metadata": {
        "id": "xW3GY-Df_Q6u",
        "colab_type": "code",
        "colab": {},
        "outputId": "c084801f-2f48-43fa-d677-df771286d10e"
      },
      "cell_type": "code",
      "source": [
        "#VIF for choice model\n",
        "y = food_df.loc[:,['overall']]\n",
        "X = food_df.loc[:,['taste','clean','location']] \n",
        "y, X = dmatrices('overall ~ taste+clean+location ', data=food_df, return_type=\"dataframe\")\n",
        "vif = [variance_inflation_factor(X.values, i) for i in range(X.shape[1])]\n",
        "print('')\n",
        "print('----- VIF for Choice Model -----')\n",
        "print('')\n",
        "print(vif)"
      ],
      "execution_count": 0,
      "outputs": [
        {
          "output_type": "stream",
          "text": [
            "\n",
            "----- VIF for Choice Model -----\n",
            "\n",
            "[94.85693832611108, 1.0004449628183567, 1.0001034182425719, 1.0003558038219071]\n"
          ],
          "name": "stdout"
        }
      ]
    },
    {
      "metadata": {
        "id": "rMkWWsFE_Q6y",
        "colab_type": "code",
        "colab": {},
        "outputId": "854e30e9-3af2-49fb-ccf3-489794b352db"
      },
      "cell_type": "code",
      "source": [
        "#VIF for PCA\n",
        "y = food_df.loc[:,['overall']]\n",
        "X = food_df.loc[:,['pca1','pca2','pca3']] \n",
        "y, X = dmatrices('overall ~ pca1+pca2+pca3 ', data=food_df, return_type=\"dataframe\")\n",
        "vif = [variance_inflation_factor(X.values, i) for i in range(X.shape[1])]\n",
        "print('')\n",
        "print('----- VIF for PCA Model -----')\n",
        "print('')\n",
        "print(vif)"
      ],
      "execution_count": 0,
      "outputs": [
        {
          "output_type": "stream",
          "text": [
            "\n",
            "----- VIF for PCA Model -----\n",
            "\n",
            "[0.9999999999999998, 1.0, 1.0000000000000002, 1.0]\n"
          ],
          "name": "stdout"
        }
      ]
    },
    {
      "metadata": {
        "id": "Lt9_tZnw_Q61",
        "colab_type": "code",
        "colab": {},
        "outputId": "f10bcaf8-e41b-4d03-f38d-0143442442d3"
      },
      "cell_type": "code",
      "source": [
        "#VIF for FA\n",
        "y = food_df.loc[:,['overall']]\n",
        "X = food_df.loc[:,['fa1','fa2','fa3']] \n",
        "y, X = dmatrices('overall ~ fa1+fa2+fa3 ', data=food_df, return_type=\"dataframe\")\n",
        "vif = [variance_inflation_factor(X.values, i) for i in range(X.shape[1])]\n",
        "print('')\n",
        "print('----- VIF for FA Model -----')\n",
        "print('')\n",
        "print(vif)"
      ],
      "execution_count": 0,
      "outputs": [
        {
          "output_type": "stream",
          "text": [
            "\n",
            "----- VIF for FA Model -----\n",
            "\n",
            "[1.0, 1.0, 1.0000000000000002, 1.0000000000000002]\n"
          ],
          "name": "stdout"
        }
      ]
    },
    {
      "metadata": {
        "id": "OGdspllW_Q65",
        "colab_type": "code",
        "colab": {},
        "outputId": "fd3aa55b-3298-4acb-e7d0-fcb7eb0dc64c"
      },
      "cell_type": "code",
      "source": [
        "#Which model do you like best and why?\n",
        "#For the full regression model sum the coefficients for each three variable\n",
        "#grouping, taste, temp freshness group 1\n",
        "group1_coeff = 0.2249 + 0.0788 + 0.0899\n",
        "print(group1_coeff)\n",
        "#wait, clean, friend group 2\n",
        "group2_coeff = 0.1706 + 0.0660 + 0.0625\n",
        "print(group2_coeff)\n",
        "# location, parking, view group 3\n",
        "group3_coeff = 0.1552 + 0.0797 + 0.0597\n",
        "print(group3_coeff)\n",
        "print(group1_coeff + group2_coeff + group3_coeff)\n",
        "#How do you interpret this info?\n",
        "#Compare with the choice model"
      ],
      "execution_count": 0,
      "outputs": [
        {
          "output_type": "stream",
          "text": [
            "0.39359999999999995\n",
            "0.29910000000000003\n",
            "0.2946\n",
            "0.9873\n"
          ],
          "name": "stdout"
        }
      ]
    },
    {
      "metadata": {
        "id": "Iu_JtWh-_Q67",
        "colab_type": "code",
        "colab": {}
      },
      "cell_type": "code",
      "source": [
        "#Principle Components Analysis (PCA)\n",
        "# Uncorrelated features that emobody a dateset's important information (\"it's variance\") with the redundancy, noise, and outliers stripped out."
      ],
      "execution_count": 0,
      "outputs": []
    },
    {
      "metadata": {
        "id": "Z65zi7dZ_Q69",
        "colab_type": "code",
        "colab": {}
      },
      "cell_type": "code",
      "source": [
        "#Factor Analysis\n",
        "# A method used to explore datasets to find root causes to explain why data is acting a certain way.\n",
        "# Factors (aka latent variables) = variables that are quite meaningful, but are inferred and not directly observable.\n",
        "# Synthetic representations of our dataset with extra dimensionality and information redudundancy stripped-out.\n",
        "\n",
        "#  FA Assumptions\n",
        "#1) features are metric\n",
        "#2) features are continuous or ordinal\n",
        "#3) There is r > 0.3 for the features in the dataset\n",
        "#4) You have greater than > 100 observations and > 5 observations per feature\n",
        "#5) Sample is homogenous"
      ],
      "execution_count": 0,
      "outputs": []
    },
    {
      "metadata": {
        "id": "HmbjF5iZ_sJY",
        "colab_type": "text"
      },
      "cell_type": "markdown",
      "source": [
        "#### Conclusion"
      ]
    },
    {
      "metadata": {
        "id": "-p6BynvQ_sT-",
        "colab_type": "text"
      },
      "cell_type": "markdown",
      "source": [
        "Several models were developed and tested to predict overall restaurant ratings using survey data. The two best multiple regression models were derived using principle component and factor analysis. Both models removed the noise to help explain our dataset with fewer variables. The PCA model was selected, as it is easier to explain the component variables."
      ]
    },
    {
      "metadata": {
        "id": "K1yrKb4m_71P",
        "colab_type": "text"
      },
      "cell_type": "markdown",
      "source": [
        "In visualizing our PCA analysis, it was easier to identify the variances and component variables. The first component reflects food quality since the heatmap shows a strong negative correlation with these variables. The second principle component reflects service. The third principle component reflects convenience. The principle components were confirmed using the biplot visualization."
      ]
    },
    {
      "metadata": {
        "id": "LPL196Ex_yGN",
        "colab_type": "text"
      },
      "cell_type": "markdown",
      "source": [
        "To answer the question, the restaurant owner should focus on food quality to raise the overall rating. When this principle component variable was removed from the regression, it had the largest change on the adjusted R-squared value. My recommendation would be to not have bad food, or conversely have good food!"
      ]
    }
  ]
}